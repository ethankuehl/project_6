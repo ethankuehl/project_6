{
 "cells": [
  {
   "cell_type": "markdown",
   "metadata": {},
   "source": [
    "# Logistic Regression Classification\n",
    "\n",
    "In this notebook, I will explore how logistic regression performs with my both my binary and multiclass labels. I perform various experiments to evaluate the efficacy of logistic regression and ultimately find a model that performs well for pitchers that have a more even mixture of pitches compared to fastball dominant pitchers.  "
   ]
  },
  {
   "cell_type": "code",
   "execution_count": 1,
   "metadata": {
    "ExecuteTime": {
     "end_time": "2021-03-18T04:02:59.789006Z",
     "start_time": "2021-03-18T04:02:56.546627Z"
    }
   },
   "outputs": [],
   "source": [
    "import pandas as pd\n",
    "import numpy as np\n",
    "import matplotlib.pyplot as plt\n",
    "import seaborn as sns\n",
    "import random\n",
    "import sklearn.metrics as metrics\n",
    "import boto3\n",
    "import math\n",
    "\n",
    "\n",
    "from sklearn.model_selection import train_test_split\n",
    "from sklearn.neighbors import KNeighborsClassifier\n",
    "from sklearn.pipeline import Pipeline\n",
    "from sklearn.model_selection import train_test_split, GridSearchCV\n",
    "from sklearn.preprocessing import MinMaxScaler\n",
    "from sklearn.linear_model import LogisticRegression\n",
    "from statsmodels.stats.outliers_influence import variance_inflation_factor\n",
    "from sklearn.decomposition import PCA\n",
    "from sklearn.preprocessing import LabelEncoder"
   ]
  },
  {
   "cell_type": "code",
   "execution_count": 2,
   "metadata": {
    "ExecuteTime": {
     "end_time": "2021-03-18T04:02:59.811964Z",
     "start_time": "2021-03-18T04:02:59.791687Z"
    }
   },
   "outputs": [],
   "source": [
    "random.seed(16)"
   ]
  },
  {
   "cell_type": "markdown",
   "metadata": {},
   "source": [
    "## Reading in Binary and Multiclass DataFrames"
   ]
  },
  {
   "cell_type": "code",
   "execution_count": 3,
   "metadata": {
    "ExecuteTime": {
     "end_time": "2021-03-18T04:03:13.707060Z",
     "start_time": "2021-03-18T04:02:59.861258Z"
    }
   },
   "outputs": [],
   "source": [
    "# Specifying s3 as boto3 resource and connecting to bucket\n",
    "s3 = boto3.resource('s3')\n",
    "bucketname = 'baseballstats'\n",
    "\n",
    "# Name of files within the bucket\n",
    "binary_label = 'statcast_data/clean_2019_binary_label.csv'\n",
    "\n",
    "# multiclass 2019 DataFrame\n",
    "multiclass_label = 'statcast_data/clean_2019_3.csv'\n",
    "\n",
    "# Specifying location of files\n",
    "multiclass_obj = s3.Object(bucketname, multiclass_label)\n",
    "binary_obj = s3.Object(bucketname, binary_label)\n",
    "\n",
    "# Getting the body of the files\n",
    "multiclass = multiclass_obj.get()['Body']\n",
    "binary = binary_obj.get()['Body']\n",
    "\n",
    "# Reading the boto3 object into a csv\n",
    "\n",
    "# df is my default for binary labels\n",
    "df = pd.read_csv(binary)\n",
    "\n",
    "# df_3 is my default for \n",
    "df_3 = pd.read_csv(multiclass)"
   ]
  },
  {
   "cell_type": "code",
   "execution_count": 4,
   "metadata": {
    "ExecuteTime": {
     "end_time": "2021-03-18T04:03:14.275395Z",
     "start_time": "2021-03-18T04:03:13.720561Z"
    }
   },
   "outputs": [
    {
     "data": {
      "text/html": [
       "<div>\n",
       "<style scoped>\n",
       "    .dataframe tbody tr th:only-of-type {\n",
       "        vertical-align: middle;\n",
       "    }\n",
       "\n",
       "    .dataframe tbody tr th {\n",
       "        vertical-align: top;\n",
       "    }\n",
       "\n",
       "    .dataframe thead th {\n",
       "        text-align: right;\n",
       "    }\n",
       "</style>\n",
       "<table border=\"1\" class=\"dataframe\">\n",
       "  <thead>\n",
       "    <tr style=\"text-align: right;\">\n",
       "      <th></th>\n",
       "      <th>balls</th>\n",
       "      <th>strikes</th>\n",
       "      <th>on_1b</th>\n",
       "      <th>outs_when_up</th>\n",
       "      <th>inning</th>\n",
       "      <th>pitch</th>\n",
       "      <th>offspeed_in_sequence</th>\n",
       "      <th>fastball_in_sequence</th>\n",
       "      <th>proportion_of_fastballs_thrown_2018</th>\n",
       "      <th>previous_pitch</th>\n",
       "      <th>...</th>\n",
       "      <th>if_fielding_alignment_Standard</th>\n",
       "      <th>of_fielding_alignment_4th outfielder</th>\n",
       "      <th>of_fielding_alignment_Standard</th>\n",
       "      <th>risp</th>\n",
       "      <th>run_diff</th>\n",
       "      <th>inning_topbot_Top</th>\n",
       "      <th>previous_type_B</th>\n",
       "      <th>previous_type_S</th>\n",
       "      <th>hitter_woba_2018</th>\n",
       "      <th>average_hitter_launch_speed_2018</th>\n",
       "    </tr>\n",
       "  </thead>\n",
       "  <tbody>\n",
       "    <tr>\n",
       "      <th>0</th>\n",
       "      <td>3.0</td>\n",
       "      <td>2.0</td>\n",
       "      <td>0.0</td>\n",
       "      <td>2.0</td>\n",
       "      <td>9.0</td>\n",
       "      <td>0</td>\n",
       "      <td>1</td>\n",
       "      <td>5</td>\n",
       "      <td>0.558863</td>\n",
       "      <td>1</td>\n",
       "      <td>...</td>\n",
       "      <td>0</td>\n",
       "      <td>0</td>\n",
       "      <td>1</td>\n",
       "      <td>0</td>\n",
       "      <td>4.0</td>\n",
       "      <td>0</td>\n",
       "      <td>0</td>\n",
       "      <td>1</td>\n",
       "      <td>0.366304</td>\n",
       "      <td>90.160819</td>\n",
       "    </tr>\n",
       "    <tr>\n",
       "      <th>1</th>\n",
       "      <td>3.0</td>\n",
       "      <td>2.0</td>\n",
       "      <td>0.0</td>\n",
       "      <td>2.0</td>\n",
       "      <td>9.0</td>\n",
       "      <td>1</td>\n",
       "      <td>1</td>\n",
       "      <td>4</td>\n",
       "      <td>0.558863</td>\n",
       "      <td>1</td>\n",
       "      <td>...</td>\n",
       "      <td>0</td>\n",
       "      <td>0</td>\n",
       "      <td>1</td>\n",
       "      <td>0</td>\n",
       "      <td>4.0</td>\n",
       "      <td>0</td>\n",
       "      <td>1</td>\n",
       "      <td>0</td>\n",
       "      <td>0.366304</td>\n",
       "      <td>90.160819</td>\n",
       "    </tr>\n",
       "    <tr>\n",
       "      <th>2</th>\n",
       "      <td>2.0</td>\n",
       "      <td>2.0</td>\n",
       "      <td>0.0</td>\n",
       "      <td>2.0</td>\n",
       "      <td>9.0</td>\n",
       "      <td>1</td>\n",
       "      <td>1</td>\n",
       "      <td>3</td>\n",
       "      <td>0.558863</td>\n",
       "      <td>1</td>\n",
       "      <td>...</td>\n",
       "      <td>0</td>\n",
       "      <td>0</td>\n",
       "      <td>1</td>\n",
       "      <td>0</td>\n",
       "      <td>4.0</td>\n",
       "      <td>0</td>\n",
       "      <td>0</td>\n",
       "      <td>1</td>\n",
       "      <td>0.366304</td>\n",
       "      <td>90.160819</td>\n",
       "    </tr>\n",
       "    <tr>\n",
       "      <th>3</th>\n",
       "      <td>2.0</td>\n",
       "      <td>1.0</td>\n",
       "      <td>0.0</td>\n",
       "      <td>2.0</td>\n",
       "      <td>9.0</td>\n",
       "      <td>1</td>\n",
       "      <td>1</td>\n",
       "      <td>2</td>\n",
       "      <td>0.558863</td>\n",
       "      <td>0</td>\n",
       "      <td>...</td>\n",
       "      <td>0</td>\n",
       "      <td>0</td>\n",
       "      <td>1</td>\n",
       "      <td>0</td>\n",
       "      <td>4.0</td>\n",
       "      <td>0</td>\n",
       "      <td>1</td>\n",
       "      <td>0</td>\n",
       "      <td>0.366304</td>\n",
       "      <td>90.160819</td>\n",
       "    </tr>\n",
       "    <tr>\n",
       "      <th>4</th>\n",
       "      <td>1.0</td>\n",
       "      <td>1.0</td>\n",
       "      <td>0.0</td>\n",
       "      <td>2.0</td>\n",
       "      <td>9.0</td>\n",
       "      <td>0</td>\n",
       "      <td>0</td>\n",
       "      <td>2</td>\n",
       "      <td>0.558863</td>\n",
       "      <td>1</td>\n",
       "      <td>...</td>\n",
       "      <td>0</td>\n",
       "      <td>0</td>\n",
       "      <td>1</td>\n",
       "      <td>0</td>\n",
       "      <td>4.0</td>\n",
       "      <td>0</td>\n",
       "      <td>0</td>\n",
       "      <td>1</td>\n",
       "      <td>0.366304</td>\n",
       "      <td>90.160819</td>\n",
       "    </tr>\n",
       "  </tbody>\n",
       "</table>\n",
       "<p>5 rows × 24 columns</p>\n",
       "</div>"
      ],
      "text/plain": [
       "   balls  strikes  on_1b  outs_when_up  inning  pitch  offspeed_in_sequence  \\\n",
       "0    3.0      2.0    0.0           2.0     9.0      0                     1   \n",
       "1    3.0      2.0    0.0           2.0     9.0      1                     1   \n",
       "2    2.0      2.0    0.0           2.0     9.0      1                     1   \n",
       "3    2.0      1.0    0.0           2.0     9.0      1                     1   \n",
       "4    1.0      1.0    0.0           2.0     9.0      0                     0   \n",
       "\n",
       "   fastball_in_sequence  proportion_of_fastballs_thrown_2018  previous_pitch  \\\n",
       "0                     5                             0.558863               1   \n",
       "1                     4                             0.558863               1   \n",
       "2                     3                             0.558863               1   \n",
       "3                     2                             0.558863               0   \n",
       "4                     2                             0.558863               1   \n",
       "\n",
       "   ...  if_fielding_alignment_Standard  of_fielding_alignment_4th outfielder  \\\n",
       "0  ...                               0                                     0   \n",
       "1  ...                               0                                     0   \n",
       "2  ...                               0                                     0   \n",
       "3  ...                               0                                     0   \n",
       "4  ...                               0                                     0   \n",
       "\n",
       "   of_fielding_alignment_Standard  risp  run_diff  inning_topbot_Top  \\\n",
       "0                               1     0       4.0                  0   \n",
       "1                               1     0       4.0                  0   \n",
       "2                               1     0       4.0                  0   \n",
       "3                               1     0       4.0                  0   \n",
       "4                               1     0       4.0                  0   \n",
       "\n",
       "   previous_type_B  previous_type_S  hitter_woba_2018  \\\n",
       "0                0                1          0.366304   \n",
       "1                1                0          0.366304   \n",
       "2                0                1          0.366304   \n",
       "3                1                0          0.366304   \n",
       "4                0                1          0.366304   \n",
       "\n",
       "   average_hitter_launch_speed_2018  \n",
       "0                         90.160819  \n",
       "1                         90.160819  \n",
       "2                         90.160819  \n",
       "3                         90.160819  \n",
       "4                         90.160819  \n",
       "\n",
       "[5 rows x 24 columns]"
      ]
     },
     "execution_count": 4,
     "metadata": {},
     "output_type": "execute_result"
    }
   ],
   "source": [
    "df.head()"
   ]
  },
  {
   "cell_type": "code",
   "execution_count": 5,
   "metadata": {
    "ExecuteTime": {
     "end_time": "2021-03-18T04:03:14.316409Z",
     "start_time": "2021-03-18T04:03:14.279464Z"
    }
   },
   "outputs": [
    {
     "data": {
      "text/plain": [
       "1    281249\n",
       "0    200050\n",
       "Name: pitch, dtype: int64"
      ]
     },
     "execution_count": 5,
     "metadata": {},
     "output_type": "execute_result"
    }
   ],
   "source": [
    "df['pitch'].value_counts()"
   ]
  },
  {
   "cell_type": "code",
   "execution_count": 6,
   "metadata": {
    "ExecuteTime": {
     "end_time": "2021-03-18T04:03:14.354717Z",
     "start_time": "2021-03-18T04:03:14.322458Z"
    }
   },
   "outputs": [
    {
     "data": {
      "text/html": [
       "<div>\n",
       "<style scoped>\n",
       "    .dataframe tbody tr th:only-of-type {\n",
       "        vertical-align: middle;\n",
       "    }\n",
       "\n",
       "    .dataframe tbody tr th {\n",
       "        vertical-align: top;\n",
       "    }\n",
       "\n",
       "    .dataframe thead th {\n",
       "        text-align: right;\n",
       "    }\n",
       "</style>\n",
       "<table border=\"1\" class=\"dataframe\">\n",
       "  <thead>\n",
       "    <tr style=\"text-align: right;\">\n",
       "      <th></th>\n",
       "      <th>balls</th>\n",
       "      <th>strikes</th>\n",
       "      <th>on_1b</th>\n",
       "      <th>outs_when_up</th>\n",
       "      <th>inning</th>\n",
       "      <th>pitch</th>\n",
       "      <th>offspeed_in_sequence</th>\n",
       "      <th>fastball_in_sequence</th>\n",
       "      <th>proportion_of_fastballs_thrown_2018</th>\n",
       "      <th>previous_pitch</th>\n",
       "      <th>...</th>\n",
       "      <th>if_fielding_alignment_Standard</th>\n",
       "      <th>of_fielding_alignment_4th outfielder</th>\n",
       "      <th>of_fielding_alignment_Standard</th>\n",
       "      <th>risp</th>\n",
       "      <th>run_diff</th>\n",
       "      <th>inning_topbot_Top</th>\n",
       "      <th>previous_type_B</th>\n",
       "      <th>previous_type_S</th>\n",
       "      <th>hitter_woba_2018</th>\n",
       "      <th>average_hitter_launch_speed_2018</th>\n",
       "    </tr>\n",
       "  </thead>\n",
       "  <tbody>\n",
       "    <tr>\n",
       "      <th>0</th>\n",
       "      <td>3.0</td>\n",
       "      <td>2.0</td>\n",
       "      <td>0.0</td>\n",
       "      <td>2.0</td>\n",
       "      <td>9.0</td>\n",
       "      <td>0</td>\n",
       "      <td>1</td>\n",
       "      <td>5</td>\n",
       "      <td>0.558863</td>\n",
       "      <td>1</td>\n",
       "      <td>...</td>\n",
       "      <td>0</td>\n",
       "      <td>0</td>\n",
       "      <td>1</td>\n",
       "      <td>0</td>\n",
       "      <td>4.0</td>\n",
       "      <td>0</td>\n",
       "      <td>0</td>\n",
       "      <td>1</td>\n",
       "      <td>0.366304</td>\n",
       "      <td>90.160819</td>\n",
       "    </tr>\n",
       "    <tr>\n",
       "      <th>1</th>\n",
       "      <td>3.0</td>\n",
       "      <td>2.0</td>\n",
       "      <td>0.0</td>\n",
       "      <td>2.0</td>\n",
       "      <td>9.0</td>\n",
       "      <td>1</td>\n",
       "      <td>1</td>\n",
       "      <td>4</td>\n",
       "      <td>0.558863</td>\n",
       "      <td>1</td>\n",
       "      <td>...</td>\n",
       "      <td>0</td>\n",
       "      <td>0</td>\n",
       "      <td>1</td>\n",
       "      <td>0</td>\n",
       "      <td>4.0</td>\n",
       "      <td>0</td>\n",
       "      <td>1</td>\n",
       "      <td>0</td>\n",
       "      <td>0.366304</td>\n",
       "      <td>90.160819</td>\n",
       "    </tr>\n",
       "    <tr>\n",
       "      <th>2</th>\n",
       "      <td>2.0</td>\n",
       "      <td>2.0</td>\n",
       "      <td>0.0</td>\n",
       "      <td>2.0</td>\n",
       "      <td>9.0</td>\n",
       "      <td>1</td>\n",
       "      <td>1</td>\n",
       "      <td>3</td>\n",
       "      <td>0.558863</td>\n",
       "      <td>1</td>\n",
       "      <td>...</td>\n",
       "      <td>0</td>\n",
       "      <td>0</td>\n",
       "      <td>1</td>\n",
       "      <td>0</td>\n",
       "      <td>4.0</td>\n",
       "      <td>0</td>\n",
       "      <td>0</td>\n",
       "      <td>1</td>\n",
       "      <td>0.366304</td>\n",
       "      <td>90.160819</td>\n",
       "    </tr>\n",
       "    <tr>\n",
       "      <th>3</th>\n",
       "      <td>2.0</td>\n",
       "      <td>1.0</td>\n",
       "      <td>0.0</td>\n",
       "      <td>2.0</td>\n",
       "      <td>9.0</td>\n",
       "      <td>1</td>\n",
       "      <td>1</td>\n",
       "      <td>2</td>\n",
       "      <td>0.558863</td>\n",
       "      <td>0</td>\n",
       "      <td>...</td>\n",
       "      <td>0</td>\n",
       "      <td>0</td>\n",
       "      <td>1</td>\n",
       "      <td>0</td>\n",
       "      <td>4.0</td>\n",
       "      <td>0</td>\n",
       "      <td>1</td>\n",
       "      <td>0</td>\n",
       "      <td>0.366304</td>\n",
       "      <td>90.160819</td>\n",
       "    </tr>\n",
       "    <tr>\n",
       "      <th>4</th>\n",
       "      <td>1.0</td>\n",
       "      <td>1.0</td>\n",
       "      <td>0.0</td>\n",
       "      <td>2.0</td>\n",
       "      <td>9.0</td>\n",
       "      <td>0</td>\n",
       "      <td>0</td>\n",
       "      <td>2</td>\n",
       "      <td>0.558863</td>\n",
       "      <td>1</td>\n",
       "      <td>...</td>\n",
       "      <td>0</td>\n",
       "      <td>0</td>\n",
       "      <td>1</td>\n",
       "      <td>0</td>\n",
       "      <td>4.0</td>\n",
       "      <td>0</td>\n",
       "      <td>0</td>\n",
       "      <td>1</td>\n",
       "      <td>0.366304</td>\n",
       "      <td>90.160819</td>\n",
       "    </tr>\n",
       "  </tbody>\n",
       "</table>\n",
       "<p>5 rows × 24 columns</p>\n",
       "</div>"
      ],
      "text/plain": [
       "   balls  strikes  on_1b  outs_when_up  inning  pitch  offspeed_in_sequence  \\\n",
       "0    3.0      2.0    0.0           2.0     9.0      0                     1   \n",
       "1    3.0      2.0    0.0           2.0     9.0      1                     1   \n",
       "2    2.0      2.0    0.0           2.0     9.0      1                     1   \n",
       "3    2.0      1.0    0.0           2.0     9.0      1                     1   \n",
       "4    1.0      1.0    0.0           2.0     9.0      0                     0   \n",
       "\n",
       "   fastball_in_sequence  proportion_of_fastballs_thrown_2018  previous_pitch  \\\n",
       "0                     5                             0.558863               1   \n",
       "1                     4                             0.558863               1   \n",
       "2                     3                             0.558863               1   \n",
       "3                     2                             0.558863               0   \n",
       "4                     2                             0.558863               1   \n",
       "\n",
       "   ...  if_fielding_alignment_Standard  of_fielding_alignment_4th outfielder  \\\n",
       "0  ...                               0                                     0   \n",
       "1  ...                               0                                     0   \n",
       "2  ...                               0                                     0   \n",
       "3  ...                               0                                     0   \n",
       "4  ...                               0                                     0   \n",
       "\n",
       "   of_fielding_alignment_Standard  risp  run_diff  inning_topbot_Top  \\\n",
       "0                               1     0       4.0                  0   \n",
       "1                               1     0       4.0                  0   \n",
       "2                               1     0       4.0                  0   \n",
       "3                               1     0       4.0                  0   \n",
       "4                               1     0       4.0                  0   \n",
       "\n",
       "   previous_type_B  previous_type_S  hitter_woba_2018  \\\n",
       "0                0                1          0.366304   \n",
       "1                1                0          0.366304   \n",
       "2                0                1          0.366304   \n",
       "3                1                0          0.366304   \n",
       "4                0                1          0.366304   \n",
       "\n",
       "   average_hitter_launch_speed_2018  \n",
       "0                         90.160819  \n",
       "1                         90.160819  \n",
       "2                         90.160819  \n",
       "3                         90.160819  \n",
       "4                         90.160819  \n",
       "\n",
       "[5 rows x 24 columns]"
      ]
     },
     "execution_count": 6,
     "metadata": {},
     "output_type": "execute_result"
    }
   ],
   "source": [
    "df.head()"
   ]
  },
  {
   "cell_type": "code",
   "execution_count": 7,
   "metadata": {
    "ExecuteTime": {
     "end_time": "2021-03-18T04:03:14.549877Z",
     "start_time": "2021-03-18T04:03:14.365362Z"
    }
   },
   "outputs": [
    {
     "data": {
      "text/plain": [
       "1    0.584354\n",
       "0    0.415646\n",
       "Name: pitch, dtype: float64"
      ]
     },
     "execution_count": 7,
     "metadata": {},
     "output_type": "execute_result"
    }
   ],
   "source": [
    "# Baseline accuracy\n",
    "df['pitch'].value_counts(normalize=True)"
   ]
  },
  {
   "cell_type": "code",
   "execution_count": 8,
   "metadata": {
    "ExecuteTime": {
     "end_time": "2021-03-18T04:03:14.942535Z",
     "start_time": "2021-03-18T04:03:14.557204Z"
    }
   },
   "outputs": [
    {
     "data": {
      "text/plain": [
       "balls                                   0\n",
       "strikes                                 0\n",
       "on_1b                                   0\n",
       "outs_when_up                            0\n",
       "inning                                  0\n",
       "pitch                                   0\n",
       "offspeed_in_sequence                    0\n",
       "fastball_in_sequence                    0\n",
       "proportion_of_fastballs_thrown_2018     0\n",
       "previous_pitch                          0\n",
       "previous_zone                           0\n",
       "stand_R                                 0\n",
       "p_throws_R                              0\n",
       "if_fielding_alignment_Infield shift     0\n",
       "if_fielding_alignment_Standard          0\n",
       "of_fielding_alignment_4th outfielder    0\n",
       "of_fielding_alignment_Standard          0\n",
       "risp                                    0\n",
       "run_diff                                0\n",
       "inning_topbot_Top                       0\n",
       "previous_type_B                         0\n",
       "previous_type_S                         0\n",
       "hitter_woba_2018                        0\n",
       "average_hitter_launch_speed_2018        0\n",
       "dtype: int64"
      ]
     },
     "execution_count": 8,
     "metadata": {},
     "output_type": "execute_result"
    }
   ],
   "source": [
    "df.isna().sum()"
   ]
  },
  {
   "cell_type": "code",
   "execution_count": 9,
   "metadata": {
    "ExecuteTime": {
     "end_time": "2021-03-18T04:03:14.967309Z",
     "start_time": "2021-03-18T04:03:14.952671Z"
    }
   },
   "outputs": [],
   "source": [
    "def binary_classification_metrics(gs, X_test, y_test):\n",
    "    \n",
    "    y_hat = gs.predict(X_test)\n",
    "    accuracy = metrics.accuracy_score(y_test, y_hat) \n",
    "\n",
    "    sensitivity =  metrics.recall_score(y_test, y_hat)\n",
    "\n",
    "    precision = metrics.precision_score(y_test, y_hat)\n",
    "    \n",
    "\n",
    "    f1 = metrics.f1_score(y_test, y_hat)\n",
    "    \n",
    "    \n",
    "    print('My accuracy is: ', round(accuracy,4))\n",
    "    print('My sensitivity is: ', round(sensitivity,4))\n",
    "    print('My precision is: ', round(precision,4))\n",
    "    print('My f1 score is: ', round(f1,4))\n",
    "    \n",
    "    cm = np.array([['True Negative', 'False Positive'],\n",
    "                            ['False Negative', 'True Positive']])\n",
    "\n",
    "    cm = pd.DataFrame(cm,columns = ['Pred Offspeed', 'Pred Fastball'], \n",
    "                      index = ['Actual Offspeed','Actual Fastball'])\n",
    "    \n",
    "    # Displaying sample confusion matrix\n",
    "    display(cm)\n",
    "\n",
    "    # Displaying actual confusion matrix \n",
    "    metrics.plot_confusion_matrix(gs, X_test, y_test, cmap='Accent', \n",
    "                          values_format='d', display_labels=['Offspeed Pitch', \n",
    "                                                             'Fastball Pitch']);\n",
    "    \n",
    "    metrics.plot_roc_curve(gs, X_test, y_test)\n",
    "    # add worst case scenario line\n",
    "    plt.plot([0, 1], [0, 1])\n",
    "    plt.title('ROC AUC Curve');\n",
    "    \n",
    "    print(f'My ROC AUC score is: {metrics.roc_auc_score(y_test, y_hat)}')"
   ]
  },
  {
   "cell_type": "code",
   "execution_count": 10,
   "metadata": {
    "ExecuteTime": {
     "end_time": "2021-03-18T04:03:16.668077Z",
     "start_time": "2021-03-18T04:03:14.990842Z"
    }
   },
   "outputs": [],
   "source": [
    "# Creating independent and target variables\n",
    "X = df.drop(columns=['pitch'])\n",
    "y = df['pitch']"
   ]
  },
  {
   "cell_type": "code",
   "execution_count": 11,
   "metadata": {
    "ExecuteTime": {
     "end_time": "2021-03-18T04:03:19.680382Z",
     "start_time": "2021-03-18T04:03:16.674393Z"
    },
    "code_folding": []
   },
   "outputs": [],
   "source": [
    "# Train-test-splitting data\n",
    "X_train, X_test, y_train, y_test = train_test_split(X, y, test_size=0.25, \n",
    "                                                    random_state=16, stratify=y)"
   ]
  },
  {
   "cell_type": "code",
   "execution_count": 12,
   "metadata": {
    "ExecuteTime": {
     "end_time": "2021-03-18T04:03:19.701277Z",
     "start_time": "2021-03-18T04:03:19.684778Z"
    }
   },
   "outputs": [
    {
     "data": {
      "text/plain": [
       "1    0.584351\n",
       "0    0.415649\n",
       "Name: pitch, dtype: float64"
      ]
     },
     "execution_count": 12,
     "metadata": {},
     "output_type": "execute_result"
    }
   ],
   "source": [
    "# Stratify ensures even distribution between the target labels\n",
    "y_test.value_counts(normalize=True)"
   ]
  },
  {
   "cell_type": "markdown",
   "metadata": {},
   "source": [
    "## First Experiments \n",
    "* Analyzing whether data passed in as is after cleaning presents good results or if I need to consider pre-processing to get rid of multicollinearity\n",
    "* I experiments with both grid-searching over both the accuracy and weighted F1-score to determine if I can prevent over-predicting a fastball."
   ]
  },
  {
   "cell_type": "markdown",
   "metadata": {},
   "source": [
    "### Constructing Logistic Regression Pipeline "
   ]
  },
  {
   "cell_type": "code",
   "execution_count": 13,
   "metadata": {
    "ExecuteTime": {
     "end_time": "2021-03-18T04:03:19.718845Z",
     "start_time": "2021-03-18T04:03:19.704180Z"
    },
    "code_folding": []
   },
   "outputs": [],
   "source": [
    "# Constructing pipeline to train logistic regression model. Need to scale the \n",
    "# independent variables to ensure all features are unitless. \n",
    "pipe = Pipeline([\n",
    "    \n",
    "    ('mm', MinMaxScaler()),\n",
    "    ('lr', LogisticRegression())\n",
    "    \n",
    "])"
   ]
  },
  {
   "cell_type": "markdown",
   "metadata": {},
   "source": [
    "### First Parameters to Gridsearch Over"
   ]
  },
  {
   "cell_type": "code",
   "execution_count": 14,
   "metadata": {
    "ExecuteTime": {
     "end_time": "2021-03-18T04:03:19.737624Z",
     "start_time": "2021-03-18T04:03:19.733347Z"
    }
   },
   "outputs": [],
   "source": [
    "# Creating dictionary of parameters to gridsearch over\n",
    "params = {\n",
    "    'lr__solver': ['liblinear','saga'],\n",
    "    'lr__penalty': ['l1','l2', 'elasticnet'],\n",
    "    'lr__C' : [0.0001, 0.001, 0.01, 0.1, 1, 10, 100, 1000],\n",
    "    'lr__class_weight': [None, 'balanced']\n",
    "}"
   ]
  },
  {
   "cell_type": "markdown",
   "metadata": {},
   "source": [
    "### Gridsearching with F1_Weighted Scoring\n",
    "\n",
    "By gridsearching with the F1_weighted scoring, I am maximizing the harmonic mean of the precision and recall score. It is my hope that by gridsearching with this scoring system I am able to minimize over-predicting a fastball.   "
   ]
  },
  {
   "cell_type": "code",
   "execution_count": 15,
   "metadata": {
    "ExecuteTime": {
     "end_time": "2021-03-18T04:03:19.754867Z",
     "start_time": "2021-03-18T04:03:19.750160Z"
    }
   },
   "outputs": [],
   "source": [
    "# Instantietating gridsearch with pipeline\n",
    "gs_f1 = GridSearchCV(pipe, param_grid=params, n_jobs=-1, verbose=1, cv=5, scoring='f1_weighted')"
   ]
  },
  {
   "cell_type": "code",
   "execution_count": 16,
   "metadata": {
    "ExecuteTime": {
     "end_time": "2021-03-18T04:20:51.592463Z",
     "start_time": "2021-03-18T04:03:19.758975Z"
    }
   },
   "outputs": [
    {
     "name": "stdout",
     "output_type": "stream",
     "text": [
      "Fitting 5 folds for each of 96 candidates, totalling 480 fits\n"
     ]
    },
    {
     "name": "stderr",
     "output_type": "stream",
     "text": [
      "[Parallel(n_jobs=-1)]: Using backend LokyBackend with 4 concurrent workers.\n",
      "[Parallel(n_jobs=-1)]: Done  42 tasks      | elapsed:   36.1s\n",
      "[Parallel(n_jobs=-1)]: Done 192 tasks      | elapsed:  5.3min\n",
      "[Parallel(n_jobs=-1)]: Done 442 tasks      | elapsed: 16.0min\n",
      "[Parallel(n_jobs=-1)]: Done 480 out of 480 | elapsed: 17.5min finished\n"
     ]
    }
   ],
   "source": [
    "# Fitting first logistic regression model \n",
    "gs_f1.fit(X_train, y_train);"
   ]
  },
  {
   "cell_type": "code",
   "execution_count": 17,
   "metadata": {
    "ExecuteTime": {
     "end_time": "2021-03-18T04:20:52.961682Z",
     "start_time": "2021-03-18T04:20:51.606989Z"
    }
   },
   "outputs": [
    {
     "name": "stdout",
     "output_type": "stream",
     "text": [
      "My accuracy is:  0.5993\n",
      "My sensitivity is:  0.5979\n",
      "My precision is:  0.6783\n",
      "My f1 score is:  0.6356\n"
     ]
    },
    {
     "data": {
      "text/html": [
       "<div>\n",
       "<style scoped>\n",
       "    .dataframe tbody tr th:only-of-type {\n",
       "        vertical-align: middle;\n",
       "    }\n",
       "\n",
       "    .dataframe tbody tr th {\n",
       "        vertical-align: top;\n",
       "    }\n",
       "\n",
       "    .dataframe thead th {\n",
       "        text-align: right;\n",
       "    }\n",
       "</style>\n",
       "<table border=\"1\" class=\"dataframe\">\n",
       "  <thead>\n",
       "    <tr style=\"text-align: right;\">\n",
       "      <th></th>\n",
       "      <th>Pred Offspeed</th>\n",
       "      <th>Pred Fastball</th>\n",
       "    </tr>\n",
       "  </thead>\n",
       "  <tbody>\n",
       "    <tr>\n",
       "      <th>Actual Offspeed</th>\n",
       "      <td>True Negative</td>\n",
       "      <td>False Positive</td>\n",
       "    </tr>\n",
       "    <tr>\n",
       "      <th>Actual Fastball</th>\n",
       "      <td>False Negative</td>\n",
       "      <td>True Positive</td>\n",
       "    </tr>\n",
       "  </tbody>\n",
       "</table>\n",
       "</div>"
      ],
      "text/plain": [
       "                  Pred Offspeed   Pred Fastball\n",
       "Actual Offspeed   True Negative  False Positive\n",
       "Actual Fastball  False Negative   True Positive"
      ]
     },
     "metadata": {},
     "output_type": "display_data"
    },
    {
     "name": "stdout",
     "output_type": "stream",
     "text": [
      "My ROC AUC score is: 0.5996350597268877\n"
     ]
    },
    {
     "data": {
      "image/png": "[encoded data removed]",
      "text/plain": [
       "<Figure size 432x288 with 2 Axes>"
      ]
     },
     "metadata": {
      "needs_background": "light"
     },
     "output_type": "display_data"
    },
    {
     "data": {
      "image/png": "[encoded data removed]",
      "text/plain": [
       "<Figure size 432x288 with 1 Axes>"
      ]
     },
     "metadata": {
      "needs_background": "light"
     },
     "output_type": "display_data"
    }
   ],
   "source": [
    "# Analyzing the classification metrics\n",
    "binary_classification_metrics(gs_f1, X_test, y_test);"
   ]
  },
  {
   "cell_type": "markdown",
   "metadata": {},
   "source": [
    "### Gridsearching with Accuracy Scoring\n",
    "\n",
    "With this scoring system I am trying to maximize the total accuracy, even if that means over-predicting the fastball occurrence. "
   ]
  },
  {
   "cell_type": "code",
   "execution_count": 18,
   "metadata": {
    "ExecuteTime": {
     "end_time": "2021-03-18T04:20:52.982110Z",
     "start_time": "2021-03-18T04:20:52.964834Z"
    }
   },
   "outputs": [],
   "source": [
    "gs_accuracy = GridSearchCV(pipe, param_grid=params, n_jobs=-1, verbose=1, cv=5, scoring='accuracy')"
   ]
  },
  {
   "cell_type": "code",
   "execution_count": 19,
   "metadata": {
    "ExecuteTime": {
     "end_time": "2021-03-18T04:37:21.359488Z",
     "start_time": "2021-03-18T04:20:52.996488Z"
    }
   },
   "outputs": [
    {
     "name": "stdout",
     "output_type": "stream",
     "text": [
      "Fitting 5 folds for each of 96 candidates, totalling 480 fits\n"
     ]
    },
    {
     "name": "stderr",
     "output_type": "stream",
     "text": [
      "[Parallel(n_jobs=-1)]: Using backend LokyBackend with 4 concurrent workers.\n",
      "[Parallel(n_jobs=-1)]: Done  42 tasks      | elapsed:   27.0s\n",
      "[Parallel(n_jobs=-1)]: Done 192 tasks      | elapsed:  4.0min\n",
      "[Parallel(n_jobs=-1)]: Done 442 tasks      | elapsed: 14.1min\n",
      "[Parallel(n_jobs=-1)]: Done 480 out of 480 | elapsed: 16.4min finished\n"
     ]
    }
   ],
   "source": [
    "gs_accuracy.fit(X_train, y_train);"
   ]
  },
  {
   "cell_type": "code",
   "execution_count": 20,
   "metadata": {
    "ExecuteTime": {
     "end_time": "2021-03-18T04:37:22.651149Z",
     "start_time": "2021-03-18T04:37:21.379457Z"
    }
   },
   "outputs": [
    {
     "name": "stdout",
     "output_type": "stream",
     "text": [
      "My accuracy is:  0.612\n",
      "My sensitivity is:  0.8139\n",
      "My precision is:  0.63\n",
      "My f1 score is:  0.7103\n"
     ]
    },
    {
     "data": {
      "text/html": [
       "<div>\n",
       "<style scoped>\n",
       "    .dataframe tbody tr th:only-of-type {\n",
       "        vertical-align: middle;\n",
       "    }\n",
       "\n",
       "    .dataframe tbody tr th {\n",
       "        vertical-align: top;\n",
       "    }\n",
       "\n",
       "    .dataframe thead th {\n",
       "        text-align: right;\n",
       "    }\n",
       "</style>\n",
       "<table border=\"1\" class=\"dataframe\">\n",
       "  <thead>\n",
       "    <tr style=\"text-align: right;\">\n",
       "      <th></th>\n",
       "      <th>Pred Offspeed</th>\n",
       "      <th>Pred Fastball</th>\n",
       "    </tr>\n",
       "  </thead>\n",
       "  <tbody>\n",
       "    <tr>\n",
       "      <th>Actual Offspeed</th>\n",
       "      <td>True Negative</td>\n",
       "      <td>False Positive</td>\n",
       "    </tr>\n",
       "    <tr>\n",
       "      <th>Actual Fastball</th>\n",
       "      <td>False Negative</td>\n",
       "      <td>True Positive</td>\n",
       "    </tr>\n",
       "  </tbody>\n",
       "</table>\n",
       "</div>"
      ],
      "text/plain": [
       "                  Pred Offspeed   Pred Fastball\n",
       "Actual Offspeed   True Negative  False Positive\n",
       "Actual Fastball  False Negative   True Positive"
      ]
     },
     "metadata": {},
     "output_type": "display_data"
    },
    {
     "name": "stdout",
     "output_type": "stream",
     "text": [
      "My ROC AUC score is: 0.5709791409973537\n"
     ]
    },
    {
     "data": {
      "image/png": "[encoded data removed]",
      "text/plain": [
       "<Figure size 432x288 with 2 Axes>"
      ]
     },
     "metadata": {
      "needs_background": "light"
     },
     "output_type": "display_data"
    },
    {
     "data": {
      "image/png": "[encoded data removed]",
      "text/plain": [
       "<Figure size 432x288 with 1 Axes>"
      ]
     },
     "metadata": {
      "needs_background": "light"
     },
     "output_type": "display_data"
    }
   ],
   "source": [
    "binary_classification_metrics(gs_accuracy, X_test, y_test);"
   ]
  },
  {
   "cell_type": "markdown",
   "metadata": {},
   "source": [
    "## Logistic Regression with Dummy Variables \n",
    "\n",
    "In this section I wanted to evaluate whether some variables are better posed in a categorical rather than\n",
    "continuous fashion. I initially assumed these variables had an ordinal nature, but that might not be the case."
   ]
  },
  {
   "cell_type": "code",
   "execution_count": 21,
   "metadata": {
    "ExecuteTime": {
     "end_time": "2021-03-18T04:37:23.926733Z",
     "start_time": "2021-03-18T04:37:22.654058Z"
    }
   },
   "outputs": [],
   "source": [
    "# Getting dummy variables for numerical variables that might not have order\n",
    "\n",
    "dummy_df = pd.get_dummies(data=df, columns=['balls', 'strikes', 'outs_when_up',\n",
    "                                           'inning', 'previous_pitch', \n",
    "                                            'previous_zone'], drop_first=True)"
   ]
  },
  {
   "cell_type": "code",
   "execution_count": 22,
   "metadata": {
    "ExecuteTime": {
     "end_time": "2021-03-18T04:37:24.363865Z",
     "start_time": "2021-03-18T04:37:23.929670Z"
    }
   },
   "outputs": [],
   "source": [
    "X_4 = dummy_df.drop(columns = ['pitch'])\n",
    "y_4 = dummy_df['pitch']"
   ]
  },
  {
   "cell_type": "code",
   "execution_count": 23,
   "metadata": {
    "ExecuteTime": {
     "end_time": "2021-03-18T04:37:25.446475Z",
     "start_time": "2021-03-18T04:37:24.390355Z"
    }
   },
   "outputs": [],
   "source": [
    "X_train_dum, X_test_dum, y_train_dum, y_test_dum = train_test_split(X_4, y_4, test_size=0.25, \n",
    "                                                    random_state=16, stratify=y)"
   ]
  },
  {
   "cell_type": "markdown",
   "metadata": {},
   "source": [
    "### Logistic Regression with Dummy Variables and Weighted F1 scoring "
   ]
  },
  {
   "cell_type": "code",
   "execution_count": 24,
   "metadata": {
    "ExecuteTime": {
     "end_time": "2021-03-18T04:37:25.455540Z",
     "start_time": "2021-03-18T04:37:25.451108Z"
    }
   },
   "outputs": [],
   "source": [
    "# Using same pipeline for the GridSearch \n",
    "gs_f2 = GridSearchCV(pipe, param_grid=params, n_jobs=-1, verbose=1, cv=5, scoring='f1_weighted')"
   ]
  },
  {
   "cell_type": "code",
   "execution_count": 25,
   "metadata": {
    "ExecuteTime": {
     "end_time": "2021-03-18T06:15:40.262893Z",
     "start_time": "2021-03-18T04:37:25.460185Z"
    }
   },
   "outputs": [
    {
     "name": "stdout",
     "output_type": "stream",
     "text": [
      "Fitting 5 folds for each of 96 candidates, totalling 480 fits\n"
     ]
    },
    {
     "name": "stderr",
     "output_type": "stream",
     "text": [
      "[Parallel(n_jobs=-1)]: Using backend LokyBackend with 4 concurrent workers.\n",
      "[Parallel(n_jobs=-1)]: Done  42 tasks      | elapsed:   38.3s\n",
      "[Parallel(n_jobs=-1)]: Done 192 tasks      | elapsed:  8.2min\n",
      "[Parallel(n_jobs=-1)]: Done 442 tasks      | elapsed: 95.5min\n",
      "[Parallel(n_jobs=-1)]: Done 480 out of 480 | elapsed: 98.1min finished\n"
     ]
    },
    {
     "data": {
      "text/plain": [
       "GridSearchCV(cv=5,\n",
       "             estimator=Pipeline(steps=[('mm', MinMaxScaler()),\n",
       "                                       ('lr', LogisticRegression())]),\n",
       "             n_jobs=-1,\n",
       "             param_grid={'lr__C': [0.0001, 0.001, 0.01, 0.1, 1, 10, 100, 1000],\n",
       "                         'lr__class_weight': [None, 'balanced'],\n",
       "                         'lr__penalty': ['l1', 'l2', 'elasticnet'],\n",
       "                         'lr__solver': ['liblinear', 'saga']},\n",
       "             scoring='f1_weighted', verbose=1)"
      ]
     },
     "execution_count": 25,
     "metadata": {},
     "output_type": "execute_result"
    }
   ],
   "source": [
    "gs_f2.fit(X_train_dum, y_train_dum)"
   ]
  },
  {
   "cell_type": "code",
   "execution_count": 26,
   "metadata": {
    "ExecuteTime": {
     "end_time": "2021-03-18T06:15:42.450573Z",
     "start_time": "2021-03-18T06:15:40.280480Z"
    }
   },
   "outputs": [
    {
     "name": "stdout",
     "output_type": "stream",
     "text": [
      "My accuracy is:  0.601\n",
      "My sensitivity is:  0.5898\n",
      "My precision is:  0.684\n",
      "My f1 score is:  0.6334\n"
     ]
    },
    {
     "data": {
      "text/html": [
       "<div>\n",
       "<style scoped>\n",
       "    .dataframe tbody tr th:only-of-type {\n",
       "        vertical-align: middle;\n",
       "    }\n",
       "\n",
       "    .dataframe tbody tr th {\n",
       "        vertical-align: top;\n",
       "    }\n",
       "\n",
       "    .dataframe thead th {\n",
       "        text-align: right;\n",
       "    }\n",
       "</style>\n",
       "<table border=\"1\" class=\"dataframe\">\n",
       "  <thead>\n",
       "    <tr style=\"text-align: right;\">\n",
       "      <th></th>\n",
       "      <th>Pred Offspeed</th>\n",
       "      <th>Pred Fastball</th>\n",
       "    </tr>\n",
       "  </thead>\n",
       "  <tbody>\n",
       "    <tr>\n",
       "      <th>Actual Offspeed</th>\n",
       "      <td>True Negative</td>\n",
       "      <td>False Positive</td>\n",
       "    </tr>\n",
       "    <tr>\n",
       "      <th>Actual Fastball</th>\n",
       "      <td>False Negative</td>\n",
       "      <td>True Positive</td>\n",
       "    </tr>\n",
       "  </tbody>\n",
       "</table>\n",
       "</div>"
      ],
      "text/plain": [
       "                  Pred Offspeed   Pred Fastball\n",
       "Actual Offspeed   True Negative  False Positive\n",
       "Actual Fastball  False Negative   True Positive"
      ]
     },
     "metadata": {},
     "output_type": "display_data"
    },
    {
     "name": "stdout",
     "output_type": "stream",
     "text": [
      "My ROC AUC score is: 0.6033383418103988\n"
     ]
    },
    {
     "data": {
      "image/png": "[encoded data removed]",
      "text/plain": [
       "<Figure size 432x288 with 2 Axes>"
      ]
     },
     "metadata": {
      "needs_background": "light"
     },
     "output_type": "display_data"
    },
    {
     "data": {
      "image/png": "[encoded data removed]",
      "text/plain": [
       "<Figure size 432x288 with 1 Axes>"
      ]
     },
     "metadata": {
      "needs_background": "light"
     },
     "output_type": "display_data"
    }
   ],
   "source": [
    "binary_classification_metrics(gs_f2, X_test_dum, y_test_dum);"
   ]
  },
  {
   "cell_type": "markdown",
   "metadata": {},
   "source": [
    "### Logistic Regression with Dummy Variables and Accuracy Scoring "
   ]
  },
  {
   "cell_type": "code",
   "execution_count": 27,
   "metadata": {
    "ExecuteTime": {
     "end_time": "2021-03-18T06:15:42.465602Z",
     "start_time": "2021-03-18T06:15:42.454900Z"
    }
   },
   "outputs": [],
   "source": [
    "# Gridsearching with accuracy score\n",
    "gs_accuracy_2 = GridSearchCV(pipe, param_grid=params, n_jobs=-1, verbose=1, \n",
    "                             cv=5, scoring='accuracy')"
   ]
  },
  {
   "cell_type": "code",
   "execution_count": 28,
   "metadata": {
    "ExecuteTime": {
     "end_time": "2021-03-18T08:00:32.459076Z",
     "start_time": "2021-03-18T06:15:42.470983Z"
    }
   },
   "outputs": [
    {
     "name": "stdout",
     "output_type": "stream",
     "text": [
      "Fitting 5 folds for each of 96 candidates, totalling 480 fits\n"
     ]
    },
    {
     "name": "stderr",
     "output_type": "stream",
     "text": [
      "[Parallel(n_jobs=-1)]: Using backend LokyBackend with 4 concurrent workers.\n",
      "[Parallel(n_jobs=-1)]: Done  42 tasks      | elapsed:   57.0s\n",
      "[Parallel(n_jobs=-1)]: Done 192 tasks      | elapsed: 10.1min\n",
      "[Parallel(n_jobs=-1)]: Done 442 tasks      | elapsed: 102.1min\n",
      "[Parallel(n_jobs=-1)]: Done 480 out of 480 | elapsed: 104.7min finished\n"
     ]
    },
    {
     "data": {
      "text/plain": [
       "GridSearchCV(cv=5,\n",
       "             estimator=Pipeline(steps=[('mm', MinMaxScaler()),\n",
       "                                       ('lr', LogisticRegression())]),\n",
       "             n_jobs=-1,\n",
       "             param_grid={'lr__C': [0.0001, 0.001, 0.01, 0.1, 1, 10, 100, 1000],\n",
       "                         'lr__class_weight': [None, 'balanced'],\n",
       "                         'lr__penalty': ['l1', 'l2', 'elasticnet'],\n",
       "                         'lr__solver': ['liblinear', 'saga']},\n",
       "             scoring='accuracy', verbose=1)"
      ]
     },
     "execution_count": 28,
     "metadata": {},
     "output_type": "execute_result"
    }
   ],
   "source": [
    "# Fitting the model \n",
    "gs_accuracy_2.fit(X_train_dum, y_train_dum)"
   ]
  },
  {
   "cell_type": "code",
   "execution_count": 29,
   "metadata": {
    "ExecuteTime": {
     "end_time": "2021-03-18T08:00:34.364335Z",
     "start_time": "2021-03-18T08:00:32.483209Z"
    }
   },
   "outputs": [
    {
     "name": "stdout",
     "output_type": "stream",
     "text": [
      "My accuracy is:  0.6137\n",
      "My sensitivity is:  0.8055\n",
      "My precision is:  0.6332\n",
      "My f1 score is:  0.7091\n"
     ]
    },
    {
     "data": {
      "text/html": [
       "<div>\n",
       "<style scoped>\n",
       "    .dataframe tbody tr th:only-of-type {\n",
       "        vertical-align: middle;\n",
       "    }\n",
       "\n",
       "    .dataframe tbody tr th {\n",
       "        vertical-align: top;\n",
       "    }\n",
       "\n",
       "    .dataframe thead th {\n",
       "        text-align: right;\n",
       "    }\n",
       "</style>\n",
       "<table border=\"1\" class=\"dataframe\">\n",
       "  <thead>\n",
       "    <tr style=\"text-align: right;\">\n",
       "      <th></th>\n",
       "      <th>Pred Offspeed</th>\n",
       "      <th>Pred Fastball</th>\n",
       "    </tr>\n",
       "  </thead>\n",
       "  <tbody>\n",
       "    <tr>\n",
       "      <th>Actual Offspeed</th>\n",
       "      <td>True Negative</td>\n",
       "      <td>False Positive</td>\n",
       "    </tr>\n",
       "    <tr>\n",
       "      <th>Actual Fastball</th>\n",
       "      <td>False Negative</td>\n",
       "      <td>True Positive</td>\n",
       "    </tr>\n",
       "  </tbody>\n",
       "</table>\n",
       "</div>"
      ],
      "text/plain": [
       "                  Pred Offspeed   Pred Fastball\n",
       "Actual Offspeed   True Negative  False Positive\n",
       "Actual Fastball  False Negative   True Positive"
      ]
     },
     "metadata": {},
     "output_type": "display_data"
    },
    {
     "name": "stdout",
     "output_type": "stream",
     "text": [
      "My ROC AUC score is: 0.574813015904521\n"
     ]
    },
    {
     "data": {
      "image/png": "[encoded data removed]",
      "text/plain": [
       "<Figure size 432x288 with 2 Axes>"
      ]
     },
     "metadata": {
      "needs_background": "light"
     },
     "output_type": "display_data"
    },
    {
     "data": {
      "image/png": "[encoded data removed]",
      "text/plain": [
       "<Figure size 432x288 with 1 Axes>"
      ]
     },
     "metadata": {
      "needs_background": "light"
     },
     "output_type": "display_data"
    }
   ],
   "source": [
    "# Displaying classification metrics \n",
    "binary_classification_metrics(gs_accuracy_2, X_test_dum, y_test_dum);"
   ]
  },
  {
   "cell_type": "markdown",
   "metadata": {},
   "source": [
    "## Feature Reduction to Account for Multi-Collinearity\n",
    "\n",
    "Logistic regression is a generalized linear model, therefore in this section I wanted to evaluate whether reducing the number of features would improve the score due to reducing the impact of multicollinearity. "
   ]
  },
  {
   "cell_type": "markdown",
   "metadata": {},
   "source": [
    "### Variance Inflation Factor (VIF) Multicollinearity Reduction \n",
    "\n",
    "In this portion I reduce the impact of multicollinearity by removing the features that have a VIF greater than 10. I do not look at the dummy variables because the scores were similar between the dummy variable logistic regression and non-dummy variables. "
   ]
  },
  {
   "cell_type": "code",
   "execution_count": 30,
   "metadata": {
    "ExecuteTime": {
     "end_time": "2021-03-18T08:00:35.528469Z",
     "start_time": "2021-03-18T08:00:34.369548Z"
    }
   },
   "outputs": [],
   "source": [
    "# Create copy of the original binary DataFrame \n",
    "df_2 = df.copy()"
   ]
  },
  {
   "cell_type": "code",
   "execution_count": 31,
   "metadata": {
    "ExecuteTime": {
     "end_time": "2021-03-18T08:00:56.274832Z",
     "start_time": "2021-03-18T08:00:35.530822Z"
    }
   },
   "outputs": [
    {
     "data": {
      "text/html": [
       "<div>\n",
       "<style scoped>\n",
       "    .dataframe tbody tr th:only-of-type {\n",
       "        vertical-align: middle;\n",
       "    }\n",
       "\n",
       "    .dataframe tbody tr th {\n",
       "        vertical-align: top;\n",
       "    }\n",
       "\n",
       "    .dataframe thead th {\n",
       "        text-align: right;\n",
       "    }\n",
       "</style>\n",
       "<table border=\"1\" class=\"dataframe\">\n",
       "  <thead>\n",
       "    <tr style=\"text-align: right;\">\n",
       "      <th></th>\n",
       "      <th>vif_factor</th>\n",
       "      <th>features</th>\n",
       "    </tr>\n",
       "  </thead>\n",
       "  <tbody>\n",
       "    <tr>\n",
       "      <th>0</th>\n",
       "      <td>9.755854</td>\n",
       "      <td>balls</td>\n",
       "    </tr>\n",
       "    <tr>\n",
       "      <th>1</th>\n",
       "      <td>10.724772</td>\n",
       "      <td>strikes</td>\n",
       "    </tr>\n",
       "    <tr>\n",
       "      <th>2</th>\n",
       "      <td>1.550963</td>\n",
       "      <td>on_1b</td>\n",
       "    </tr>\n",
       "    <tr>\n",
       "      <th>3</th>\n",
       "      <td>2.577844</td>\n",
       "      <td>outs_when_up</td>\n",
       "    </tr>\n",
       "    <tr>\n",
       "      <th>4</th>\n",
       "      <td>4.552998</td>\n",
       "      <td>inning</td>\n",
       "    </tr>\n",
       "    <tr>\n",
       "      <th>5</th>\n",
       "      <td>5.465121</td>\n",
       "      <td>offspeed_in_sequence</td>\n",
       "    </tr>\n",
       "    <tr>\n",
       "      <th>6</th>\n",
       "      <td>10.504928</td>\n",
       "      <td>fastball_in_sequence</td>\n",
       "    </tr>\n",
       "    <tr>\n",
       "      <th>7</th>\n",
       "      <td>33.855398</td>\n",
       "      <td>proportion_of_fastballs_thrown_2018</td>\n",
       "    </tr>\n",
       "    <tr>\n",
       "      <th>8</th>\n",
       "      <td>24.273637</td>\n",
       "      <td>previous_pitch</td>\n",
       "    </tr>\n",
       "    <tr>\n",
       "      <th>9</th>\n",
       "      <td>10.750593</td>\n",
       "      <td>previous_zone</td>\n",
       "    </tr>\n",
       "    <tr>\n",
       "      <th>10</th>\n",
       "      <td>2.731053</td>\n",
       "      <td>stand_R</td>\n",
       "    </tr>\n",
       "    <tr>\n",
       "      <th>11</th>\n",
       "      <td>3.782857</td>\n",
       "      <td>p_throws_R</td>\n",
       "    </tr>\n",
       "    <tr>\n",
       "      <th>12</th>\n",
       "      <td>4.421181</td>\n",
       "      <td>if_fielding_alignment_Infield shift</td>\n",
       "    </tr>\n",
       "    <tr>\n",
       "      <th>13</th>\n",
       "      <td>8.561507</td>\n",
       "      <td>if_fielding_alignment_Standard</td>\n",
       "    </tr>\n",
       "    <tr>\n",
       "      <th>14</th>\n",
       "      <td>1.018946</td>\n",
       "      <td>of_fielding_alignment_4th outfielder</td>\n",
       "    </tr>\n",
       "    <tr>\n",
       "      <th>15</th>\n",
       "      <td>10.911063</td>\n",
       "      <td>of_fielding_alignment_Standard</td>\n",
       "    </tr>\n",
       "    <tr>\n",
       "      <th>16</th>\n",
       "      <td>1.454513</td>\n",
       "      <td>risp</td>\n",
       "    </tr>\n",
       "    <tr>\n",
       "      <th>17</th>\n",
       "      <td>1.015446</td>\n",
       "      <td>run_diff</td>\n",
       "    </tr>\n",
       "    <tr>\n",
       "      <th>18</th>\n",
       "      <td>2.040150</td>\n",
       "      <td>inning_topbot_Top</td>\n",
       "    </tr>\n",
       "    <tr>\n",
       "      <th>19</th>\n",
       "      <td>25.404081</td>\n",
       "      <td>previous_type_B</td>\n",
       "    </tr>\n",
       "    <tr>\n",
       "      <th>20</th>\n",
       "      <td>25.522044</td>\n",
       "      <td>previous_type_S</td>\n",
       "    </tr>\n",
       "    <tr>\n",
       "      <th>21</th>\n",
       "      <td>102.065072</td>\n",
       "      <td>hitter_woba_2018</td>\n",
       "    </tr>\n",
       "    <tr>\n",
       "      <th>22</th>\n",
       "      <td>259.013660</td>\n",
       "      <td>average_hitter_launch_speed_2018</td>\n",
       "    </tr>\n",
       "  </tbody>\n",
       "</table>\n",
       "</div>"
      ],
      "text/plain": [
       "    vif_factor                              features\n",
       "0     9.755854                                 balls\n",
       "1    10.724772                               strikes\n",
       "2     1.550963                                 on_1b\n",
       "3     2.577844                          outs_when_up\n",
       "4     4.552998                                inning\n",
       "5     5.465121                  offspeed_in_sequence\n",
       "6    10.504928                  fastball_in_sequence\n",
       "7    33.855398   proportion_of_fastballs_thrown_2018\n",
       "8    24.273637                        previous_pitch\n",
       "9    10.750593                         previous_zone\n",
       "10    2.731053                               stand_R\n",
       "11    3.782857                            p_throws_R\n",
       "12    4.421181   if_fielding_alignment_Infield shift\n",
       "13    8.561507        if_fielding_alignment_Standard\n",
       "14    1.018946  of_fielding_alignment_4th outfielder\n",
       "15   10.911063        of_fielding_alignment_Standard\n",
       "16    1.454513                                  risp\n",
       "17    1.015446                              run_diff\n",
       "18    2.040150                     inning_topbot_Top\n",
       "19   25.404081                       previous_type_B\n",
       "20   25.522044                       previous_type_S\n",
       "21  102.065072                      hitter_woba_2018\n",
       "22  259.013660      average_hitter_launch_speed_2018"
      ]
     },
     "execution_count": 31,
     "metadata": {},
     "output_type": "execute_result"
    }
   ],
   "source": [
    "# Creating VIF DataFrame of independent variable features\n",
    "\n",
    "vif = pd.DataFrame()\n",
    "vif['vif_factor'] = [variance_inflation_factor(X.values, i) \n",
    "                     for i in range(X.shape[1])]\n",
    "\n",
    "vif['features'] = X.columns\n",
    "\n",
    "vif['features'] = X.columns\n",
    "\n",
    "vif"
   ]
  },
  {
   "cell_type": "code",
   "execution_count": 32,
   "metadata": {
    "ExecuteTime": {
     "end_time": "2021-03-18T08:00:56.317405Z",
     "start_time": "2021-03-18T08:00:56.279986Z"
    }
   },
   "outputs": [
    {
     "data": {
      "text/html": [
       "<div>\n",
       "<style scoped>\n",
       "    .dataframe tbody tr th:only-of-type {\n",
       "        vertical-align: middle;\n",
       "    }\n",
       "\n",
       "    .dataframe tbody tr th {\n",
       "        vertical-align: top;\n",
       "    }\n",
       "\n",
       "    .dataframe thead th {\n",
       "        text-align: right;\n",
       "    }\n",
       "</style>\n",
       "<table border=\"1\" class=\"dataframe\">\n",
       "  <thead>\n",
       "    <tr style=\"text-align: right;\">\n",
       "      <th></th>\n",
       "      <th>vif_factor</th>\n",
       "      <th>features</th>\n",
       "    </tr>\n",
       "  </thead>\n",
       "  <tbody>\n",
       "    <tr>\n",
       "      <th>1</th>\n",
       "      <td>10.724772</td>\n",
       "      <td>strikes</td>\n",
       "    </tr>\n",
       "    <tr>\n",
       "      <th>6</th>\n",
       "      <td>10.504928</td>\n",
       "      <td>fastball_in_sequence</td>\n",
       "    </tr>\n",
       "    <tr>\n",
       "      <th>7</th>\n",
       "      <td>33.855398</td>\n",
       "      <td>proportion_of_fastballs_thrown_2018</td>\n",
       "    </tr>\n",
       "    <tr>\n",
       "      <th>8</th>\n",
       "      <td>24.273637</td>\n",
       "      <td>previous_pitch</td>\n",
       "    </tr>\n",
       "    <tr>\n",
       "      <th>9</th>\n",
       "      <td>10.750593</td>\n",
       "      <td>previous_zone</td>\n",
       "    </tr>\n",
       "    <tr>\n",
       "      <th>15</th>\n",
       "      <td>10.911063</td>\n",
       "      <td>of_fielding_alignment_Standard</td>\n",
       "    </tr>\n",
       "    <tr>\n",
       "      <th>19</th>\n",
       "      <td>25.404081</td>\n",
       "      <td>previous_type_B</td>\n",
       "    </tr>\n",
       "    <tr>\n",
       "      <th>20</th>\n",
       "      <td>25.522044</td>\n",
       "      <td>previous_type_S</td>\n",
       "    </tr>\n",
       "    <tr>\n",
       "      <th>21</th>\n",
       "      <td>102.065072</td>\n",
       "      <td>hitter_woba_2018</td>\n",
       "    </tr>\n",
       "    <tr>\n",
       "      <th>22</th>\n",
       "      <td>259.013660</td>\n",
       "      <td>average_hitter_launch_speed_2018</td>\n",
       "    </tr>\n",
       "  </tbody>\n",
       "</table>\n",
       "</div>"
      ],
      "text/plain": [
       "    vif_factor                             features\n",
       "1    10.724772                              strikes\n",
       "6    10.504928                 fastball_in_sequence\n",
       "7    33.855398  proportion_of_fastballs_thrown_2018\n",
       "8    24.273637                       previous_pitch\n",
       "9    10.750593                        previous_zone\n",
       "15   10.911063       of_fielding_alignment_Standard\n",
       "19   25.404081                      previous_type_B\n",
       "20   25.522044                      previous_type_S\n",
       "21  102.065072                     hitter_woba_2018\n",
       "22  259.013660     average_hitter_launch_speed_2018"
      ]
     },
     "execution_count": 32,
     "metadata": {},
     "output_type": "execute_result"
    }
   ],
   "source": [
    "# Features with VIF > 10\n",
    "vif[vif['vif_factor'] > 10]"
   ]
  },
  {
   "cell_type": "code",
   "execution_count": 33,
   "metadata": {
    "ExecuteTime": {
     "end_time": "2021-03-18T08:00:56.395391Z",
     "start_time": "2021-03-18T08:00:56.321148Z"
    }
   },
   "outputs": [],
   "source": [
    "df_2 = df.drop(columns=['previous_type_S', 'average_hitter_launch_speed_2018',\n",
    "                      'previous_type_B','previous_pitch', 'proportion_of_fastballs_thrown_2018',\n",
    "                       'hitter_woba_2018'])"
   ]
  },
  {
   "cell_type": "code",
   "execution_count": 34,
   "metadata": {
    "ExecuteTime": {
     "end_time": "2021-03-18T08:00:56.443709Z",
     "start_time": "2021-03-18T08:00:56.398096Z"
    }
   },
   "outputs": [],
   "source": [
    "X_2 = df_2.drop(columns=['pitch'])\n",
    "y_2 = df_2['pitch']"
   ]
  },
  {
   "cell_type": "code",
   "execution_count": 35,
   "metadata": {
    "ExecuteTime": {
     "end_time": "2021-03-18T08:01:09.220247Z",
     "start_time": "2021-03-18T08:00:56.446964Z"
    }
   },
   "outputs": [
    {
     "data": {
      "text/html": [
       "<div>\n",
       "<style scoped>\n",
       "    .dataframe tbody tr th:only-of-type {\n",
       "        vertical-align: middle;\n",
       "    }\n",
       "\n",
       "    .dataframe tbody tr th {\n",
       "        vertical-align: top;\n",
       "    }\n",
       "\n",
       "    .dataframe thead th {\n",
       "        text-align: right;\n",
       "    }\n",
       "</style>\n",
       "<table border=\"1\" class=\"dataframe\">\n",
       "  <thead>\n",
       "    <tr style=\"text-align: right;\">\n",
       "      <th></th>\n",
       "      <th>vif_factor</th>\n",
       "      <th>features</th>\n",
       "    </tr>\n",
       "  </thead>\n",
       "  <tbody>\n",
       "    <tr>\n",
       "      <th>0</th>\n",
       "      <td>8.604490</td>\n",
       "      <td>balls</td>\n",
       "    </tr>\n",
       "    <tr>\n",
       "      <th>1</th>\n",
       "      <td>8.151784</td>\n",
       "      <td>strikes</td>\n",
       "    </tr>\n",
       "    <tr>\n",
       "      <th>2</th>\n",
       "      <td>1.546364</td>\n",
       "      <td>on_1b</td>\n",
       "    </tr>\n",
       "    <tr>\n",
       "      <th>3</th>\n",
       "      <td>2.489875</td>\n",
       "      <td>outs_when_up</td>\n",
       "    </tr>\n",
       "    <tr>\n",
       "      <th>4</th>\n",
       "      <td>4.015525</td>\n",
       "      <td>inning</td>\n",
       "    </tr>\n",
       "    <tr>\n",
       "      <th>5</th>\n",
       "      <td>5.095550</td>\n",
       "      <td>offspeed_in_sequence</td>\n",
       "    </tr>\n",
       "    <tr>\n",
       "      <th>6</th>\n",
       "      <td>9.172383</td>\n",
       "      <td>fastball_in_sequence</td>\n",
       "    </tr>\n",
       "    <tr>\n",
       "      <th>7</th>\n",
       "      <td>4.062047</td>\n",
       "      <td>previous_zone</td>\n",
       "    </tr>\n",
       "    <tr>\n",
       "      <th>8</th>\n",
       "      <td>2.601607</td>\n",
       "      <td>stand_R</td>\n",
       "    </tr>\n",
       "    <tr>\n",
       "      <th>9</th>\n",
       "      <td>3.458584</td>\n",
       "      <td>p_throws_R</td>\n",
       "    </tr>\n",
       "    <tr>\n",
       "      <th>10</th>\n",
       "      <td>3.201088</td>\n",
       "      <td>if_fielding_alignment_Infield shift</td>\n",
       "    </tr>\n",
       "    <tr>\n",
       "      <th>11</th>\n",
       "      <td>6.473065</td>\n",
       "      <td>if_fielding_alignment_Standard</td>\n",
       "    </tr>\n",
       "    <tr>\n",
       "      <th>12</th>\n",
       "      <td>1.007700</td>\n",
       "      <td>of_fielding_alignment_4th outfielder</td>\n",
       "    </tr>\n",
       "    <tr>\n",
       "      <th>13</th>\n",
       "      <td>7.936937</td>\n",
       "      <td>of_fielding_alignment_Standard</td>\n",
       "    </tr>\n",
       "    <tr>\n",
       "      <th>14</th>\n",
       "      <td>1.444342</td>\n",
       "      <td>risp</td>\n",
       "    </tr>\n",
       "    <tr>\n",
       "      <th>15</th>\n",
       "      <td>1.014320</td>\n",
       "      <td>run_diff</td>\n",
       "    </tr>\n",
       "    <tr>\n",
       "      <th>16</th>\n",
       "      <td>1.991993</td>\n",
       "      <td>inning_topbot_Top</td>\n",
       "    </tr>\n",
       "  </tbody>\n",
       "</table>\n",
       "</div>"
      ],
      "text/plain": [
       "    vif_factor                              features\n",
       "0     8.604490                                 balls\n",
       "1     8.151784                               strikes\n",
       "2     1.546364                                 on_1b\n",
       "3     2.489875                          outs_when_up\n",
       "4     4.015525                                inning\n",
       "5     5.095550                  offspeed_in_sequence\n",
       "6     9.172383                  fastball_in_sequence\n",
       "7     4.062047                         previous_zone\n",
       "8     2.601607                               stand_R\n",
       "9     3.458584                            p_throws_R\n",
       "10    3.201088   if_fielding_alignment_Infield shift\n",
       "11    6.473065        if_fielding_alignment_Standard\n",
       "12    1.007700  of_fielding_alignment_4th outfielder\n",
       "13    7.936937        of_fielding_alignment_Standard\n",
       "14    1.444342                                  risp\n",
       "15    1.014320                              run_diff\n",
       "16    1.991993                     inning_topbot_Top"
      ]
     },
     "execution_count": 35,
     "metadata": {},
     "output_type": "execute_result"
    }
   ],
   "source": [
    "# Reviewed VIF DataFrame. None greater than 10!\n",
    "\n",
    "vif = pd.DataFrame()\n",
    "vif['vif_factor'] = [variance_inflation_factor(X_2.values, i) \n",
    "                     for i in range(X_2.shape[1])]\n",
    "\n",
    "vif['features'] = X_2.columns\n",
    "\n",
    "vif['features'] = X_2.columns\n",
    "\n",
    "vif"
   ]
  },
  {
   "cell_type": "code",
   "execution_count": 36,
   "metadata": {
    "ExecuteTime": {
     "end_time": "2021-03-18T08:01:09.637656Z",
     "start_time": "2021-03-18T08:01:09.222211Z"
    }
   },
   "outputs": [],
   "source": [
    "X_train_2, X_test_2, y_train_2, y_test_2 = train_test_split(X_2, y_2, test_size=0.25, \n",
    "                                                    random_state=16, stratify=y)"
   ]
  },
  {
   "cell_type": "code",
   "execution_count": 37,
   "metadata": {
    "ExecuteTime": {
     "end_time": "2021-03-18T08:01:09.650046Z",
     "start_time": "2021-03-18T08:01:09.639653Z"
    }
   },
   "outputs": [],
   "source": [
    "# Assessing with scoring \n",
    "gs_2 = GridSearchCV(pipe, param_grid=params, n_jobs=-1, verbose=1, cv=5, scoring='accuracy')"
   ]
  },
  {
   "cell_type": "code",
   "execution_count": 38,
   "metadata": {
    "ExecuteTime": {
     "end_time": "2021-03-18T08:07:59.110760Z",
     "start_time": "2021-03-18T08:01:09.652652Z"
    }
   },
   "outputs": [
    {
     "name": "stdout",
     "output_type": "stream",
     "text": [
      "Fitting 5 folds for each of 96 candidates, totalling 480 fits\n"
     ]
    },
    {
     "name": "stderr",
     "output_type": "stream",
     "text": [
      "[Parallel(n_jobs=-1)]: Using backend LokyBackend with 4 concurrent workers.\n",
      "[Parallel(n_jobs=-1)]: Done  42 tasks      | elapsed:   16.3s\n",
      "[Parallel(n_jobs=-1)]: Done 192 tasks      | elapsed:  2.0min\n",
      "[Parallel(n_jobs=-1)]: Done 442 tasks      | elapsed:  6.2min\n",
      "[Parallel(n_jobs=-1)]: Done 480 out of 480 | elapsed:  6.7min finished\n"
     ]
    }
   ],
   "source": [
    "gs_2.fit(X_train_2, y_train_2);"
   ]
  },
  {
   "cell_type": "code",
   "execution_count": 39,
   "metadata": {
    "ExecuteTime": {
     "end_time": "2021-03-18T08:07:59.923102Z",
     "start_time": "2021-03-18T08:07:59.118352Z"
    }
   },
   "outputs": [
    {
     "name": "stdout",
     "output_type": "stream",
     "text": [
      "My accuracy is:  0.5917\n",
      "My sensitivity is:  0.8631\n",
      "My precision is:  0.6057\n",
      "My f1 score is:  0.7118\n"
     ]
    },
    {
     "data": {
      "text/html": [
       "<div>\n",
       "<style scoped>\n",
       "    .dataframe tbody tr th:only-of-type {\n",
       "        vertical-align: middle;\n",
       "    }\n",
       "\n",
       "    .dataframe tbody tr th {\n",
       "        vertical-align: top;\n",
       "    }\n",
       "\n",
       "    .dataframe thead th {\n",
       "        text-align: right;\n",
       "    }\n",
       "</style>\n",
       "<table border=\"1\" class=\"dataframe\">\n",
       "  <thead>\n",
       "    <tr style=\"text-align: right;\">\n",
       "      <th></th>\n",
       "      <th>Pred Offspeed</th>\n",
       "      <th>Pred Fastball</th>\n",
       "    </tr>\n",
       "  </thead>\n",
       "  <tbody>\n",
       "    <tr>\n",
       "      <th>Actual Offspeed</th>\n",
       "      <td>True Negative</td>\n",
       "      <td>False Positive</td>\n",
       "    </tr>\n",
       "    <tr>\n",
       "      <th>Actual Fastball</th>\n",
       "      <td>False Negative</td>\n",
       "      <td>True Positive</td>\n",
       "    </tr>\n",
       "  </tbody>\n",
       "</table>\n",
       "</div>"
      ],
      "text/plain": [
       "                  Pred Offspeed   Pred Fastball\n",
       "Actual Offspeed   True Negative  False Positive\n",
       "Actual Fastball  False Negative   True Positive"
      ]
     },
     "metadata": {},
     "output_type": "display_data"
    },
    {
     "name": "stdout",
     "output_type": "stream",
     "text": [
      "My ROC AUC score is: 0.5366164138545959\n"
     ]
    },
    {
     "data": {
      "image/png": "[encoded data removed]",
      "text/plain": [
       "<Figure size 432x288 with 2 Axes>"
      ]
     },
     "metadata": {
      "needs_background": "light"
     },
     "output_type": "display_data"
    },
    {
     "data": {
      "image/png": "[encoded data removed]",
      "text/plain": [
       "<Figure size 432x288 with 1 Axes>"
      ]
     },
     "metadata": {
      "needs_background": "light"
     },
     "output_type": "display_data"
    }
   ],
   "source": [
    "binary_classification_metrics(gs_2, X_test_2, y_test_2);"
   ]
  },
  {
   "cell_type": "markdown",
   "metadata": {},
   "source": [
    "Over-fit to fastball projection "
   ]
  },
  {
   "cell_type": "markdown",
   "metadata": {},
   "source": [
    "### Principal Component Analysis (PCA) Feature Reduction "
   ]
  },
  {
   "cell_type": "code",
   "execution_count": 40,
   "metadata": {
    "ExecuteTime": {
     "end_time": "2021-03-18T08:07:59.927730Z",
     "start_time": "2021-03-18T08:07:59.925064Z"
    }
   },
   "outputs": [],
   "source": [
    "mm = MinMaxScaler()"
   ]
  },
  {
   "cell_type": "code",
   "execution_count": 41,
   "metadata": {
    "ExecuteTime": {
     "end_time": "2021-03-18T08:08:02.338436Z",
     "start_time": "2021-03-18T08:07:59.931115Z"
    }
   },
   "outputs": [],
   "source": [
    "X_train_mm = mm.fit_transform(X_train)\n",
    "X_test_mm = mm.transform(X_test)"
   ]
  },
  {
   "cell_type": "code",
   "execution_count": 42,
   "metadata": {
    "ExecuteTime": {
     "end_time": "2021-03-18T08:08:02.775147Z",
     "start_time": "2021-03-18T08:08:02.344100Z"
    }
   },
   "outputs": [
    {
     "data": {
      "text/plain": [
       "array([0.16135106, 0.15485173, 0.14800324, 0.09022729, 0.08675253,\n",
       "       0.074353  , 0.06047946, 0.05550631, 0.04624949, 0.02912563,\n",
       "       0.02387699, 0.01320415, 0.01208362, 0.01094284, 0.00927497,\n",
       "       0.00789535, 0.00472103, 0.00362597, 0.003152  , 0.00243963,\n",
       "       0.00106114, 0.00041439, 0.00040818])"
      ]
     },
     "execution_count": 42,
     "metadata": {},
     "output_type": "execute_result"
    }
   ],
   "source": [
    "# Need 15 xcomponents to have decent accuracy score \n",
    "pca = PCA().fit(X_train_mm)\n",
    "\n",
    "pca.explained_variance_ratio_"
   ]
  },
  {
   "cell_type": "code",
   "execution_count": 43,
   "metadata": {
    "ExecuteTime": {
     "end_time": "2021-03-18T08:08:02.785537Z",
     "start_time": "2021-03-18T08:08:02.777558Z"
    }
   },
   "outputs": [],
   "source": [
    "pipe_2 = Pipeline([\n",
    "    ('mm', MinMaxScaler()),\n",
    "    ('pca', PCA()),\n",
    "    ('lr', LogisticRegression())\n",
    "])"
   ]
  },
  {
   "cell_type": "code",
   "execution_count": 44,
   "metadata": {
    "ExecuteTime": {
     "end_time": "2021-03-18T08:08:02.803365Z",
     "start_time": "2021-03-18T08:08:02.789842Z"
    }
   },
   "outputs": [],
   "source": [
    "params_2 = {\n",
    "    'pca__n_components': [15],\n",
    "     'lr__solver': ['liblinear','saga'],\n",
    "    'lr__penalty': ['l1','l2', 'elasticnet'],\n",
    "    'lr__C' : [0.0001, 0.001, 0.01, 0.1, 1, 10, 100, 1000],\n",
    "    'lr__class_weight': [None, 'balanced']\n",
    "}"
   ]
  },
  {
   "cell_type": "code",
   "execution_count": 45,
   "metadata": {
    "ExecuteTime": {
     "end_time": "2021-03-18T08:08:02.813114Z",
     "start_time": "2021-03-18T08:08:02.805406Z"
    }
   },
   "outputs": [],
   "source": [
    "gs_3 = GridSearchCV(pipe_2, params_2, cv = 5,\n",
    "                    scoring = 'accuracy', verbose = 1, n_jobs = -1)"
   ]
  },
  {
   "cell_type": "code",
   "execution_count": 46,
   "metadata": {
    "ExecuteTime": {
     "end_time": "2021-03-18T08:18:43.648998Z",
     "start_time": "2021-03-18T08:08:02.815903Z"
    }
   },
   "outputs": [
    {
     "name": "stdout",
     "output_type": "stream",
     "text": [
      "Fitting 5 folds for each of 96 candidates, totalling 480 fits\n"
     ]
    },
    {
     "name": "stderr",
     "output_type": "stream",
     "text": [
      "[Parallel(n_jobs=-1)]: Using backend LokyBackend with 4 concurrent workers.\n",
      "[Parallel(n_jobs=-1)]: Done  42 tasks      | elapsed:   55.2s\n",
      "[Parallel(n_jobs=-1)]: Done 192 tasks      | elapsed:  4.3min\n",
      "[Parallel(n_jobs=-1)]: Done 442 tasks      | elapsed:  9.9min\n",
      "[Parallel(n_jobs=-1)]: Done 480 out of 480 | elapsed: 10.6min finished\n"
     ]
    }
   ],
   "source": [
    "gs_3.fit(X_train, y_train);\n"
   ]
  },
  {
   "cell_type": "code",
   "execution_count": 47,
   "metadata": {
    "ExecuteTime": {
     "end_time": "2021-03-18T08:18:44.762309Z",
     "start_time": "2021-03-18T08:18:43.716639Z"
    }
   },
   "outputs": [
    {
     "name": "stdout",
     "output_type": "stream",
     "text": [
      "My accuracy is:  0.5863\n",
      "My sensitivity is:  0.9226\n",
      "My precision is:  0.594\n",
      "My f1 score is:  0.7227\n"
     ]
    },
    {
     "data": {
      "text/html": [
       "<div>\n",
       "<style scoped>\n",
       "    .dataframe tbody tr th:only-of-type {\n",
       "        vertical-align: middle;\n",
       "    }\n",
       "\n",
       "    .dataframe tbody tr th {\n",
       "        vertical-align: top;\n",
       "    }\n",
       "\n",
       "    .dataframe thead th {\n",
       "        text-align: right;\n",
       "    }\n",
       "</style>\n",
       "<table border=\"1\" class=\"dataframe\">\n",
       "  <thead>\n",
       "    <tr style=\"text-align: right;\">\n",
       "      <th></th>\n",
       "      <th>Pred Offspeed</th>\n",
       "      <th>Pred Fastball</th>\n",
       "    </tr>\n",
       "  </thead>\n",
       "  <tbody>\n",
       "    <tr>\n",
       "      <th>Actual Offspeed</th>\n",
       "      <td>True Negative</td>\n",
       "      <td>False Positive</td>\n",
       "    </tr>\n",
       "    <tr>\n",
       "      <th>Actual Fastball</th>\n",
       "      <td>False Negative</td>\n",
       "      <td>True Positive</td>\n",
       "    </tr>\n",
       "  </tbody>\n",
       "</table>\n",
       "</div>"
      ],
      "text/plain": [
       "                  Pred Offspeed   Pred Fastball\n",
       "Actual Offspeed   True Negative  False Positive\n",
       "Actual Fastball  False Negative   True Positive"
      ]
     },
     "metadata": {},
     "output_type": "display_data"
    },
    {
     "name": "stdout",
     "output_type": "stream",
     "text": [
      "My ROC AUC score is: 0.5180891802185363\n"
     ]
    },
    {
     "data": {
      "image/png": "[encoded data removed]",
      "text/plain": [
       "<Figure size 432x288 with 2 Axes>"
      ]
     },
     "metadata": {
      "needs_background": "light"
     },
     "output_type": "display_data"
    },
    {
     "data": {
      "image/png": "[encoded data removed]",
      "text/plain": [
       "<Figure size 432x288 with 1 Axes>"
      ]
     },
     "metadata": {
      "needs_background": "light"
     },
     "output_type": "display_data"
    }
   ],
   "source": [
    "binary_classification_metrics(gs_3, X_test, y_test);"
   ]
  },
  {
   "cell_type": "markdown",
   "metadata": {},
   "source": [
    "Accuracy suffered greatly because of the PCA reduction. "
   ]
  },
  {
   "cell_type": "markdown",
   "metadata": {
    "ExecuteTime": {
     "end_time": "2021-03-15T02:24:40.712954Z",
     "start_time": "2021-03-15T02:24:40.706042Z"
    }
   },
   "source": [
    "## Multi-Class Logistic Regression"
   ]
  },
  {
   "cell_type": "code",
   "execution_count": 48,
   "metadata": {
    "ExecuteTime": {
     "end_time": "2021-03-18T08:18:44.818532Z",
     "start_time": "2021-03-18T08:18:44.765978Z"
    }
   },
   "outputs": [
    {
     "data": {
      "text/plain": [
       "3    0.584354\n",
       "2    0.286061\n",
       "1    0.129585\n",
       "Name: pitch, dtype: float64"
      ]
     },
     "execution_count": 48,
     "metadata": {},
     "output_type": "execute_result"
    }
   ],
   "source": [
    "df_3['pitch'].value_counts(normalize=True)"
   ]
  },
  {
   "cell_type": "code",
   "execution_count": 49,
   "metadata": {
    "ExecuteTime": {
     "end_time": "2021-03-18T08:18:44.990118Z",
     "start_time": "2021-03-18T08:18:44.823036Z"
    }
   },
   "outputs": [
    {
     "data": {
      "text/plain": [
       "balls                                       0\n",
       "strikes                                     0\n",
       "on_1b                                       0\n",
       "outs_when_up                                0\n",
       "inning                                      0\n",
       "pitch                                       0\n",
       "changeup_in_sequence                        0\n",
       "breaking_ball_in_sequence                   0\n",
       "fastball_in_sequence                        0\n",
       "proportion_of_breaking_balls_thrown_2018    0\n",
       "proportion_of_fastballs_thrown_2018         0\n",
       "previous_pitch                              0\n",
       "previous_zone                               0\n",
       "stand_R                                     0\n",
       "p_throws_R                                  0\n",
       "if_fielding_alignment_Infield shift         0\n",
       "if_fielding_alignment_Standard              0\n",
       "of_fielding_alignment_4th outfielder        0\n",
       "of_fielding_alignment_Standard              0\n",
       "risp                                        0\n",
       "run_diff                                    0\n",
       "inning_topbot_Top                           0\n",
       "previous_type_B                             0\n",
       "previous_type_S                             0\n",
       "hitter_woba_2018                            0\n",
       "average_hitter_launch_speed_2018            0\n",
       "dtype: int64"
      ]
     },
     "execution_count": 49,
     "metadata": {},
     "output_type": "execute_result"
    }
   ],
   "source": [
    "df_3.isna().sum()"
   ]
  },
  {
   "cell_type": "code",
   "execution_count": 50,
   "metadata": {
    "ExecuteTime": {
     "end_time": "2021-03-18T08:18:45.363281Z",
     "start_time": "2021-03-18T08:18:44.991887Z"
    }
   },
   "outputs": [],
   "source": [
    "X_3 = df_3.drop(columns=['pitch'])\n",
    "y_3 = df_3['pitch']"
   ]
  },
  {
   "cell_type": "code",
   "execution_count": 51,
   "metadata": {
    "ExecuteTime": {
     "end_time": "2021-03-18T08:18:45.395294Z",
     "start_time": "2021-03-18T08:18:45.365527Z"
    }
   },
   "outputs": [],
   "source": [
    "# Have to label encode for the target variable in logistic regression\n",
    "le = LabelEncoder()\n",
    "y_3 = le.fit_transform(y_3)"
   ]
  },
  {
   "cell_type": "code",
   "execution_count": 52,
   "metadata": {
    "ExecuteTime": {
     "end_time": "2021-03-18T08:18:45.405182Z",
     "start_time": "2021-03-18T08:18:45.398040Z"
    }
   },
   "outputs": [
    {
     "data": {
      "text/plain": [
       "array([1, 2, 2, ..., 0, 0, 2])"
      ]
     },
     "execution_count": 52,
     "metadata": {},
     "output_type": "execute_result"
    }
   ],
   "source": [
    "# Label encoded array\n",
    "y_3"
   ]
  },
  {
   "cell_type": "code",
   "execution_count": 53,
   "metadata": {
    "ExecuteTime": {
     "end_time": "2021-03-18T08:18:45.619136Z",
     "start_time": "2021-03-18T08:18:45.408309Z"
    },
    "code_folding": []
   },
   "outputs": [],
   "source": [
    "# Train-test split\n",
    "X_train_mc, X_test_mc, y_train_mc, y_test_mc = train_test_split(X_3, y_3, test_size=0.25, \n",
    "                                                    random_state=16)"
   ]
  },
  {
   "cell_type": "code",
   "execution_count": 54,
   "metadata": {
    "ExecuteTime": {
     "end_time": "2021-03-18T08:18:45.629670Z",
     "start_time": "2021-03-18T08:18:45.621187Z"
    }
   },
   "outputs": [],
   "source": [
    "pipe_3 = Pipeline([\n",
    "    ('mm', MinMaxScaler()),\n",
    "    ('lr', LogisticRegression())\n",
    "])"
   ]
  },
  {
   "cell_type": "code",
   "execution_count": 55,
   "metadata": {
    "ExecuteTime": {
     "end_time": "2021-03-18T08:18:45.640798Z",
     "start_time": "2021-03-18T08:18:45.633193Z"
    }
   },
   "outputs": [],
   "source": [
    "params_3 = {\n",
    "    'lr__solver': ['saga'],\n",
    "    'lr__penalty': ['l1','l2', 'elasticnet'],\n",
    "    'lr__C' : [0.0001, 0.001, 0.01, 0.1, 1, 10, 100, 1000],\n",
    "    'lr__class_weight': [None, 'balanced'],\n",
    "    'lr__multi_class' : ['ovr', 'multinomial']\n",
    "}"
   ]
  },
  {
   "cell_type": "code",
   "execution_count": 56,
   "metadata": {
    "ExecuteTime": {
     "end_time": "2021-03-18T08:18:45.647266Z",
     "start_time": "2021-03-18T08:18:45.643282Z"
    }
   },
   "outputs": [],
   "source": [
    "# Gridsearching for accuracy\n",
    "gs_4 = GridSearchCV(pipe_3, param_grid=params_3, n_jobs=-1, verbose=1, cv=5, scoring='accuracy')"
   ]
  },
  {
   "cell_type": "code",
   "execution_count": 57,
   "metadata": {
    "ExecuteTime": {
     "end_time": "2021-03-18T08:37:26.471830Z",
     "start_time": "2021-03-18T08:18:45.649313Z"
    }
   },
   "outputs": [
    {
     "name": "stdout",
     "output_type": "stream",
     "text": [
      "Fitting 5 folds for each of 96 candidates, totalling 480 fits\n"
     ]
    },
    {
     "name": "stderr",
     "output_type": "stream",
     "text": [
      "[Parallel(n_jobs=-1)]: Using backend LokyBackend with 4 concurrent workers.\n",
      "[Parallel(n_jobs=-1)]: Done  42 tasks      | elapsed:  1.1min\n",
      "[Parallel(n_jobs=-1)]: Done 192 tasks      | elapsed:  6.0min\n",
      "[Parallel(n_jobs=-1)]: Done 442 tasks      | elapsed: 17.1min\n",
      "[Parallel(n_jobs=-1)]: Done 480 out of 480 | elapsed: 18.5min finished\n"
     ]
    }
   ],
   "source": [
    "gs_4.fit(X_train_mc, y_train_mc);"
   ]
  },
  {
   "cell_type": "code",
   "execution_count": 58,
   "metadata": {
    "ExecuteTime": {
     "end_time": "2021-03-18T08:37:26.624726Z",
     "start_time": "2021-03-18T08:37:26.487790Z"
    }
   },
   "outputs": [
    {
     "data": {
      "text/plain": [
       "0.5946910303789192"
      ]
     },
     "execution_count": 58,
     "metadata": {},
     "output_type": "execute_result"
    }
   ],
   "source": [
    "gs_4.score(X_train_mc, y_train_mc)\n"
   ]
  },
  {
   "cell_type": "code",
   "execution_count": 59,
   "metadata": {
    "ExecuteTime": {
     "end_time": "2021-03-18T08:37:26.740063Z",
     "start_time": "2021-03-18T08:37:26.627964Z"
    }
   },
   "outputs": [
    {
     "data": {
      "text/plain": [
       "0.5933097859962602"
      ]
     },
     "execution_count": 59,
     "metadata": {},
     "output_type": "execute_result"
    }
   ],
   "source": [
    "gs_4.score(X_test_mc, y_test_mc)"
   ]
  },
  {
   "cell_type": "code",
   "execution_count": 60,
   "metadata": {
    "ExecuteTime": {
     "end_time": "2021-03-18T08:37:26.784466Z",
     "start_time": "2021-03-18T08:37:26.744072Z"
    }
   },
   "outputs": [],
   "source": [
    "# Inspiration from:\n",
    "# https://stackoverflow.com/questions/45332410/roc-for-multiclass-classification\n",
    "\n",
    "def plot_multiclass_roc(clf, X_test, y_test, n_classes, figsize=(17, 6)):\n",
    "    \n",
    "    y_score = clf.decision_function(X_test)\n",
    "\n",
    "    # structures\n",
    "    fpr = dict()\n",
    "    tpr = dict()\n",
    "    #hpr = dict()\n",
    "    roc_auc = dict()\n",
    "\n",
    "    # calculate dummies once\n",
    "    y_test_dummies = pd.get_dummies(y_test, drop_first=False).values\n",
    "    y_test_columns = ['Fastball', 'Breaking Ball', 'Changeup']\n",
    "    \n",
    "    \n",
    "    for i in range(n_classes):\n",
    "        fpr[i], tpr[i], _ = metrics.roc_curve(y_test_dummies[:, i], y_score[:, i])\n",
    "        roc_auc[i] = metrics.auc(fpr[i], tpr[i])\n",
    "\n",
    "    # roc for each class\n",
    "    fig, ax = plt.subplots(figsize=figsize)\n",
    "    ax.plot([0, 1], [0, 1], 'k--')\n",
    "    ax.set_xlim([0.0, 1.0])\n",
    "    ax.set_ylim([0.0, 1.05])\n",
    "    ax.set_xlabel('False Positive Rate')\n",
    "    ax.set_ylabel('True Positive Rate')\n",
    "    ax.set_title('Receiver operating characteristic example')\n",
    "    for i in range(n_classes):\n",
    "        ax.plot(fpr[i], tpr[i], label='ROC curve (area = %0.2f) for %s' % (roc_auc[i], \n",
    "                                                                y_test_columns[i])) #% (roc_auc[i], i))\n",
    "    ax.legend(loc=\"best\")\n",
    "    ax.grid(alpha=.4)\n",
    "    sns.despine()\n",
    "    plt.show()\n",
    "\n"
   ]
  },
  {
   "cell_type": "code",
   "execution_count": 61,
   "metadata": {
    "ExecuteTime": {
     "end_time": "2021-03-18T08:37:26.800949Z",
     "start_time": "2021-03-18T08:37:26.787811Z"
    }
   },
   "outputs": [],
   "source": [
    "def multiclass_classification_metrics(gs, X_test, y_test):\n",
    "    \n",
    "    y_hat = gs.predict(X_test)\n",
    "    accuracy = metrics.accuracy_score(y_test, y_hat)\n",
    "\n",
    "    sensitivity =  metrics.recall_score(y_test, y_hat, average='macro')\n",
    "\n",
    "    precision = metrics.precision_score(y_test, y_hat, average='macro')\n",
    "\n",
    "    f1 = metrics.f1_score(y_test, y_hat, average='macro')\n",
    "    \n",
    "    \n",
    "    print('My accuracy is: ', round(accuracy,4))\n",
    "    print('My sensitivity is: ', round(sensitivity,4))\n",
    "    print('My precision is: ', round(precision,4))\n",
    "    print('My f1 score is: ', round(f1 ,4))\n",
    "    \n",
    "\n",
    "    metrics.plot_confusion_matrix(gs, X_test, y_test, cmap='Accent', \n",
    "                          values_format='d', display_labels=[ 'Change-up',\n",
    "                                                              'Breaking Ball', \n",
    "                                                             'Fastball']);\n",
    "    \n",
    "    plot_multiclass_roc(gs, X_test, y_test, 3, figsize=(17, 6))"
   ]
  },
  {
   "cell_type": "code",
   "execution_count": 62,
   "metadata": {
    "ExecuteTime": {
     "end_time": "2021-03-18T08:37:27.884908Z",
     "start_time": "2021-03-18T08:37:26.803243Z"
    }
   },
   "outputs": [
    {
     "name": "stdout",
     "output_type": "stream",
     "text": [
      "My accuracy is:  0.5933\n",
      "My sensitivity is:  0.3798\n",
      "My precision is:  0.5356\n",
      "My f1 score is:  0.3568\n"
     ]
    },
    {
     "data": {
      "image/png": "[encoded data removed]",
      "text/plain": [
       "<Figure size 432x288 with 2 Axes>"
      ]
     },
     "metadata": {
      "needs_background": "light"
     },
     "output_type": "display_data"
    },
    {
     "data": {
      "image/png": "[encoded data removed]",
      "text/plain": [
       "<Figure size 1224x432 with 1 Axes>"
      ]
     },
     "metadata": {
      "needs_background": "light"
     },
     "output_type": "display_data"
    }
   ],
   "source": [
    "multiclass_classification_metrics(gs_4, X_test_mc, y_test_mc)"
   ]
  },
  {
   "cell_type": "markdown",
   "metadata": {},
   "source": [
    "Still super overfit to fastball. "
   ]
  },
  {
   "cell_type": "markdown",
   "metadata": {},
   "source": [
    "### Analyzing for F1 Score"
   ]
  },
  {
   "cell_type": "code",
   "execution_count": 63,
   "metadata": {
    "ExecuteTime": {
     "end_time": "2021-03-18T08:37:27.893492Z",
     "start_time": "2021-03-18T08:37:27.887328Z"
    }
   },
   "outputs": [],
   "source": [
    "gs_5 = GridSearchCV(pipe_3, param_grid=params_3, n_jobs=-1, verbose=1, cv=5, scoring='f1_weighted')"
   ]
  },
  {
   "cell_type": "code",
   "execution_count": 64,
   "metadata": {
    "ExecuteTime": {
     "end_time": "2021-03-18T08:55:52.049183Z",
     "start_time": "2021-03-18T08:37:27.895453Z"
    }
   },
   "outputs": [
    {
     "name": "stdout",
     "output_type": "stream",
     "text": [
      "Fitting 5 folds for each of 96 candidates, totalling 480 fits\n"
     ]
    },
    {
     "name": "stderr",
     "output_type": "stream",
     "text": [
      "[Parallel(n_jobs=-1)]: Using backend LokyBackend with 4 concurrent workers.\n",
      "[Parallel(n_jobs=-1)]: Done  42 tasks      | elapsed:  1.2min\n",
      "[Parallel(n_jobs=-1)]: Done 192 tasks      | elapsed:  6.0min\n",
      "[Parallel(n_jobs=-1)]: Done 442 tasks      | elapsed: 17.1min\n",
      "[Parallel(n_jobs=-1)]: Done 480 out of 480 | elapsed: 18.3min finished\n"
     ]
    }
   ],
   "source": [
    "gs_5.fit(X_train_mc, y_train_mc);"
   ]
  },
  {
   "cell_type": "code",
   "execution_count": 65,
   "metadata": {
    "ExecuteTime": {
     "end_time": "2021-03-18T08:55:52.983886Z",
     "start_time": "2021-03-18T08:55:52.064610Z"
    }
   },
   "outputs": [
    {
     "name": "stdout",
     "output_type": "stream",
     "text": [
      "My accuracy is:  0.5924\n",
      "My sensitivity is:  0.3981\n",
      "My precision is:  0.5176\n",
      "My f1 score is:  0.392\n"
     ]
    },
    {
     "data": {
      "image/png": "[encoded data removed]",
      "text/plain": [
       "<Figure size 432x288 with 2 Axes>"
      ]
     },
     "metadata": {
      "needs_background": "light"
     },
     "output_type": "display_data"
    },
    {
     "data": {
      "image/png": "[encoded data removed]",
      "text/plain": [
       "<Figure size 1224x432 with 1 Axes>"
      ]
     },
     "metadata": {
      "needs_background": "light"
     },
     "output_type": "display_data"
    }
   ],
   "source": [
    "multiclass_classification_metrics(gs_5, X_test_mc, y_test_mc)"
   ]
  },
  {
   "cell_type": "markdown",
   "metadata": {},
   "source": [
    "Does a little better than previous model. "
   ]
  },
  {
   "cell_type": "markdown",
   "metadata": {},
   "source": [
    "# Model Considerations"
   ]
  },
  {
   "cell_type": "markdown",
   "metadata": {},
   "source": [
    "## Binary Label Models\n",
    "\n",
    "* Most accurate is not the most useful model. \n",
    "    * The most accurate model is the model with the dummy independent variables and accuracy GridSearch. It over-predicts fastballs, however, so may not be useful in the context of a pitcher who has a more even repertoire of pitches to utilize. \n",
    "\n",
    "* Instead, the most useful model is my model that has the dummy independent variables and uses the 'f1_weighted' scoring metric in the grid search.\n",
    "    * This model has the highest f1 score, and thus accounts for more offspeed pitches than the overfit model by maximizing the mean of the recall and precision in the gridsearch.\n",
    "\n"
   ]
  },
  {
   "cell_type": "markdown",
   "metadata": {},
   "source": [
    "## Multiclass Label Models \n",
    "\n",
    "* My multiclass logistic regression did not outperform the baseline accuracy by very much, therefore I will look towards random forest to predict the next pitch coming with multiple classes"
   ]
  },
  {
   "cell_type": "code",
   "execution_count": 66,
   "metadata": {
    "ExecuteTime": {
     "end_time": "2021-03-18T08:55:52.999116Z",
     "start_time": "2021-03-18T08:55:52.986770Z"
    }
   },
   "outputs": [],
   "source": [
    "coefs = gs_f2.best_estimator_.named_steps['lr'].coef_"
   ]
  },
  {
   "cell_type": "code",
   "execution_count": 67,
   "metadata": {
    "ExecuteTime": {
     "end_time": "2021-03-18T08:55:53.007148Z",
     "start_time": "2021-03-18T08:55:53.001482Z"
    }
   },
   "outputs": [
    {
     "data": {
      "text/plain": [
       "58"
      ]
     },
     "execution_count": 67,
     "metadata": {},
     "output_type": "execute_result"
    }
   ],
   "source": [
    "len(coefs[0])"
   ]
  },
  {
   "cell_type": "code",
   "execution_count": 72,
   "metadata": {
    "ExecuteTime": {
     "end_time": "2021-03-18T10:33:31.036283Z",
     "start_time": "2021-03-18T10:33:30.476201Z"
    }
   },
   "outputs": [
    {
     "ename": "NameError",
     "evalue": "name 'X_train_3' is not defined",
     "output_type": "error",
     "traceback": [
      "\u001b[0;31m------------------------------------------------------------------------\u001b[0m",
      "\u001b[0;31mNameError\u001b[0m                              Traceback (most recent call last)",
      "\u001b[0;32m<ipython-input-72-cbb571a27136>\u001b[0m in \u001b[0;36m<module>\u001b[0;34m\u001b[0m\n\u001b[0;32m----> 1\u001b[0;31m \u001b[0mlen\u001b[0m\u001b[0;34m(\u001b[0m\u001b[0mX_train_3\u001b[0m\u001b[0;34m.\u001b[0m\u001b[0mcolumns\u001b[0m\u001b[0;34m.\u001b[0m\u001b[0mto_list\u001b[0m\u001b[0;34m(\u001b[0m\u001b[0;34m)\u001b[0m\u001b[0;34m)\u001b[0m\u001b[0;34m\u001b[0m\u001b[0;34m\u001b[0m\u001b[0m\n\u001b[0m",
      "\u001b[0;31mNameError\u001b[0m: name 'X_train_3' is not defined"
     ]
    }
   ],
   "source": [
    "len(X_train_3.columns.to_list())"
   ]
  },
  {
   "cell_type": "code",
   "execution_count": 73,
   "metadata": {
    "ExecuteTime": {
     "end_time": "2021-03-18T10:34:52.935172Z",
     "start_time": "2021-03-18T10:34:52.816100Z"
    }
   },
   "outputs": [],
   "source": [
    "# Creating a DataFrame of top words contributing to slope and their corresponding slope\n",
    "coef_df = pd.DataFrame({'top_features': X_train_dum.columns, 'log(odds)': coefs[0]})"
   ]
  },
  {
   "cell_type": "code",
   "execution_count": 74,
   "metadata": {
    "ExecuteTime": {
     "end_time": "2021-03-18T10:34:55.409890Z",
     "start_time": "2021-03-18T10:34:55.404938Z"
    }
   },
   "outputs": [],
   "source": [
    "# gs_f2"
   ]
  },
  {
   "cell_type": "code",
   "execution_count": 75,
   "metadata": {
    "ExecuteTime": {
     "end_time": "2021-03-18T10:34:55.828044Z",
     "start_time": "2021-03-18T10:34:55.749378Z"
    }
   },
   "outputs": [],
   "source": [
    "# Calculating how feature increases the odds of text being political \n",
    "coef_df['odds'] = coef_df['log(odds)'].map(lambda x: math.exp(x))"
   ]
  },
  {
   "cell_type": "code",
   "execution_count": 76,
   "metadata": {
    "ExecuteTime": {
     "end_time": "2021-03-18T10:34:56.319511Z",
     "start_time": "2021-03-18T10:34:56.298143Z"
    }
   },
   "outputs": [],
   "source": [
    "# Setting index to be the words\n",
    "coef_df.set_index('top_features', inplace=True)"
   ]
  },
  {
   "cell_type": "code",
   "execution_count": 77,
   "metadata": {
    "ExecuteTime": {
     "end_time": "2021-03-18T10:34:56.925532Z",
     "start_time": "2021-03-18T10:34:56.845063Z"
    }
   },
   "outputs": [
    {
     "data": {
      "text/html": [
       "<div>\n",
       "<style scoped>\n",
       "    .dataframe tbody tr th:only-of-type {\n",
       "        vertical-align: middle;\n",
       "    }\n",
       "\n",
       "    .dataframe tbody tr th {\n",
       "        vertical-align: top;\n",
       "    }\n",
       "\n",
       "    .dataframe thead th {\n",
       "        text-align: right;\n",
       "    }\n",
       "</style>\n",
       "<table border=\"1\" class=\"dataframe\">\n",
       "  <thead>\n",
       "    <tr style=\"text-align: right;\">\n",
       "      <th></th>\n",
       "      <th>log(odds)</th>\n",
       "      <th>odds</th>\n",
       "    </tr>\n",
       "    <tr>\n",
       "      <th>top_features</th>\n",
       "      <th></th>\n",
       "      <th></th>\n",
       "    </tr>\n",
       "  </thead>\n",
       "  <tbody>\n",
       "    <tr>\n",
       "      <th>proportion_of_fastballs_thrown_2018</th>\n",
       "      <td>3.432784</td>\n",
       "      <td>30.962726</td>\n",
       "    </tr>\n",
       "    <tr>\n",
       "      <th>balls_3.0</th>\n",
       "      <td>0.916485</td>\n",
       "      <td>2.500485</td>\n",
       "    </tr>\n",
       "    <tr>\n",
       "      <th>fastball_in_sequence</th>\n",
       "      <td>0.518928</td>\n",
       "      <td>1.680226</td>\n",
       "    </tr>\n",
       "    <tr>\n",
       "      <th>balls_2.0</th>\n",
       "      <td>0.285098</td>\n",
       "      <td>1.329892</td>\n",
       "    </tr>\n",
       "    <tr>\n",
       "      <th>run_diff</th>\n",
       "      <td>0.221331</td>\n",
       "      <td>1.247736</td>\n",
       "    </tr>\n",
       "    <tr>\n",
       "      <th>on_1b</th>\n",
       "      <td>0.083754</td>\n",
       "      <td>1.087361</td>\n",
       "    </tr>\n",
       "    <tr>\n",
       "      <th>previous_zone_5.0</th>\n",
       "      <td>0.034466</td>\n",
       "      <td>1.035067</td>\n",
       "    </tr>\n",
       "    <tr>\n",
       "      <th>balls_4.0</th>\n",
       "      <td>0.005142</td>\n",
       "      <td>1.005155</td>\n",
       "    </tr>\n",
       "    <tr>\n",
       "      <th>inning_topbot_Top</th>\n",
       "      <td>0.004064</td>\n",
       "      <td>1.004072</td>\n",
       "    </tr>\n",
       "    <tr>\n",
       "      <th>previous_pitch_1</th>\n",
       "      <td>0.001656</td>\n",
       "      <td>1.001658</td>\n",
       "    </tr>\n",
       "    <tr>\n",
       "      <th>previous_zone_7.0</th>\n",
       "      <td>-0.000094</td>\n",
       "      <td>0.999906</td>\n",
       "    </tr>\n",
       "    <tr>\n",
       "      <th>of_fielding_alignment_4th outfielder</th>\n",
       "      <td>-0.002546</td>\n",
       "      <td>0.997457</td>\n",
       "    </tr>\n",
       "    <tr>\n",
       "      <th>stand_R</th>\n",
       "      <td>-0.006937</td>\n",
       "      <td>0.993087</td>\n",
       "    </tr>\n",
       "    <tr>\n",
       "      <th>inning_19.0</th>\n",
       "      <td>-0.010084</td>\n",
       "      <td>0.989967</td>\n",
       "    </tr>\n",
       "    <tr>\n",
       "      <th>previous_zone_8.0</th>\n",
       "      <td>-0.010811</td>\n",
       "      <td>0.989247</td>\n",
       "    </tr>\n",
       "    <tr>\n",
       "      <th>inning_16.0</th>\n",
       "      <td>-0.013618</td>\n",
       "      <td>0.986475</td>\n",
       "    </tr>\n",
       "    <tr>\n",
       "      <th>balls_1.0</th>\n",
       "      <td>-0.017119</td>\n",
       "      <td>0.983027</td>\n",
       "    </tr>\n",
       "    <tr>\n",
       "      <th>of_fielding_alignment_Standard</th>\n",
       "      <td>-0.024107</td>\n",
       "      <td>0.976181</td>\n",
       "    </tr>\n",
       "    <tr>\n",
       "      <th>previous_zone_14.0</th>\n",
       "      <td>-0.025567</td>\n",
       "      <td>0.974758</td>\n",
       "    </tr>\n",
       "    <tr>\n",
       "      <th>previous_zone_13.0</th>\n",
       "      <td>-0.026836</td>\n",
       "      <td>0.973521</td>\n",
       "    </tr>\n",
       "  </tbody>\n",
       "</table>\n",
       "</div>"
      ],
      "text/plain": [
       "                                      log(odds)       odds\n",
       "top_features                                              \n",
       "proportion_of_fastballs_thrown_2018    3.432784  30.962726\n",
       "balls_3.0                              0.916485   2.500485\n",
       "fastball_in_sequence                   0.518928   1.680226\n",
       "balls_2.0                              0.285098   1.329892\n",
       "run_diff                               0.221331   1.247736\n",
       "on_1b                                  0.083754   1.087361\n",
       "previous_zone_5.0                      0.034466   1.035067\n",
       "balls_4.0                              0.005142   1.005155\n",
       "inning_topbot_Top                      0.004064   1.004072\n",
       "previous_pitch_1                       0.001656   1.001658\n",
       "previous_zone_7.0                     -0.000094   0.999906\n",
       "of_fielding_alignment_4th outfielder  -0.002546   0.997457\n",
       "stand_R                               -0.006937   0.993087\n",
       "inning_19.0                           -0.010084   0.989967\n",
       "previous_zone_8.0                     -0.010811   0.989247\n",
       "inning_16.0                           -0.013618   0.986475\n",
       "balls_1.0                             -0.017119   0.983027\n",
       "of_fielding_alignment_Standard        -0.024107   0.976181\n",
       "previous_zone_14.0                    -0.025567   0.974758\n",
       "previous_zone_13.0                    -0.026836   0.973521"
      ]
     },
     "execution_count": 77,
     "metadata": {},
     "output_type": "execute_result"
    }
   ],
   "source": [
    "# Most political words (i.e. political text identifying words)\n",
    "top_features = coef_df.sort_values('odds', ascending=False).head(20)\n",
    "top_features"
   ]
  },
  {
   "cell_type": "code",
   "execution_count": 78,
   "metadata": {
    "ExecuteTime": {
     "end_time": "2021-03-18T10:34:58.400406Z",
     "start_time": "2021-03-18T10:34:57.717427Z"
    }
   },
   "outputs": [
    {
     "data": {
      "image/png": "[encoded data removed]",
      "text/plain": [
       "<Figure size 720x720 with 1 Axes>"
      ]
     },
     "metadata": {
      "needs_background": "light"
     },
     "output_type": "display_data"
    }
   ],
   "source": [
    "plt.figure(figsize=(10,10))\n",
    "plt.barh(top_features.index, top_features['odds'], color='grey')\n",
    "plt.title('Top 20 Features in Logistic Regression', fontsize=18)\n",
    "plt.xlabel('Odds', fontsize=16)\n",
    "plt.yticks(fontsize=16)\n",
    "plt.xticks(fontsize=12);"
   ]
  },
  {
   "cell_type": "markdown",
   "metadata": {},
   "source": [
    "As we can see, the features created have not necessarily been helpful in creating the best classification algorithm. the proportion of fastballs thrown by the pitcher was a helpful feature, however the rest of the features are not indicative of the classification. Therefore, this problem may not inherently be something predicted by bulk data without further insight into behaviors in even smaller situations. "
   ]
  }
 ],
 "metadata": {
  "kernelspec": {
   "display_name": "Python 3",
   "language": "python",
   "name": "python3"
  },
  "language_info": {
   "codemirror_mode": {
    "name": "ipython",
    "version": 3
   },
   "file_extension": ".py",
   "mimetype": "text/x-python",
   "name": "python",
   "nbconvert_exporter": "python",
   "pygments_lexer": "ipython3",
   "version": "3.8.5"
  }
 },
 "nbformat": 4,
 "nbformat_minor": 4
}
