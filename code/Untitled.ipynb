{
 "cells": [
  {
   "cell_type": "code",
   "execution_count": 12,
   "metadata": {
    "ExecuteTime": {
     "end_time": "2021-03-13T05:07:20.983954Z",
     "start_time": "2021-03-13T05:07:20.948461Z"
    }
   },
   "outputs": [],
   "source": [
    "import numpy as np\n",
    "import pandas as pd\n",
    "import seaborn as sns\n",
    "import matplotlib.pyplot as plt\n",
    "plt.style.use('ggplot')\n",
    "%matplotlib inline\n",
    "\n",
    "from sklearn.model_selection import train_test_split, GridSearchCV\n",
    "import warnings\n",
    "warnings.filterwarnings('ignore')\n",
    "from sklearn.preprocessing import StandardScaler\n",
    "from sklearn.decomposition import PCA\n",
    "from sklearn.svm import SVC\n",
    "from sklearn.pipeline import Pipeline"
   ]
  },
  {
   "cell_type": "code",
   "execution_count": 42,
   "metadata": {
    "ExecuteTime": {
     "end_time": "2021-03-13T15:52:10.813709Z",
     "start_time": "2021-03-13T15:52:09.261544Z"
    }
   },
   "outputs": [],
   "source": [
    "df = pd.read_csv('../../clean_2019.csv')\n",
    "\n",
    "df.isna().sum()\n",
    "\n",
    "df.dropna(inplace=True)\n",
    "\n",
    "X = df.drop(columns=['Unnamed: 0','pitch'])\n",
    "y = df['pitch']"
   ]
  },
  {
   "cell_type": "code",
   "execution_count": 43,
   "metadata": {
    "ExecuteTime": {
     "end_time": "2021-03-13T15:52:11.256414Z",
     "start_time": "2021-03-13T15:52:10.816898Z"
    }
   },
   "outputs": [],
   "source": [
    "X_train, X_test, y_train, y_test = train_test_split(X, y, test_size=0.25, \n",
    "                                                    random_state=16, stratify=y)"
   ]
  },
  {
   "cell_type": "code",
   "execution_count": 44,
   "metadata": {
    "ExecuteTime": {
     "end_time": "2021-03-13T15:52:11.952705Z",
     "start_time": "2021-03-13T15:52:11.947873Z"
    }
   },
   "outputs": [],
   "source": [
    "ss = StandardScaler()"
   ]
  },
  {
   "cell_type": "code",
   "execution_count": 45,
   "metadata": {
    "ExecuteTime": {
     "end_time": "2021-03-13T15:52:12.893129Z",
     "start_time": "2021-03-13T15:52:12.572269Z"
    }
   },
   "outputs": [],
   "source": [
    "X_train_ss = ss.fit_transform(X_train)\n",
    "X_test_ss = ss.transform(X_test)"
   ]
  },
  {
   "cell_type": "code",
   "execution_count": 54,
   "metadata": {
    "ExecuteTime": {
     "end_time": "2021-03-14T19:08:40.469547Z",
     "start_time": "2021-03-14T19:08:39.132563Z"
    }
   },
   "outputs": [],
   "source": [
    "pca = PCA().fit(X_train)"
   ]
  },
  {
   "cell_type": "code",
   "execution_count": 55,
   "metadata": {
    "ExecuteTime": {
     "end_time": "2021-03-14T19:08:40.548734Z",
     "start_time": "2021-03-14T19:08:40.485873Z"
    }
   },
   "outputs": [
    {
     "data": {
      "text/plain": [
       "array([1.56517890e-01, 8.03285315e-02, 7.49323004e-02, 6.65132892e-02,\n",
       "       5.80756958e-02, 5.26358428e-02, 4.38649796e-02, 4.05876268e-02,\n",
       "       4.00568612e-02, 3.87609342e-02, 3.74944836e-02, 3.50607877e-02,\n",
       "       3.41946544e-02, 3.30228556e-02, 3.24764899e-02, 2.85532571e-02,\n",
       "       2.78150664e-02, 2.77068209e-02, 2.63990455e-02, 1.64768563e-02,\n",
       "       1.23079482e-02, 1.04103126e-02, 9.50695714e-03, 6.99611167e-03,\n",
       "       6.40477512e-03, 1.91034006e-03, 9.89286231e-04, 6.96589036e-34])"
      ]
     },
     "execution_count": 55,
     "metadata": {},
     "output_type": "execute_result"
    }
   ],
   "source": [
    "pca.explained_variance_ratio_"
   ]
  },
  {
   "cell_type": "code",
   "execution_count": 48,
   "metadata": {
    "ExecuteTime": {
     "end_time": "2021-03-13T15:52:27.389402Z",
     "start_time": "2021-03-13T15:52:27.367650Z"
    }
   },
   "outputs": [],
   "source": [
    "pipe = Pipeline([\n",
    "    ('ss', StandardScaler()),\n",
    "    ('pca', PCA()),\n",
    "    ('svc', SVC())\n",
    "])"
   ]
  },
  {
   "cell_type": "code",
   "execution_count": 49,
   "metadata": {
    "ExecuteTime": {
     "end_time": "2021-03-13T15:52:28.612528Z",
     "start_time": "2021-03-13T15:52:28.595379Z"
    }
   },
   "outputs": [],
   "source": [
    "gamma_range = [0.001, 0.01, 0.1, 1, 10]# np.logspace(-5, 2, 10)\n",
    "C_range = [ 0.0001, 0.001, 0.01] # np.logspace(-3, 2, 10)\n",
    "kernel_range = ['linear']\n",
    "\n",
    "param_grid = {\n",
    "    'pca__n_components': [3],\n",
    "    #'svc__gamma': gamma_range,\n",
    "    'svc__C': C_range,\n",
    "    'svc__kernel': kernel_range,\n",
    "    'svc__class_weight': ['balanced']\n",
    "             }\n",
    "\n",
    "grid = GridSearchCV(pipe, param_grid, cv = 3,\n",
    "                    scoring = 'accuracy', verbose = 1, n_jobs = -1)"
   ]
  },
  {
   "cell_type": "code",
   "execution_count": 50,
   "metadata": {
    "ExecuteTime": {
     "end_time": "2021-03-13T18:25:21.777492Z",
     "start_time": "2021-03-13T15:52:40.000802Z"
    }
   },
   "outputs": [
    {
     "name": "stdout",
     "output_type": "stream",
     "text": [
      "Fitting 3 folds for each of 1 candidates, totalling 3 fits\n"
     ]
    },
    {
     "name": "stderr",
     "output_type": "stream",
     "text": [
      "[Parallel(n_jobs=-1)]: Using backend LokyBackend with 4 concurrent workers.\n",
      "[Parallel(n_jobs=-1)]: Done   3 out of   3 | elapsed: 66.7min finished\n"
     ]
    },
    {
     "data": {
      "text/plain": [
       "GridSearchCV(cv=3,\n",
       "             estimator=Pipeline(steps=[('ss', StandardScaler()), ('pca', PCA()),\n",
       "                                       ('svc', SVC())]),\n",
       "             n_jobs=-1,\n",
       "             param_grid={'pca__n_components': [3], 'svc__C': [0.01],\n",
       "                         'svc__class_weight': ['balanced'],\n",
       "                         'svc__kernel': ['linear']},\n",
       "             scoring='accuracy', verbose=1)"
      ]
     },
     "execution_count": 50,
     "metadata": {},
     "output_type": "execute_result"
    }
   ],
   "source": [
    "grid.fit(X_train, y_train)"
   ]
  },
  {
   "cell_type": "code",
   "execution_count": 53,
   "metadata": {
    "ExecuteTime": {
     "end_time": "2021-03-13T18:32:12.846245Z",
     "start_time": "2021-03-13T18:32:12.841105Z"
    }
   },
   "outputs": [
    {
     "name": "stdout",
     "output_type": "stream",
     "text": [
      "{'pca__n_components': 3, 'svc__C': 0.01, 'svc__class_weight': 'balanced', 'svc__kernel': 'linear'}\n",
      "0.3476427914547844\n"
     ]
    }
   ],
   "source": [
    "print(grid.best_params_)\n",
    "print(grid.best_score_)"
   ]
  },
  {
   "cell_type": "code",
   "execution_count": 52,
   "metadata": {
    "ExecuteTime": {
     "end_time": "2021-03-13T18:32:12.837421Z",
     "start_time": "2021-03-13T18:25:21.851804Z"
    }
   },
   "outputs": [
    {
     "data": {
      "text/plain": [
       "0.34136713068772073"
      ]
     },
     "execution_count": 52,
     "metadata": {},
     "output_type": "execute_result"
    }
   ],
   "source": [
    "grid.score(X_test, y_test)"
   ]
  },
  {
   "cell_type": "code",
   "execution_count": null,
   "metadata": {},
   "outputs": [],
   "source": []
  }
 ],
 "metadata": {
  "kernelspec": {
   "display_name": "Python 3",
   "language": "python",
   "name": "python3"
  },
  "language_info": {
   "codemirror_mode": {
    "name": "ipython",
    "version": 3
   },
   "file_extension": ".py",
   "mimetype": "text/x-python",
   "name": "python",
   "nbconvert_exporter": "python",
   "pygments_lexer": "ipython3",
   "version": "3.8.5"
  }
 },
 "nbformat": 4,
 "nbformat_minor": 4
}
