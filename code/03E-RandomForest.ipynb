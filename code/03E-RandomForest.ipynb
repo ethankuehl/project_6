{
 "cells": [
  {
   "cell_type": "code",
   "execution_count": null,
   "metadata": {},
   "outputs": [],
   "source": [
    "import pandas as pd\n",
    "\n",
    "from sklearn.model_selection import train_test_split, GridSearchCV\n",
    "from sklearn.ensemble import GradientBoostingClassifier\n",
    "from sklearn.pipeline import Pipeline\n",
    "from sklearn.metrics import confusion_matrix\n",
    "from sklearn.metrics import roc_auc_score"
   ]
  },
  {
   "cell_type": "code",
   "execution_count": null,
   "metadata": {},
   "outputs": [],
   "source": [
    "X_train, X_test, y_train, y_test = train_test_split(X, y, test_size=0.2, \n",
    "                                                    random_state=16, stratify=y)"
   ]
  },
  {
   "cell_type": "code",
   "execution_count": null,
   "metadata": {},
   "outputs": [],
   "source": [
    "params = {\n",
    "    'rf__n_estimators': [150, 250, 500],\n",
    "    'rf__max_depth': [None, 10, 15, 20, 30],\n",
    "    'rf__class_weight': ['balanced'],\n",
    "    'rf__min_samples_split': [250, 500, 1000],\n",
    "    'rf__min_weight_fraction_leaf': [0.12],\n",
    "    'rf__max_features': [None, 20, 10],\n",
    "    'rf__min_impurity_decrease': [0, 0.05, 0.1],\n",
    "    'rf__ccp_alpha': [0.005, 0.025, 0.05, 0.1],\n",
    "    'rf__max_samples': [100_000, 250_000],\n",
    "    'validation_fraction': [0.2]\n",
    "    'n_iter_no_change': [2]\n",
    "}"
   ]
  },
  {
   "cell_type": "code",
   "execution_count": null,
   "metadata": {},
   "outputs": [],
   "source": [
    "grid = GridSearchCV(pipe, params, cv = 5,\n",
    "                    scoring = 'accuracy', verbose = 1)\n",
    "\n",
    "grid.fit(X_train_tl, y_train_tl)"
   ]
  }
 ],
 "metadata": {
  "kernelspec": {
   "display_name": "Python 3",
   "language": "python",
   "name": "python3"
  },
  "language_info": {
   "codemirror_mode": {
    "name": "ipython",
    "version": 3
   },
   "file_extension": ".py",
   "mimetype": "text/x-python",
   "name": "python",
   "nbconvert_exporter": "python",
   "pygments_lexer": "ipython3",
   "version": "3.8.5"
  }
 },
 "nbformat": 4,
 "nbformat_minor": 4
}
