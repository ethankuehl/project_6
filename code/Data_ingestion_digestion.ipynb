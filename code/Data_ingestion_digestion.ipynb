{
 "cells": [
  {
   "cell_type": "code",
   "execution_count": 14,
   "metadata": {
    "ExecuteTime": {
     "end_time": "2021-02-28T20:04:57.128930Z",
     "start_time": "2021-02-28T20:04:57.115987Z"
    }
   },
   "outputs": [],
   "source": [
    "import pandas as pd\n",
    "\n",
    "from baseball_scraper import playerid_lookup\n",
    "from baseball_scraper import statcast_pitcher\n",
    "from baseball_scraper import batting_stats_range\n",
    "from baseball_scraper import statcast\n",
    "from baseball_scraper import statcast_batter"
   ]
  },
  {
   "cell_type": "code",
   "execution_count": 15,
   "metadata": {
    "ExecuteTime": {
     "end_time": "2021-02-28T20:04:57.141206Z",
     "start_time": "2021-02-28T20:04:57.132337Z"
    }
   },
   "outputs": [],
   "source": [
    "pd.set_option('display.max_columns', 200)\n",
    "pd.set_option('display.max_rows', 400)"
   ]
  },
  {
   "cell_type": "markdown",
   "metadata": {},
   "source": [
    "## 2015 Data"
   ]
  },
  {
   "cell_type": "code",
   "execution_count": 16,
   "metadata": {
    "ExecuteTime": {
     "end_time": "2021-02-28T20:05:05.674270Z",
     "start_time": "2021-02-28T20:04:57.145728Z"
    }
   },
   "outputs": [],
   "source": [
    "summary_2015 = batting_stats_range('2015-04-01', '2015-11-05')"
   ]
  },
  {
   "cell_type": "code",
   "execution_count": 46,
   "metadata": {
    "ExecuteTime": {
     "end_time": "2021-03-01T01:04:52.792547Z",
     "start_time": "2021-03-01T01:04:52.749796Z"
    }
   },
   "outputs": [],
   "source": [
    "summary_2015.to_csv('./data/season_statistics/summary_2015.csv', index=False)"
   ]
  },
  {
   "cell_type": "code",
   "execution_count": 17,
   "metadata": {
    "ExecuteTime": {
     "end_time": "2021-02-28T20:10:12.530705Z",
     "start_time": "2021-02-28T20:05:05.677166Z"
    }
   },
   "outputs": [
    {
     "name": "stdout",
     "output_type": "stream",
     "text": [
      "This is a large query, it may take a moment to complete\n",
      "Completed sub-query from 2015-04-01 to 2015-04-06\n",
      "Completed sub-query from 2015-04-07 to 2015-04-12\n",
      "Completed sub-query from 2015-04-13 to 2015-04-18\n",
      "Completed sub-query from 2015-04-19 to 2015-04-24\n",
      "Completed sub-query from 2015-04-25 to 2015-04-30\n",
      "Completed sub-query from 2015-05-01 to 2015-05-06\n",
      "Completed sub-query from 2015-05-07 to 2015-05-12\n",
      "Completed sub-query from 2015-05-13 to 2015-05-18\n",
      "Completed sub-query from 2015-05-19 to 2015-05-24\n",
      "Completed sub-query from 2015-05-25 to 2015-05-30\n",
      "Completed sub-query from 2015-05-31 to 2015-06-05\n",
      "Completed sub-query from 2015-06-06 to 2015-06-11\n",
      "Completed sub-query from 2015-06-12 to 2015-06-17\n",
      "Completed sub-query from 2015-06-18 to 2015-06-23\n",
      "Completed sub-query from 2015-06-24 to 2015-06-29\n",
      "Completed sub-query from 2015-06-30 to 2015-07-05\n",
      "Completed sub-query from 2015-07-06 to 2015-07-11\n",
      "Completed sub-query from 2015-07-12 to 2015-07-17\n",
      "Completed sub-query from 2015-07-18 to 2015-07-23\n",
      "Completed sub-query from 2015-07-24 to 2015-07-29\n",
      "Completed sub-query from 2015-07-30 to 2015-08-04\n",
      "Completed sub-query from 2015-08-05 to 2015-08-10\n",
      "Completed sub-query from 2015-08-11 to 2015-08-16\n",
      "Completed sub-query from 2015-08-17 to 2015-08-22\n",
      "Completed sub-query from 2015-08-23 to 2015-08-28\n",
      "Completed sub-query from 2015-08-29 to 2015-09-03\n",
      "Completed sub-query from 2015-09-04 to 2015-09-09\n",
      "Completed sub-query from 2015-09-10 to 2015-09-15\n",
      "Completed sub-query from 2015-09-16 to 2015-09-21\n",
      "Completed sub-query from 2015-09-22 to 2015-09-27\n",
      "Completed sub-query from 2015-09-28 to 2015-10-03\n",
      "Completed sub-query from 2015-10-04 to 2015-10-09\n",
      "Completed sub-query from 2015-10-10 to 2015-10-15\n",
      "Completed sub-query from 2015-10-16 to 2015-10-21\n",
      "Completed sub-query from 2015-10-22 to 2015-10-27\n",
      "Completed sub-query from 2015-10-28 to 2015-11-02\n",
      "Completed sub-query from 2015-11-03 to 2015-11-05\n"
     ]
    }
   ],
   "source": [
    "sc_2015 = statcast(start_dt='2015-04-01', end_dt= '2015-11-05')"
   ]
  },
  {
   "cell_type": "code",
   "execution_count": 47,
   "metadata": {
    "ExecuteTime": {
     "end_time": "2021-03-01T01:05:48.096774Z",
     "start_time": "2021-03-01T01:04:52.805292Z"
    }
   },
   "outputs": [],
   "source": [
    "sc_2015.to_csv('./data/statcast_data/sc_2015.csv', index=False)"
   ]
  },
  {
   "cell_type": "markdown",
   "metadata": {},
   "source": [
    "## 2016 Data"
   ]
  },
  {
   "cell_type": "code",
   "execution_count": 18,
   "metadata": {
    "ExecuteTime": {
     "end_time": "2021-02-28T20:10:20.255847Z",
     "start_time": "2021-02-28T20:10:12.533038Z"
    }
   },
   "outputs": [],
   "source": [
    "summary_2016 = batting_stats_range('2016-04-01', '2016-11-07')"
   ]
  },
  {
   "cell_type": "code",
   "execution_count": 48,
   "metadata": {
    "ExecuteTime": {
     "end_time": "2021-03-01T01:05:48.148318Z",
     "start_time": "2021-03-01T01:05:48.098933Z"
    }
   },
   "outputs": [],
   "source": [
    "summary_2016.to_csv('./data/season_statistics/summary_2016.csv', index=False)"
   ]
  },
  {
   "cell_type": "code",
   "execution_count": 19,
   "metadata": {
    "ExecuteTime": {
     "end_time": "2021-02-28T20:15:52.283988Z",
     "start_time": "2021-02-28T20:10:20.257992Z"
    }
   },
   "outputs": [
    {
     "name": "stdout",
     "output_type": "stream",
     "text": [
      "This is a large query, it may take a moment to complete\n",
      "Completed sub-query from 2016-04-01 to 2016-04-06\n",
      "Completed sub-query from 2016-04-07 to 2016-04-12\n",
      "Completed sub-query from 2016-04-13 to 2016-04-18\n",
      "Completed sub-query from 2016-04-19 to 2016-04-24\n",
      "Completed sub-query from 2016-04-25 to 2016-04-30\n",
      "Completed sub-query from 2016-05-01 to 2016-05-06\n",
      "Completed sub-query from 2016-05-07 to 2016-05-12\n",
      "Completed sub-query from 2016-05-13 to 2016-05-18\n",
      "Completed sub-query from 2016-05-19 to 2016-05-24\n",
      "Completed sub-query from 2016-05-25 to 2016-05-30\n",
      "Completed sub-query from 2016-05-31 to 2016-06-05\n",
      "Completed sub-query from 2016-06-06 to 2016-06-11\n",
      "Completed sub-query from 2016-06-12 to 2016-06-17\n",
      "Completed sub-query from 2016-06-18 to 2016-06-23\n",
      "Completed sub-query from 2016-06-24 to 2016-06-29\n",
      "Completed sub-query from 2016-06-30 to 2016-07-05\n",
      "Completed sub-query from 2016-07-06 to 2016-07-11\n",
      "Completed sub-query from 2016-07-12 to 2016-07-17\n",
      "Completed sub-query from 2016-07-18 to 2016-07-23\n",
      "Completed sub-query from 2016-07-24 to 2016-07-29\n",
      "Completed sub-query from 2016-07-30 to 2016-08-04\n",
      "Completed sub-query from 2016-08-05 to 2016-08-10\n",
      "Completed sub-query from 2016-08-11 to 2016-08-16\n",
      "Completed sub-query from 2016-08-17 to 2016-08-22\n",
      "Completed sub-query from 2016-08-23 to 2016-08-28\n",
      "Completed sub-query from 2016-08-29 to 2016-09-03\n",
      "Completed sub-query from 2016-09-04 to 2016-09-09\n",
      "Completed sub-query from 2016-09-10 to 2016-09-15\n",
      "Completed sub-query from 2016-09-16 to 2016-09-21\n",
      "Completed sub-query from 2016-09-22 to 2016-09-27\n",
      "Completed sub-query from 2016-09-28 to 2016-10-03\n",
      "Completed sub-query from 2016-10-04 to 2016-10-09\n",
      "Completed sub-query from 2016-10-10 to 2016-10-15\n",
      "Completed sub-query from 2016-10-16 to 2016-10-21\n",
      "Completed sub-query from 2016-10-22 to 2016-10-27\n",
      "Completed sub-query from 2016-10-28 to 2016-11-02\n",
      "Completed sub-query from 2016-11-03 to 2016-11-07\n"
     ]
    }
   ],
   "source": [
    "sc_2016 = statcast(start_dt='2016-04-01', end_dt='2016-11-07')"
   ]
  },
  {
   "cell_type": "code",
   "execution_count": 49,
   "metadata": {
    "ExecuteTime": {
     "end_time": "2021-03-01T01:06:44.444974Z",
     "start_time": "2021-03-01T01:05:48.150164Z"
    }
   },
   "outputs": [],
   "source": [
    "sc_2016.to_csv('./data/statcast_data/sc_2016.csv', index=False)"
   ]
  },
  {
   "cell_type": "markdown",
   "metadata": {},
   "source": [
    "## 2017 Data"
   ]
  },
  {
   "cell_type": "code",
   "execution_count": 20,
   "metadata": {
    "ExecuteTime": {
     "end_time": "2021-02-28T20:16:00.245840Z",
     "start_time": "2021-02-28T20:15:52.285943Z"
    }
   },
   "outputs": [],
   "source": [
    "summary_2017 = batting_stats_range('2017-04-01', '2017-11-07')"
   ]
  },
  {
   "cell_type": "code",
   "execution_count": 50,
   "metadata": {
    "ExecuteTime": {
     "end_time": "2021-03-01T01:06:44.479012Z",
     "start_time": "2021-03-01T01:06:44.446744Z"
    }
   },
   "outputs": [],
   "source": [
    "summary_2017.to_csv('./data/season_statistics/summary_2017.csv', index=False)"
   ]
  },
  {
   "cell_type": "code",
   "execution_count": 21,
   "metadata": {
    "ExecuteTime": {
     "end_time": "2021-02-28T20:21:31.116922Z",
     "start_time": "2021-02-28T20:16:00.251048Z"
    }
   },
   "outputs": [
    {
     "name": "stdout",
     "output_type": "stream",
     "text": [
      "This is a large query, it may take a moment to complete\n",
      "Completed sub-query from 2017-04-01 to 2017-04-06\n",
      "Completed sub-query from 2017-04-07 to 2017-04-12\n",
      "Completed sub-query from 2017-04-13 to 2017-04-18\n",
      "Completed sub-query from 2017-04-19 to 2017-04-24\n",
      "Completed sub-query from 2017-04-25 to 2017-04-30\n",
      "Completed sub-query from 2017-05-01 to 2017-05-06\n",
      "Completed sub-query from 2017-05-07 to 2017-05-12\n",
      "Completed sub-query from 2017-05-13 to 2017-05-18\n",
      "Completed sub-query from 2017-05-19 to 2017-05-24\n",
      "Completed sub-query from 2017-05-25 to 2017-05-30\n",
      "Completed sub-query from 2017-05-31 to 2017-06-05\n",
      "Completed sub-query from 2017-06-06 to 2017-06-11\n",
      "Completed sub-query from 2017-06-12 to 2017-06-17\n",
      "Completed sub-query from 2017-06-18 to 2017-06-23\n",
      "Completed sub-query from 2017-06-24 to 2017-06-29\n",
      "Completed sub-query from 2017-06-30 to 2017-07-05\n",
      "Completed sub-query from 2017-07-06 to 2017-07-11\n",
      "Completed sub-query from 2017-07-12 to 2017-07-17\n",
      "Completed sub-query from 2017-07-18 to 2017-07-23\n",
      "Completed sub-query from 2017-07-24 to 2017-07-29\n",
      "Completed sub-query from 2017-07-30 to 2017-08-04\n",
      "Completed sub-query from 2017-08-05 to 2017-08-10\n",
      "Completed sub-query from 2017-08-11 to 2017-08-16\n",
      "Completed sub-query from 2017-08-17 to 2017-08-22\n",
      "Completed sub-query from 2017-08-23 to 2017-08-28\n",
      "Completed sub-query from 2017-08-29 to 2017-09-03\n",
      "Completed sub-query from 2017-09-04 to 2017-09-09\n",
      "Completed sub-query from 2017-09-10 to 2017-09-15\n",
      "Completed sub-query from 2017-09-16 to 2017-09-21\n",
      "Completed sub-query from 2017-09-22 to 2017-09-27\n",
      "Completed sub-query from 2017-09-28 to 2017-10-03\n",
      "Completed sub-query from 2017-10-04 to 2017-10-09\n",
      "Completed sub-query from 2017-10-10 to 2017-10-15\n",
      "Completed sub-query from 2017-10-16 to 2017-10-21\n",
      "Completed sub-query from 2017-10-22 to 2017-10-27\n",
      "Completed sub-query from 2017-10-28 to 2017-11-02\n",
      "Completed sub-query from 2017-11-03 to 2017-11-07\n"
     ]
    }
   ],
   "source": [
    "sc_2017 = statcast(start_dt='2017-04-01', end_dt='2017-11-07')"
   ]
  },
  {
   "cell_type": "code",
   "execution_count": 51,
   "metadata": {
    "ExecuteTime": {
     "end_time": "2021-03-01T01:07:41.076354Z",
     "start_time": "2021-03-01T01:06:44.481338Z"
    }
   },
   "outputs": [],
   "source": [
    "sc_2017.to_csv('./data/statcast_data/sc_2017.csv', index=False)"
   ]
  },
  {
   "cell_type": "markdown",
   "metadata": {},
   "source": [
    "## 2018 Data"
   ]
  },
  {
   "cell_type": "code",
   "execution_count": 22,
   "metadata": {
    "ExecuteTime": {
     "end_time": "2021-02-28T20:21:39.583377Z",
     "start_time": "2021-02-28T20:21:31.120203Z"
    }
   },
   "outputs": [],
   "source": [
    "summary_2018 = batting_stats_range('2018-03-29', '2018-11-07')"
   ]
  },
  {
   "cell_type": "code",
   "execution_count": 52,
   "metadata": {
    "ExecuteTime": {
     "end_time": "2021-03-01T01:07:41.099158Z",
     "start_time": "2021-03-01T01:07:41.078909Z"
    }
   },
   "outputs": [],
   "source": [
    "summary_2018.to_csv('./data/season_statistics/summary_2018.csv', index=False)"
   ]
  },
  {
   "cell_type": "code",
   "execution_count": 23,
   "metadata": {
    "ExecuteTime": {
     "end_time": "2021-02-28T20:27:04.790007Z",
     "start_time": "2021-02-28T20:21:39.585749Z"
    }
   },
   "outputs": [
    {
     "name": "stdout",
     "output_type": "stream",
     "text": [
      "This is a large query, it may take a moment to complete\n",
      "Completed sub-query from 2018-03-29 to 2018-04-03\n",
      "Completed sub-query from 2018-04-04 to 2018-04-09\n",
      "Completed sub-query from 2018-04-10 to 2018-04-15\n",
      "Completed sub-query from 2018-04-16 to 2018-04-21\n",
      "Completed sub-query from 2018-04-22 to 2018-04-27\n",
      "Completed sub-query from 2018-04-28 to 2018-05-03\n",
      "Completed sub-query from 2018-05-04 to 2018-05-09\n",
      "Completed sub-query from 2018-05-10 to 2018-05-15\n",
      "Completed sub-query from 2018-05-16 to 2018-05-21\n",
      "Completed sub-query from 2018-05-22 to 2018-05-27\n",
      "Completed sub-query from 2018-05-28 to 2018-06-02\n",
      "Completed sub-query from 2018-06-03 to 2018-06-08\n",
      "Completed sub-query from 2018-06-09 to 2018-06-14\n",
      "Completed sub-query from 2018-06-15 to 2018-06-20\n",
      "Completed sub-query from 2018-06-21 to 2018-06-26\n",
      "Completed sub-query from 2018-06-27 to 2018-07-02\n",
      "Completed sub-query from 2018-07-03 to 2018-07-08\n",
      "Completed sub-query from 2018-07-09 to 2018-07-14\n",
      "Completed sub-query from 2018-07-15 to 2018-07-20\n",
      "Completed sub-query from 2018-07-21 to 2018-07-26\n",
      "Completed sub-query from 2018-07-27 to 2018-08-01\n",
      "Completed sub-query from 2018-08-02 to 2018-08-07\n",
      "Completed sub-query from 2018-08-08 to 2018-08-13\n",
      "Completed sub-query from 2018-08-14 to 2018-08-19\n",
      "Completed sub-query from 2018-08-20 to 2018-08-25\n",
      "Completed sub-query from 2018-08-26 to 2018-08-31\n",
      "Completed sub-query from 2018-09-01 to 2018-09-06\n",
      "Completed sub-query from 2018-09-07 to 2018-09-12\n",
      "Completed sub-query from 2018-09-13 to 2018-09-18\n",
      "Completed sub-query from 2018-09-19 to 2018-09-24\n",
      "Completed sub-query from 2018-09-25 to 2018-09-30\n",
      "Completed sub-query from 2018-10-01 to 2018-10-06\n",
      "Completed sub-query from 2018-10-07 to 2018-10-12\n",
      "Completed sub-query from 2018-10-13 to 2018-10-18\n",
      "Completed sub-query from 2018-10-19 to 2018-10-24\n",
      "Completed sub-query from 2018-10-25 to 2018-10-30\n",
      "Query unsuccessful for data from 2018-10-31 to 2018-11-04. Skipping these dates.\n",
      "Query unsuccessful for data from 2018-11-05 to 2018-11-05. Skipping these dates.\n",
      "Completed sub-query from 2018-11-06 to 2018-11-07\n"
     ]
    }
   ],
   "source": [
    "sc_2018 = statcast(start_dt='2018-03-29', end_dt='2018-11-07')"
   ]
  },
  {
   "cell_type": "code",
   "execution_count": 44,
   "metadata": {
    "ExecuteTime": {
     "end_time": "2021-03-01T01:04:52.690217Z",
     "start_time": "2021-03-01T01:03:48.941426Z"
    }
   },
   "outputs": [],
   "source": [
    "sc_2018.to_csv('./data/statcast_data/sc_2018.csv', index=False)"
   ]
  },
  {
   "cell_type": "markdown",
   "metadata": {},
   "source": [
    "## 2019 Data"
   ]
  },
  {
   "cell_type": "code",
   "execution_count": 24,
   "metadata": {
    "ExecuteTime": {
     "end_time": "2021-02-28T20:27:19.200639Z",
     "start_time": "2021-02-28T20:27:04.794017Z"
    }
   },
   "outputs": [],
   "source": [
    "summary_2019 = batting_stats_range('2019-03-20', '2019-11-07')"
   ]
  },
  {
   "cell_type": "code",
   "execution_count": 43,
   "metadata": {
    "ExecuteTime": {
     "end_time": "2021-03-01T01:03:48.938274Z",
     "start_time": "2021-03-01T01:03:48.895382Z"
    }
   },
   "outputs": [],
   "source": [
    "summary_2019.to_csv('./data/season_statistics/summary_2019.csv', index=False)"
   ]
  },
  {
   "cell_type": "code",
   "execution_count": 25,
   "metadata": {
    "ExecuteTime": {
     "end_time": "2021-02-28T20:33:29.632355Z",
     "start_time": "2021-02-28T20:27:19.202628Z"
    }
   },
   "outputs": [
    {
     "name": "stdout",
     "output_type": "stream",
     "text": [
      "This is a large query, it may take a moment to complete\n",
      "Completed sub-query from 2019-03-20 to 2019-03-25\n",
      "Completed sub-query from 2019-03-26 to 2019-03-31\n",
      "Completed sub-query from 2019-04-01 to 2019-04-06\n",
      "Completed sub-query from 2019-04-07 to 2019-04-12\n",
      "Completed sub-query from 2019-04-13 to 2019-04-18\n",
      "Completed sub-query from 2019-04-19 to 2019-04-24\n",
      "Completed sub-query from 2019-04-25 to 2019-04-30\n",
      "Completed sub-query from 2019-05-01 to 2019-05-06\n",
      "Completed sub-query from 2019-05-07 to 2019-05-12\n",
      "Completed sub-query from 2019-05-13 to 2019-05-18\n",
      "Completed sub-query from 2019-05-19 to 2019-05-24\n",
      "Completed sub-query from 2019-05-25 to 2019-05-30\n",
      "Completed sub-query from 2019-05-31 to 2019-06-05\n",
      "Completed sub-query from 2019-06-06 to 2019-06-11\n",
      "Completed sub-query from 2019-06-12 to 2019-06-17\n",
      "Completed sub-query from 2019-06-18 to 2019-06-23\n",
      "Completed sub-query from 2019-06-24 to 2019-06-29\n",
      "Completed sub-query from 2019-06-30 to 2019-07-05\n",
      "Completed sub-query from 2019-07-06 to 2019-07-11\n",
      "Completed sub-query from 2019-07-12 to 2019-07-17\n",
      "Completed sub-query from 2019-07-18 to 2019-07-23\n",
      "Completed sub-query from 2019-07-24 to 2019-07-29\n",
      "Completed sub-query from 2019-07-30 to 2019-08-04\n",
      "Completed sub-query from 2019-08-05 to 2019-08-10\n",
      "Completed sub-query from 2019-08-11 to 2019-08-16\n",
      "Completed sub-query from 2019-08-17 to 2019-08-22\n",
      "Completed sub-query from 2019-08-23 to 2019-08-28\n",
      "Completed sub-query from 2019-08-29 to 2019-09-03\n",
      "Completed sub-query from 2019-09-04 to 2019-09-09\n",
      "Completed sub-query from 2019-09-10 to 2019-09-15\n",
      "Completed sub-query from 2019-09-16 to 2019-09-21\n",
      "Completed sub-query from 2019-09-22 to 2019-09-27\n",
      "Completed sub-query from 2019-09-28 to 2019-10-03\n",
      "Completed sub-query from 2019-10-04 to 2019-10-09\n",
      "Completed sub-query from 2019-10-10 to 2019-10-15\n",
      "Completed sub-query from 2019-10-16 to 2019-10-21\n",
      "Completed sub-query from 2019-10-22 to 2019-10-27\n",
      "Completed sub-query from 2019-10-28 to 2019-11-02\n",
      "Completed sub-query from 2019-11-03 to 2019-11-07\n"
     ]
    }
   ],
   "source": [
    "sc_2019 = statcast(start_dt='2019-03-20', end_dt='2019-11-07')"
   ]
  },
  {
   "cell_type": "code",
   "execution_count": 42,
   "metadata": {
    "ExecuteTime": {
     "end_time": "2021-03-01T01:03:48.892177Z",
     "start_time": "2021-03-01T01:02:49.171665Z"
    }
   },
   "outputs": [],
   "source": [
    "sc_2019.to_csv('./data/statcast_data/sc_2019.csv', index=False)"
   ]
  },
  {
   "cell_type": "markdown",
   "metadata": {},
   "source": [
    "## 2020 Data"
   ]
  },
  {
   "cell_type": "code",
   "execution_count": 26,
   "metadata": {
    "ExecuteTime": {
     "end_time": "2021-02-28T20:33:39.611283Z",
     "start_time": "2021-02-28T20:33:29.637403Z"
    }
   },
   "outputs": [],
   "source": [
    "summary_2020 = batting_stats_range('2020-07-23', '2020-10-27')"
   ]
  },
  {
   "cell_type": "code",
   "execution_count": 41,
   "metadata": {
    "ExecuteTime": {
     "end_time": "2021-03-01T01:02:49.164407Z",
     "start_time": "2021-03-01T01:02:49.119720Z"
    }
   },
   "outputs": [],
   "source": [
    "summary_2020.to_csv('./data/season_statistics/summary_2020.csv', index=False)"
   ]
  },
  {
   "cell_type": "code",
   "execution_count": 27,
   "metadata": {
    "ExecuteTime": {
     "end_time": "2021-02-28T20:35:43.113794Z",
     "start_time": "2021-02-28T20:33:39.613347Z"
    }
   },
   "outputs": [
    {
     "name": "stdout",
     "output_type": "stream",
     "text": [
      "This is a large query, it may take a moment to complete\n",
      "Completed sub-query from 2020-07-23 to 2020-07-28\n",
      "Completed sub-query from 2020-07-29 to 2020-08-03\n",
      "Completed sub-query from 2020-08-04 to 2020-08-09\n",
      "Completed sub-query from 2020-08-10 to 2020-08-15\n",
      "Completed sub-query from 2020-08-16 to 2020-08-21\n",
      "Completed sub-query from 2020-08-22 to 2020-08-27\n",
      "Completed sub-query from 2020-08-28 to 2020-09-02\n",
      "Completed sub-query from 2020-09-03 to 2020-09-08\n",
      "Completed sub-query from 2020-09-09 to 2020-09-14\n",
      "Completed sub-query from 2020-09-15 to 2020-09-20\n",
      "Completed sub-query from 2020-09-21 to 2020-09-26\n",
      "Completed sub-query from 2020-09-27 to 2020-10-02\n",
      "Completed sub-query from 2020-10-03 to 2020-10-08\n",
      "Completed sub-query from 2020-10-09 to 2020-10-14\n",
      "Completed sub-query from 2020-10-15 to 2020-10-20\n",
      "Completed sub-query from 2020-10-21 to 2020-10-26\n",
      "Completed sub-query from 2020-10-27 to 2020-10-27\n"
     ]
    }
   ],
   "source": [
    "sc_2020 = statcast(start_dt='2020-07-23', end_dt='2020-10-27')"
   ]
  },
  {
   "cell_type": "code",
   "execution_count": 40,
   "metadata": {
    "ExecuteTime": {
     "end_time": "2021-03-01T01:02:49.103380Z",
     "start_time": "2021-03-01T01:02:26.429914Z"
    }
   },
   "outputs": [],
   "source": [
    "sc_2020.to_csv('./data/statcast_data/sc_2020.csv',index=False)"
   ]
  },
  {
   "cell_type": "code",
   "execution_count": null,
   "metadata": {},
   "outputs": [],
   "source": []
  },
  {
   "cell_type": "code",
   "execution_count": 54,
   "metadata": {
    "ExecuteTime": {
     "end_time": "2021-03-01T02:29:22.345915Z",
     "start_time": "2021-03-01T02:29:10.485589Z"
    }
   },
   "outputs": [
    {
     "name": "stdout",
     "output_type": "stream",
     "text": [
      "Collecting pybaseball\n",
      "  Downloading pybaseball-2.1.1-py3-none-any.whl (406 kB)\n",
      "\u001b[K     |████████████████████████████████| 406 kB 1.7 MB/s eta 0:00:01\n",
      "\u001b[?25hRequirement already satisfied: scipy>=1.4.0 in /Users/johnnybex/opt/anaconda3/lib/python3.8/site-packages (from pybaseball) (1.5.2)\n",
      "Requirement already satisfied: beautifulsoup4>=4.4.0 in /Users/johnnybex/opt/anaconda3/lib/python3.8/site-packages (from pybaseball) (4.9.3)\n",
      "Requirement already satisfied: matplotlib>=2.0.0 in /Users/johnnybex/opt/anaconda3/lib/python3.8/site-packages (from pybaseball) (3.3.2)\n",
      "Requirement already satisfied: requests>=2.18.1 in /Users/johnnybex/opt/anaconda3/lib/python3.8/site-packages (from pybaseball) (2.24.0)\n",
      "Requirement already satisfied: numpy>=1.13.0 in /Users/johnnybex/opt/anaconda3/lib/python3.8/site-packages (from pybaseball) (1.19.2)\n",
      "Collecting pyarrow>=1.0.1\n",
      "  Downloading pyarrow-3.0.0-cp38-cp38-macosx_10_13_x86_64.whl (14.1 MB)\n",
      "\u001b[K     |████████████████████████████████| 14.1 MB 15.9 MB/s eta 0:00:01    |████████████████████████████▌   | 12.6 MB 2.9 MB/s eta 0:00:01\n",
      "\u001b[?25hRequirement already satisfied: pandas>=1.0.3 in /Users/johnnybex/opt/anaconda3/lib/python3.8/site-packages (from pybaseball) (1.1.3)\n",
      "Requirement already satisfied: lxml>=4.2.1 in /Users/johnnybex/opt/anaconda3/lib/python3.8/site-packages (from pybaseball) (4.6.1)\n",
      "Collecting pygithub>=1.51\n",
      "  Downloading PyGithub-1.54.1-py3-none-any.whl (289 kB)\n",
      "\u001b[K     |████████████████████████████████| 289 kB 4.3 MB/s eta 0:00:01\n",
      "\u001b[?25hCollecting altair>=4.0.0\n",
      "  Downloading altair-4.1.0-py3-none-any.whl (727 kB)\n",
      "\u001b[K     |████████████████████████████████| 727 kB 12.4 MB/s eta 0:00:01\n",
      "\u001b[?25hRequirement already satisfied: soupsieve>1.2; python_version >= \"3.0\" in /Users/johnnybex/opt/anaconda3/lib/python3.8/site-packages (from beautifulsoup4>=4.4.0->pybaseball) (2.0.1)\n",
      "Requirement already satisfied: certifi>=2020.06.20 in /Users/johnnybex/opt/anaconda3/lib/python3.8/site-packages (from matplotlib>=2.0.0->pybaseball) (2020.6.20)\n",
      "Requirement already satisfied: kiwisolver>=1.0.1 in /Users/johnnybex/opt/anaconda3/lib/python3.8/site-packages (from matplotlib>=2.0.0->pybaseball) (1.3.0)\n",
      "Requirement already satisfied: python-dateutil>=2.1 in /Users/johnnybex/opt/anaconda3/lib/python3.8/site-packages (from matplotlib>=2.0.0->pybaseball) (2.8.1)\n",
      "Requirement already satisfied: cycler>=0.10 in /Users/johnnybex/opt/anaconda3/lib/python3.8/site-packages (from matplotlib>=2.0.0->pybaseball) (0.10.0)\n",
      "Requirement already satisfied: pyparsing!=2.0.4,!=2.1.2,!=2.1.6,>=2.0.3 in /Users/johnnybex/opt/anaconda3/lib/python3.8/site-packages (from matplotlib>=2.0.0->pybaseball) (2.4.7)\n",
      "Requirement already satisfied: pillow>=6.2.0 in /Users/johnnybex/opt/anaconda3/lib/python3.8/site-packages (from matplotlib>=2.0.0->pybaseball) (8.0.1)\n",
      "Requirement already satisfied: idna<3,>=2.5 in /Users/johnnybex/opt/anaconda3/lib/python3.8/site-packages (from requests>=2.18.1->pybaseball) (2.10)\n",
      "Requirement already satisfied: chardet<4,>=3.0.2 in /Users/johnnybex/opt/anaconda3/lib/python3.8/site-packages (from requests>=2.18.1->pybaseball) (3.0.4)\n",
      "Requirement already satisfied: urllib3!=1.25.0,!=1.25.1,<1.26,>=1.21.1 in /Users/johnnybex/opt/anaconda3/lib/python3.8/site-packages (from requests>=2.18.1->pybaseball) (1.25.11)\n",
      "Requirement already satisfied: pytz>=2017.2 in /Users/johnnybex/opt/anaconda3/lib/python3.8/site-packages (from pandas>=1.0.3->pybaseball) (2020.1)\n",
      "Collecting pyjwt<2.0\n",
      "  Downloading PyJWT-1.7.1-py2.py3-none-any.whl (18 kB)\n",
      "Collecting deprecated\n",
      "  Downloading Deprecated-1.2.11-py2.py3-none-any.whl (9.1 kB)\n",
      "Requirement already satisfied: jsonschema in /Users/johnnybex/opt/anaconda3/lib/python3.8/site-packages (from altair>=4.0.0->pybaseball) (3.2.0)\n",
      "Requirement already satisfied: entrypoints in /Users/johnnybex/opt/anaconda3/lib/python3.8/site-packages (from altair>=4.0.0->pybaseball) (0.3)\n",
      "Requirement already satisfied: toolz in /Users/johnnybex/opt/anaconda3/lib/python3.8/site-packages (from altair>=4.0.0->pybaseball) (0.11.1)\n",
      "Requirement already satisfied: jinja2 in /Users/johnnybex/opt/anaconda3/lib/python3.8/site-packages (from altair>=4.0.0->pybaseball) (2.11.2)\n",
      "Requirement already satisfied: six>=1.5 in /Users/johnnybex/opt/anaconda3/lib/python3.8/site-packages (from python-dateutil>=2.1->matplotlib>=2.0.0->pybaseball) (1.15.0)\n",
      "Requirement already satisfied: wrapt<2,>=1.10 in /Users/johnnybex/opt/anaconda3/lib/python3.8/site-packages (from deprecated->pygithub>=1.51->pybaseball) (1.12.1)\n",
      "Requirement already satisfied: attrs>=17.4.0 in /Users/johnnybex/opt/anaconda3/lib/python3.8/site-packages (from jsonschema->altair>=4.0.0->pybaseball) (20.3.0)\n",
      "Requirement already satisfied: setuptools in /Users/johnnybex/opt/anaconda3/lib/python3.8/site-packages (from jsonschema->altair>=4.0.0->pybaseball) (50.3.1.post20201107)\n",
      "Requirement already satisfied: pyrsistent>=0.14.0 in /Users/johnnybex/opt/anaconda3/lib/python3.8/site-packages (from jsonschema->altair>=4.0.0->pybaseball) (0.17.3)\n",
      "Requirement already satisfied: MarkupSafe>=0.23 in /Users/johnnybex/opt/anaconda3/lib/python3.8/site-packages (from jinja2->altair>=4.0.0->pybaseball) (1.1.1)\n",
      "Installing collected packages: pyarrow, pyjwt, deprecated, pygithub, altair, pybaseball\n",
      "Successfully installed altair-4.1.0 deprecated-1.2.11 pyarrow-3.0.0 pybaseball-2.1.1 pygithub-1.54.1 pyjwt-1.7.1\n"
     ]
    }
   ],
   "source": [
    "!pip install pybaseball\n"
   ]
  },
  {
   "cell_type": "code",
   "execution_count": 55,
   "metadata": {
    "ExecuteTime": {
     "end_time": "2021-03-01T02:31:08.765316Z",
     "start_time": "2021-03-01T02:31:04.746713Z"
    }
   },
   "outputs": [],
   "source": [
    "from pybaseball import bwar_bat"
   ]
  },
  {
   "cell_type": "code",
   "execution_count": 61,
   "metadata": {
    "ExecuteTime": {
     "end_time": "2021-03-01T02:42:42.868150Z",
     "start_time": "2021-03-01T02:42:33.822892Z"
    }
   },
   "outputs": [],
   "source": [
    "data = bwar_bat(return_all=True)"
   ]
  },
  {
   "cell_type": "code",
   "execution_count": 62,
   "metadata": {
    "ExecuteTime": {
     "end_time": "2021-03-01T02:42:42.950751Z",
     "start_time": "2021-03-01T02:42:42.871901Z"
    }
   },
   "outputs": [
    {
     "data": {
      "text/html": [
       "<div>\n",
       "<style scoped>\n",
       "    .dataframe tbody tr th:only-of-type {\n",
       "        vertical-align: middle;\n",
       "    }\n",
       "\n",
       "    .dataframe tbody tr th {\n",
       "        vertical-align: top;\n",
       "    }\n",
       "\n",
       "    .dataframe thead th {\n",
       "        text-align: right;\n",
       "    }\n",
       "</style>\n",
       "<table border=\"1\" class=\"dataframe\">\n",
       "  <thead>\n",
       "    <tr style=\"text-align: right;\">\n",
       "      <th></th>\n",
       "      <th>name_common</th>\n",
       "      <th>age</th>\n",
       "      <th>mlb_ID</th>\n",
       "      <th>player_ID</th>\n",
       "      <th>year_ID</th>\n",
       "      <th>team_ID</th>\n",
       "      <th>stint_ID</th>\n",
       "      <th>lg_ID</th>\n",
       "      <th>PA</th>\n",
       "      <th>G</th>\n",
       "      <th>Inn</th>\n",
       "      <th>runs_bat</th>\n",
       "      <th>runs_br</th>\n",
       "      <th>runs_dp</th>\n",
       "      <th>runs_field</th>\n",
       "      <th>runs_infield</th>\n",
       "      <th>runs_outfield</th>\n",
       "      <th>runs_catcher</th>\n",
       "      <th>runs_good_plays</th>\n",
       "      <th>runs_defense</th>\n",
       "      <th>runs_position</th>\n",
       "      <th>runs_position_p</th>\n",
       "      <th>runs_replacement</th>\n",
       "      <th>runs_above_rep</th>\n",
       "      <th>runs_above_avg</th>\n",
       "      <th>runs_above_avg_off</th>\n",
       "      <th>runs_above_avg_def</th>\n",
       "      <th>WAA</th>\n",
       "      <th>WAA_off</th>\n",
       "      <th>WAA_def</th>\n",
       "      <th>WAR</th>\n",
       "      <th>WAR_def</th>\n",
       "      <th>WAR_off</th>\n",
       "      <th>WAR_rep</th>\n",
       "      <th>salary</th>\n",
       "      <th>pitcher</th>\n",
       "      <th>teamRpG</th>\n",
       "      <th>oppRpG</th>\n",
       "      <th>oppRpPA_rep</th>\n",
       "      <th>oppRpG_rep</th>\n",
       "      <th>pyth_exponent</th>\n",
       "      <th>pyth_exponent_rep</th>\n",
       "      <th>waa_win_perc</th>\n",
       "      <th>waa_win_perc_off</th>\n",
       "      <th>waa_win_perc_def</th>\n",
       "      <th>waa_win_perc_rep</th>\n",
       "      <th>OPS_plus</th>\n",
       "      <th>TOB_lg</th>\n",
       "      <th>TB_lg</th>\n",
       "    </tr>\n",
       "  </thead>\n",
       "  <tbody>\n",
       "    <tr>\n",
       "      <th>240</th>\n",
       "      <td>José Abreu</td>\n",
       "      <td>31.0</td>\n",
       "      <td>547989.0</td>\n",
       "      <td>abreujo02</td>\n",
       "      <td>2018</td>\n",
       "      <td>CHW</td>\n",
       "      <td>1</td>\n",
       "      <td>AL</td>\n",
       "      <td>553.0</td>\n",
       "      <td>128</td>\n",
       "      <td>1116.7</td>\n",
       "      <td>8.23</td>\n",
       "      <td>0.47</td>\n",
       "      <td>-1.16</td>\n",
       "      <td>-5.0</td>\n",
       "      <td>0.0</td>\n",
       "      <td>0.0</td>\n",
       "      <td>0.0</td>\n",
       "      <td>0.0</td>\n",
       "      <td>-5.0</td>\n",
       "      <td>-7.49</td>\n",
       "      <td>0.0</td>\n",
       "      <td>19.52</td>\n",
       "      <td>14.6</td>\n",
       "      <td>-5.0</td>\n",
       "      <td>0.1</td>\n",
       "      <td>-12.5</td>\n",
       "      <td>-0.31</td>\n",
       "      <td>0.11</td>\n",
       "      <td>-1.14</td>\n",
       "      <td>1.54</td>\n",
       "      <td>-1.14</td>\n",
       "      <td>1.96</td>\n",
       "      <td>1.85</td>\n",
       "      <td>13000000.0</td>\n",
       "      <td>N</td>\n",
       "      <td>4.57904</td>\n",
       "      <td>4.57865</td>\n",
       "      <td>0.08136</td>\n",
       "      <td>4.42616</td>\n",
       "      <td>1.880</td>\n",
       "      <td>1.871</td>\n",
       "      <td>0.4960</td>\n",
       "      <td>0.5000</td>\n",
       "      <td>0.4900</td>\n",
       "      <td>0.4842</td>\n",
       "      <td>117.4826</td>\n",
       "      <td>174.859</td>\n",
       "      <td>206.037</td>\n",
       "    </tr>\n",
       "    <tr>\n",
       "      <th>343</th>\n",
       "      <td>Ronald Acuna Jr.</td>\n",
       "      <td>20.0</td>\n",
       "      <td>660670.0</td>\n",
       "      <td>acunaro01</td>\n",
       "      <td>2018</td>\n",
       "      <td>ATL</td>\n",
       "      <td>1</td>\n",
       "      <td>NL</td>\n",
       "      <td>487.0</td>\n",
       "      <td>111</td>\n",
       "      <td>945.0</td>\n",
       "      <td>25.19</td>\n",
       "      <td>0.98</td>\n",
       "      <td>-0.23</td>\n",
       "      <td>7.0</td>\n",
       "      <td>0.0</td>\n",
       "      <td>-3.0</td>\n",
       "      <td>0.0</td>\n",
       "      <td>1.0</td>\n",
       "      <td>5.0</td>\n",
       "      <td>-3.83</td>\n",
       "      <td>0.0</td>\n",
       "      <td>15.10</td>\n",
       "      <td>42.2</td>\n",
       "      <td>27.1</td>\n",
       "      <td>22.1</td>\n",
       "      <td>1.2</td>\n",
       "      <td>2.68</td>\n",
       "      <td>2.23</td>\n",
       "      <td>0.04</td>\n",
       "      <td>4.16</td>\n",
       "      <td>0.04</td>\n",
       "      <td>3.71</td>\n",
       "      <td>1.48</td>\n",
       "      <td>545000.0</td>\n",
       "      <td>N</td>\n",
       "      <td>4.52256</td>\n",
       "      <td>4.32337</td>\n",
       "      <td>0.07868</td>\n",
       "      <td>4.18729</td>\n",
       "      <td>1.861</td>\n",
       "      <td>1.841</td>\n",
       "      <td>0.5258</td>\n",
       "      <td>0.5209</td>\n",
       "      <td>0.5011</td>\n",
       "      <td>0.4853</td>\n",
       "      <td>143.1309</td>\n",
       "      <td>159.833</td>\n",
       "      <td>181.384</td>\n",
       "    </tr>\n",
       "    <tr>\n",
       "      <th>367</th>\n",
       "      <td>Willy Adames</td>\n",
       "      <td>22.0</td>\n",
       "      <td>642715.0</td>\n",
       "      <td>adamewi01</td>\n",
       "      <td>2018</td>\n",
       "      <td>TBR</td>\n",
       "      <td>1</td>\n",
       "      <td>AL</td>\n",
       "      <td>323.0</td>\n",
       "      <td>85</td>\n",
       "      <td>705.7</td>\n",
       "      <td>1.83</td>\n",
       "      <td>0.36</td>\n",
       "      <td>-0.27</td>\n",
       "      <td>-7.0</td>\n",
       "      <td>1.0</td>\n",
       "      <td>0.0</td>\n",
       "      <td>0.0</td>\n",
       "      <td>1.0</td>\n",
       "      <td>-5.0</td>\n",
       "      <td>4.30</td>\n",
       "      <td>0.0</td>\n",
       "      <td>11.57</td>\n",
       "      <td>12.8</td>\n",
       "      <td>1.2</td>\n",
       "      <td>6.2</td>\n",
       "      <td>-0.7</td>\n",
       "      <td>0.25</td>\n",
       "      <td>0.70</td>\n",
       "      <td>0.02</td>\n",
       "      <td>1.35</td>\n",
       "      <td>0.02</td>\n",
       "      <td>1.80</td>\n",
       "      <td>1.10</td>\n",
       "      <td>NaN</td>\n",
       "      <td>N</td>\n",
       "      <td>4.65183</td>\n",
       "      <td>4.57865</td>\n",
       "      <td>0.08136</td>\n",
       "      <td>4.44250</td>\n",
       "      <td>1.884</td>\n",
       "      <td>1.872</td>\n",
       "      <td>0.5015</td>\n",
       "      <td>0.5075</td>\n",
       "      <td>0.4992</td>\n",
       "      <td>0.4859</td>\n",
       "      <td>109.3350</td>\n",
       "      <td>101.366</td>\n",
       "      <td>118.368</td>\n",
       "    </tr>\n",
       "    <tr>\n",
       "      <th>481</th>\n",
       "      <td>Matt Adams</td>\n",
       "      <td>29.0</td>\n",
       "      <td>571431.0</td>\n",
       "      <td>adamsma01</td>\n",
       "      <td>2018</td>\n",
       "      <td>WSN</td>\n",
       "      <td>1</td>\n",
       "      <td>NL</td>\n",
       "      <td>277.0</td>\n",
       "      <td>94</td>\n",
       "      <td>503.7</td>\n",
       "      <td>5.85</td>\n",
       "      <td>-0.40</td>\n",
       "      <td>-0.25</td>\n",
       "      <td>1.0</td>\n",
       "      <td>0.0</td>\n",
       "      <td>0.0</td>\n",
       "      <td>0.0</td>\n",
       "      <td>2.0</td>\n",
       "      <td>3.0</td>\n",
       "      <td>-3.57</td>\n",
       "      <td>0.0</td>\n",
       "      <td>9.00</td>\n",
       "      <td>13.6</td>\n",
       "      <td>4.6</td>\n",
       "      <td>1.6</td>\n",
       "      <td>-0.6</td>\n",
       "      <td>0.40</td>\n",
       "      <td>0.13</td>\n",
       "      <td>-0.14</td>\n",
       "      <td>1.29</td>\n",
       "      <td>-0.14</td>\n",
       "      <td>1.02</td>\n",
       "      <td>0.89</td>\n",
       "      <td>4000000.0</td>\n",
       "      <td>N</td>\n",
       "      <td>4.34071</td>\n",
       "      <td>4.32337</td>\n",
       "      <td>0.07868</td>\n",
       "      <td>4.22760</td>\n",
       "      <td>1.850</td>\n",
       "      <td>1.843</td>\n",
       "      <td>0.5053</td>\n",
       "      <td>0.5019</td>\n",
       "      <td>0.4993</td>\n",
       "      <td>0.4897</td>\n",
       "      <td>118.4303</td>\n",
       "      <td>92.684</td>\n",
       "      <td>106.572</td>\n",
       "    </tr>\n",
       "    <tr>\n",
       "      <th>584</th>\n",
       "      <td>Jim Adduci</td>\n",
       "      <td>33.0</td>\n",
       "      <td>451192.0</td>\n",
       "      <td>adducji02</td>\n",
       "      <td>2018</td>\n",
       "      <td>DET</td>\n",
       "      <td>1</td>\n",
       "      <td>AL</td>\n",
       "      <td>185.0</td>\n",
       "      <td>59</td>\n",
       "      <td>418.7</td>\n",
       "      <td>-6.17</td>\n",
       "      <td>0.69</td>\n",
       "      <td>1.60</td>\n",
       "      <td>0.0</td>\n",
       "      <td>0.0</td>\n",
       "      <td>0.0</td>\n",
       "      <td>0.0</td>\n",
       "      <td>-1.0</td>\n",
       "      <td>-1.0</td>\n",
       "      <td>-3.20</td>\n",
       "      <td>0.0</td>\n",
       "      <td>6.63</td>\n",
       "      <td>-1.5</td>\n",
       "      <td>-8.1</td>\n",
       "      <td>-7.1</td>\n",
       "      <td>-4.2</td>\n",
       "      <td>-0.77</td>\n",
       "      <td>-0.69</td>\n",
       "      <td>-0.37</td>\n",
       "      <td>-0.15</td>\n",
       "      <td>-0.37</td>\n",
       "      <td>-0.07</td>\n",
       "      <td>0.62</td>\n",
       "      <td>NaN</td>\n",
       "      <td>N</td>\n",
       "      <td>4.45865</td>\n",
       "      <td>4.57865</td>\n",
       "      <td>0.08136</td>\n",
       "      <td>4.46630</td>\n",
       "      <td>1.873</td>\n",
       "      <td>1.873</td>\n",
       "      <td>0.4858</td>\n",
       "      <td>0.4876</td>\n",
       "      <td>0.4927</td>\n",
       "      <td>0.4884</td>\n",
       "      <td>81.3089</td>\n",
       "      <td>59.036</td>\n",
       "      <td>74.290</td>\n",
       "    </tr>\n",
       "    <tr>\n",
       "      <th>...</th>\n",
       "      <td>...</td>\n",
       "      <td>...</td>\n",
       "      <td>...</td>\n",
       "      <td>...</td>\n",
       "      <td>...</td>\n",
       "      <td>...</td>\n",
       "      <td>...</td>\n",
       "      <td>...</td>\n",
       "      <td>...</td>\n",
       "      <td>...</td>\n",
       "      <td>...</td>\n",
       "      <td>...</td>\n",
       "      <td>...</td>\n",
       "      <td>...</td>\n",
       "      <td>...</td>\n",
       "      <td>...</td>\n",
       "      <td>...</td>\n",
       "      <td>...</td>\n",
       "      <td>...</td>\n",
       "      <td>...</td>\n",
       "      <td>...</td>\n",
       "      <td>...</td>\n",
       "      <td>...</td>\n",
       "      <td>...</td>\n",
       "      <td>...</td>\n",
       "      <td>...</td>\n",
       "      <td>...</td>\n",
       "      <td>...</td>\n",
       "      <td>...</td>\n",
       "      <td>...</td>\n",
       "      <td>...</td>\n",
       "      <td>...</td>\n",
       "      <td>...</td>\n",
       "      <td>...</td>\n",
       "      <td>...</td>\n",
       "      <td>...</td>\n",
       "      <td>...</td>\n",
       "      <td>...</td>\n",
       "      <td>...</td>\n",
       "      <td>...</td>\n",
       "      <td>...</td>\n",
       "      <td>...</td>\n",
       "      <td>...</td>\n",
       "      <td>...</td>\n",
       "      <td>...</td>\n",
       "      <td>...</td>\n",
       "      <td>...</td>\n",
       "      <td>...</td>\n",
       "      <td>...</td>\n",
       "    </tr>\n",
       "    <tr>\n",
       "      <th>108029</th>\n",
       "      <td>Eric Young Jr.</td>\n",
       "      <td>33.0</td>\n",
       "      <td>458913.0</td>\n",
       "      <td>younger03</td>\n",
       "      <td>2018</td>\n",
       "      <td>LAA</td>\n",
       "      <td>1</td>\n",
       "      <td>AL</td>\n",
       "      <td>117.0</td>\n",
       "      <td>41</td>\n",
       "      <td>274.0</td>\n",
       "      <td>-8.06</td>\n",
       "      <td>0.10</td>\n",
       "      <td>0.36</td>\n",
       "      <td>-2.0</td>\n",
       "      <td>0.0</td>\n",
       "      <td>0.0</td>\n",
       "      <td>0.0</td>\n",
       "      <td>1.0</td>\n",
       "      <td>-1.0</td>\n",
       "      <td>0.01</td>\n",
       "      <td>0.0</td>\n",
       "      <td>4.19</td>\n",
       "      <td>-4.4</td>\n",
       "      <td>-8.6</td>\n",
       "      <td>-7.6</td>\n",
       "      <td>-1.0</td>\n",
       "      <td>-0.85</td>\n",
       "      <td>-0.77</td>\n",
       "      <td>-0.05</td>\n",
       "      <td>-0.46</td>\n",
       "      <td>-0.05</td>\n",
       "      <td>-0.38</td>\n",
       "      <td>0.39</td>\n",
       "      <td>NaN</td>\n",
       "      <td>N</td>\n",
       "      <td>4.39353</td>\n",
       "      <td>4.57865</td>\n",
       "      <td>0.08136</td>\n",
       "      <td>4.47640</td>\n",
       "      <td>1.869</td>\n",
       "      <td>1.874</td>\n",
       "      <td>0.4782</td>\n",
       "      <td>0.4807</td>\n",
       "      <td>0.4975</td>\n",
       "      <td>0.4894</td>\n",
       "      <td>51.7125</td>\n",
       "      <td>36.995</td>\n",
       "      <td>45.006</td>\n",
       "    </tr>\n",
       "    <tr>\n",
       "      <th>108473</th>\n",
       "      <td>Bradley Zimmer</td>\n",
       "      <td>25.0</td>\n",
       "      <td>605548.0</td>\n",
       "      <td>zimmebr01</td>\n",
       "      <td>2018</td>\n",
       "      <td>CLE</td>\n",
       "      <td>1</td>\n",
       "      <td>AL</td>\n",
       "      <td>114.0</td>\n",
       "      <td>34</td>\n",
       "      <td>271.3</td>\n",
       "      <td>-5.65</td>\n",
       "      <td>0.91</td>\n",
       "      <td>0.60</td>\n",
       "      <td>-4.0</td>\n",
       "      <td>0.0</td>\n",
       "      <td>3.0</td>\n",
       "      <td>0.0</td>\n",
       "      <td>1.0</td>\n",
       "      <td>0.0</td>\n",
       "      <td>0.71</td>\n",
       "      <td>0.0</td>\n",
       "      <td>4.08</td>\n",
       "      <td>0.7</td>\n",
       "      <td>-3.4</td>\n",
       "      <td>-3.4</td>\n",
       "      <td>0.7</td>\n",
       "      <td>-0.31</td>\n",
       "      <td>-0.33</td>\n",
       "      <td>0.11</td>\n",
       "      <td>0.08</td>\n",
       "      <td>0.11</td>\n",
       "      <td>0.06</td>\n",
       "      <td>0.39</td>\n",
       "      <td>551200.0</td>\n",
       "      <td>N</td>\n",
       "      <td>4.47777</td>\n",
       "      <td>4.57865</td>\n",
       "      <td>0.08136</td>\n",
       "      <td>4.45851</td>\n",
       "      <td>1.874</td>\n",
       "      <td>1.873</td>\n",
       "      <td>0.4896</td>\n",
       "      <td>0.4896</td>\n",
       "      <td>0.5021</td>\n",
       "      <td>0.4876</td>\n",
       "      <td>65.2378</td>\n",
       "      <td>36.776</td>\n",
       "      <td>44.743</td>\n",
       "    </tr>\n",
       "    <tr>\n",
       "      <th>108567</th>\n",
       "      <td>Ryan Zimmerman</td>\n",
       "      <td>33.0</td>\n",
       "      <td>475582.0</td>\n",
       "      <td>zimmery01</td>\n",
       "      <td>2018</td>\n",
       "      <td>WSN</td>\n",
       "      <td>1</td>\n",
       "      <td>NL</td>\n",
       "      <td>323.0</td>\n",
       "      <td>85</td>\n",
       "      <td>620.3</td>\n",
       "      <td>6.68</td>\n",
       "      <td>-0.68</td>\n",
       "      <td>-0.49</td>\n",
       "      <td>3.0</td>\n",
       "      <td>0.0</td>\n",
       "      <td>0.0</td>\n",
       "      <td>0.0</td>\n",
       "      <td>1.0</td>\n",
       "      <td>4.0</td>\n",
       "      <td>-3.77</td>\n",
       "      <td>0.0</td>\n",
       "      <td>10.50</td>\n",
       "      <td>16.2</td>\n",
       "      <td>5.7</td>\n",
       "      <td>1.7</td>\n",
       "      <td>0.2</td>\n",
       "      <td>0.49</td>\n",
       "      <td>0.13</td>\n",
       "      <td>-0.03</td>\n",
       "      <td>1.52</td>\n",
       "      <td>-0.03</td>\n",
       "      <td>1.16</td>\n",
       "      <td>1.03</td>\n",
       "      <td>14000000.0</td>\n",
       "      <td>N</td>\n",
       "      <td>4.34384</td>\n",
       "      <td>4.32337</td>\n",
       "      <td>0.07868</td>\n",
       "      <td>4.19987</td>\n",
       "      <td>1.851</td>\n",
       "      <td>1.842</td>\n",
       "      <td>0.5072</td>\n",
       "      <td>0.5022</td>\n",
       "      <td>0.5003</td>\n",
       "      <td>0.4867</td>\n",
       "      <td>114.4323</td>\n",
       "      <td>108.076</td>\n",
       "      <td>123.264</td>\n",
       "    </tr>\n",
       "    <tr>\n",
       "      <th>108637</th>\n",
       "      <td>Ben Zobrist</td>\n",
       "      <td>37.0</td>\n",
       "      <td>450314.0</td>\n",
       "      <td>zobribe01</td>\n",
       "      <td>2018</td>\n",
       "      <td>CHC</td>\n",
       "      <td>1</td>\n",
       "      <td>NL</td>\n",
       "      <td>520.0</td>\n",
       "      <td>139</td>\n",
       "      <td>983.1</td>\n",
       "      <td>11.78</td>\n",
       "      <td>1.40</td>\n",
       "      <td>0.31</td>\n",
       "      <td>9.0</td>\n",
       "      <td>-1.0</td>\n",
       "      <td>0.0</td>\n",
       "      <td>0.0</td>\n",
       "      <td>0.0</td>\n",
       "      <td>8.0</td>\n",
       "      <td>-2.98</td>\n",
       "      <td>0.0</td>\n",
       "      <td>16.90</td>\n",
       "      <td>35.4</td>\n",
       "      <td>18.5</td>\n",
       "      <td>10.5</td>\n",
       "      <td>5.0</td>\n",
       "      <td>1.78</td>\n",
       "      <td>1.01</td>\n",
       "      <td>0.43</td>\n",
       "      <td>3.44</td>\n",
       "      <td>0.43</td>\n",
       "      <td>2.67</td>\n",
       "      <td>1.66</td>\n",
       "      <td>16500000.0</td>\n",
       "      <td>N</td>\n",
       "      <td>4.39898</td>\n",
       "      <td>4.32337</td>\n",
       "      <td>0.07868</td>\n",
       "      <td>4.20179</td>\n",
       "      <td>1.854</td>\n",
       "      <td>1.842</td>\n",
       "      <td>0.5142</td>\n",
       "      <td>0.5080</td>\n",
       "      <td>0.5039</td>\n",
       "      <td>0.4869</td>\n",
       "      <td>117.3220</td>\n",
       "      <td>172.308</td>\n",
       "      <td>193.102</td>\n",
       "    </tr>\n",
       "    <tr>\n",
       "      <th>108682</th>\n",
       "      <td>Mike Zunino</td>\n",
       "      <td>27.0</td>\n",
       "      <td>572287.0</td>\n",
       "      <td>zuninmi01</td>\n",
       "      <td>2018</td>\n",
       "      <td>SEA</td>\n",
       "      <td>1</td>\n",
       "      <td>AL</td>\n",
       "      <td>405.0</td>\n",
       "      <td>113</td>\n",
       "      <td>930.7</td>\n",
       "      <td>-8.69</td>\n",
       "      <td>-1.36</td>\n",
       "      <td>-0.90</td>\n",
       "      <td>-1.0</td>\n",
       "      <td>1.0</td>\n",
       "      <td>0.0</td>\n",
       "      <td>8.0</td>\n",
       "      <td>-1.0</td>\n",
       "      <td>7.0</td>\n",
       "      <td>6.86</td>\n",
       "      <td>0.0</td>\n",
       "      <td>14.51</td>\n",
       "      <td>17.4</td>\n",
       "      <td>2.9</td>\n",
       "      <td>-4.1</td>\n",
       "      <td>13.9</td>\n",
       "      <td>0.46</td>\n",
       "      <td>-0.34</td>\n",
       "      <td>1.54</td>\n",
       "      <td>1.84</td>\n",
       "      <td>1.54</td>\n",
       "      <td>1.04</td>\n",
       "      <td>1.38</td>\n",
       "      <td>2975000.0</td>\n",
       "      <td>N</td>\n",
       "      <td>4.54245</td>\n",
       "      <td>4.57865</td>\n",
       "      <td>0.08136</td>\n",
       "      <td>4.45023</td>\n",
       "      <td>1.878</td>\n",
       "      <td>1.872</td>\n",
       "      <td>0.5027</td>\n",
       "      <td>0.4963</td>\n",
       "      <td>0.5126</td>\n",
       "      <td>0.4867</td>\n",
       "      <td>84.5961</td>\n",
       "      <td>125.914</td>\n",
       "      <td>151.177</td>\n",
       "    </tr>\n",
       "  </tbody>\n",
       "</table>\n",
       "<p>465 rows × 49 columns</p>\n",
       "</div>"
      ],
      "text/plain": [
       "             name_common   age    mlb_ID  player_ID  year_ID team_ID  \\\n",
       "240           José Abreu  31.0  547989.0  abreujo02     2018     CHW   \n",
       "343     Ronald Acuna Jr.  20.0  660670.0  acunaro01     2018     ATL   \n",
       "367         Willy Adames  22.0  642715.0  adamewi01     2018     TBR   \n",
       "481           Matt Adams  29.0  571431.0  adamsma01     2018     WSN   \n",
       "584           Jim Adduci  33.0  451192.0  adducji02     2018     DET   \n",
       "...                  ...   ...       ...        ...      ...     ...   \n",
       "108029    Eric Young Jr.  33.0  458913.0  younger03     2018     LAA   \n",
       "108473    Bradley Zimmer  25.0  605548.0  zimmebr01     2018     CLE   \n",
       "108567    Ryan Zimmerman  33.0  475582.0  zimmery01     2018     WSN   \n",
       "108637       Ben Zobrist  37.0  450314.0  zobribe01     2018     CHC   \n",
       "108682       Mike Zunino  27.0  572287.0  zuninmi01     2018     SEA   \n",
       "\n",
       "        stint_ID lg_ID     PA    G     Inn  runs_bat  runs_br  runs_dp  \\\n",
       "240            1    AL  553.0  128  1116.7      8.23     0.47    -1.16   \n",
       "343            1    NL  487.0  111   945.0     25.19     0.98    -0.23   \n",
       "367            1    AL  323.0   85   705.7      1.83     0.36    -0.27   \n",
       "481            1    NL  277.0   94   503.7      5.85    -0.40    -0.25   \n",
       "584            1    AL  185.0   59   418.7     -6.17     0.69     1.60   \n",
       "...          ...   ...    ...  ...     ...       ...      ...      ...   \n",
       "108029         1    AL  117.0   41   274.0     -8.06     0.10     0.36   \n",
       "108473         1    AL  114.0   34   271.3     -5.65     0.91     0.60   \n",
       "108567         1    NL  323.0   85   620.3      6.68    -0.68    -0.49   \n",
       "108637         1    NL  520.0  139   983.1     11.78     1.40     0.31   \n",
       "108682         1    AL  405.0  113   930.7     -8.69    -1.36    -0.90   \n",
       "\n",
       "        runs_field  runs_infield  runs_outfield  runs_catcher  \\\n",
       "240           -5.0           0.0            0.0           0.0   \n",
       "343            7.0           0.0           -3.0           0.0   \n",
       "367           -7.0           1.0            0.0           0.0   \n",
       "481            1.0           0.0            0.0           0.0   \n",
       "584            0.0           0.0            0.0           0.0   \n",
       "...            ...           ...            ...           ...   \n",
       "108029        -2.0           0.0            0.0           0.0   \n",
       "108473        -4.0           0.0            3.0           0.0   \n",
       "108567         3.0           0.0            0.0           0.0   \n",
       "108637         9.0          -1.0            0.0           0.0   \n",
       "108682        -1.0           1.0            0.0           8.0   \n",
       "\n",
       "        runs_good_plays  runs_defense  runs_position  runs_position_p  \\\n",
       "240                 0.0          -5.0          -7.49              0.0   \n",
       "343                 1.0           5.0          -3.83              0.0   \n",
       "367                 1.0          -5.0           4.30              0.0   \n",
       "481                 2.0           3.0          -3.57              0.0   \n",
       "584                -1.0          -1.0          -3.20              0.0   \n",
       "...                 ...           ...            ...              ...   \n",
       "108029              1.0          -1.0           0.01              0.0   \n",
       "108473              1.0           0.0           0.71              0.0   \n",
       "108567              1.0           4.0          -3.77              0.0   \n",
       "108637              0.0           8.0          -2.98              0.0   \n",
       "108682             -1.0           7.0           6.86              0.0   \n",
       "\n",
       "        runs_replacement  runs_above_rep  runs_above_avg  runs_above_avg_off  \\\n",
       "240                19.52            14.6            -5.0                 0.1   \n",
       "343                15.10            42.2            27.1                22.1   \n",
       "367                11.57            12.8             1.2                 6.2   \n",
       "481                 9.00            13.6             4.6                 1.6   \n",
       "584                 6.63            -1.5            -8.1                -7.1   \n",
       "...                  ...             ...             ...                 ...   \n",
       "108029              4.19            -4.4            -8.6                -7.6   \n",
       "108473              4.08             0.7            -3.4                -3.4   \n",
       "108567             10.50            16.2             5.7                 1.7   \n",
       "108637             16.90            35.4            18.5                10.5   \n",
       "108682             14.51            17.4             2.9                -4.1   \n",
       "\n",
       "        runs_above_avg_def   WAA  WAA_off  WAA_def   WAR  WAR_def  WAR_off  \\\n",
       "240                  -12.5 -0.31     0.11    -1.14  1.54    -1.14     1.96   \n",
       "343                    1.2  2.68     2.23     0.04  4.16     0.04     3.71   \n",
       "367                   -0.7  0.25     0.70     0.02  1.35     0.02     1.80   \n",
       "481                   -0.6  0.40     0.13    -0.14  1.29    -0.14     1.02   \n",
       "584                   -4.2 -0.77    -0.69    -0.37 -0.15    -0.37    -0.07   \n",
       "...                    ...   ...      ...      ...   ...      ...      ...   \n",
       "108029                -1.0 -0.85    -0.77    -0.05 -0.46    -0.05    -0.38   \n",
       "108473                 0.7 -0.31    -0.33     0.11  0.08     0.11     0.06   \n",
       "108567                 0.2  0.49     0.13    -0.03  1.52    -0.03     1.16   \n",
       "108637                 5.0  1.78     1.01     0.43  3.44     0.43     2.67   \n",
       "108682                13.9  0.46    -0.34     1.54  1.84     1.54     1.04   \n",
       "\n",
       "        WAR_rep      salary pitcher  teamRpG   oppRpG  oppRpPA_rep  \\\n",
       "240        1.85  13000000.0       N  4.57904  4.57865      0.08136   \n",
       "343        1.48    545000.0       N  4.52256  4.32337      0.07868   \n",
       "367        1.10         NaN       N  4.65183  4.57865      0.08136   \n",
       "481        0.89   4000000.0       N  4.34071  4.32337      0.07868   \n",
       "584        0.62         NaN       N  4.45865  4.57865      0.08136   \n",
       "...         ...         ...     ...      ...      ...          ...   \n",
       "108029     0.39         NaN       N  4.39353  4.57865      0.08136   \n",
       "108473     0.39    551200.0       N  4.47777  4.57865      0.08136   \n",
       "108567     1.03  14000000.0       N  4.34384  4.32337      0.07868   \n",
       "108637     1.66  16500000.0       N  4.39898  4.32337      0.07868   \n",
       "108682     1.38   2975000.0       N  4.54245  4.57865      0.08136   \n",
       "\n",
       "        oppRpG_rep  pyth_exponent  pyth_exponent_rep  waa_win_perc  \\\n",
       "240        4.42616          1.880              1.871        0.4960   \n",
       "343        4.18729          1.861              1.841        0.5258   \n",
       "367        4.44250          1.884              1.872        0.5015   \n",
       "481        4.22760          1.850              1.843        0.5053   \n",
       "584        4.46630          1.873              1.873        0.4858   \n",
       "...            ...            ...                ...           ...   \n",
       "108029     4.47640          1.869              1.874        0.4782   \n",
       "108473     4.45851          1.874              1.873        0.4896   \n",
       "108567     4.19987          1.851              1.842        0.5072   \n",
       "108637     4.20179          1.854              1.842        0.5142   \n",
       "108682     4.45023          1.878              1.872        0.5027   \n",
       "\n",
       "        waa_win_perc_off  waa_win_perc_def  waa_win_perc_rep  OPS_plus  \\\n",
       "240               0.5000            0.4900            0.4842  117.4826   \n",
       "343               0.5209            0.5011            0.4853  143.1309   \n",
       "367               0.5075            0.4992            0.4859  109.3350   \n",
       "481               0.5019            0.4993            0.4897  118.4303   \n",
       "584               0.4876            0.4927            0.4884   81.3089   \n",
       "...                  ...               ...               ...       ...   \n",
       "108029            0.4807            0.4975            0.4894   51.7125   \n",
       "108473            0.4896            0.5021            0.4876   65.2378   \n",
       "108567            0.5022            0.5003            0.4867  114.4323   \n",
       "108637            0.5080            0.5039            0.4869  117.3220   \n",
       "108682            0.4963            0.5126            0.4867   84.5961   \n",
       "\n",
       "         TOB_lg    TB_lg  \n",
       "240     174.859  206.037  \n",
       "343     159.833  181.384  \n",
       "367     101.366  118.368  \n",
       "481      92.684  106.572  \n",
       "584      59.036   74.290  \n",
       "...         ...      ...  \n",
       "108029   36.995   45.006  \n",
       "108473   36.776   44.743  \n",
       "108567  108.076  123.264  \n",
       "108637  172.308  193.102  \n",
       "108682  125.914  151.177  \n",
       "\n",
       "[465 rows x 49 columns]"
      ]
     },
     "execution_count": 62,
     "metadata": {},
     "output_type": "execute_result"
    }
   ],
   "source": [
    "data[(data['year_ID'] == 2018) &( data['PA'] > 100)]"
   ]
  },
  {
   "cell_type": "code",
   "execution_count": null,
   "metadata": {},
   "outputs": [],
   "source": []
  }
 ],
 "metadata": {
  "kernelspec": {
   "display_name": "Python 3",
   "language": "python",
   "name": "python3"
  },
  "language_info": {
   "codemirror_mode": {
    "name": "ipython",
    "version": 3
   },
   "file_extension": ".py",
   "mimetype": "text/x-python",
   "name": "python",
   "nbconvert_exporter": "python",
   "pygments_lexer": "ipython3",
   "version": "3.8.5"
  }
 },
 "nbformat": 4,
 "nbformat_minor": 4
}
