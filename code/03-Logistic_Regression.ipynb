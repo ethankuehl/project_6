{
 "cells": [
  {
   "cell_type": "code",
   "execution_count": 1,
   "metadata": {
    "ExecuteTime": {
     "end_time": "2021-03-15T01:19:08.881205Z",
     "start_time": "2021-03-15T01:19:05.579611Z"
    }
   },
   "outputs": [],
   "source": [
    "import pandas as pd\n",
    "import numpy as np\n",
    "import matplotlib.pyplot as plt\n",
    "import seaborn as sns\n",
    "import random\n",
    "import sklearn.metrics as metrics\n",
    "\n",
    "from sklearn.model_selection import train_test_split\n",
    "from sklearn.neighbors import KNeighborsClassifier\n",
    "from sklearn.pipeline import Pipeline\n",
    "from sklearn.model_selection import train_test_split, GridSearchCV\n",
    " \n",
    "from sklearn.preprocessing import MinMaxScaler\n",
    "from sklearn.linear_model import LogisticRegression\n",
    "from statsmodels.stats.outliers_influence import variance_inflation_factor\n",
    "from sklearn.decomposition import PCA\n",
    "\n",
    "from sklearn.preprocessing import LabelEncoder"
   ]
  },
  {
   "cell_type": "code",
   "execution_count": 2,
   "metadata": {
    "ExecuteTime": {
     "end_time": "2021-03-15T01:19:08.896146Z",
     "start_time": "2021-03-15T01:19:08.885740Z"
    }
   },
   "outputs": [],
   "source": [
    "random.seed(16)"
   ]
  },
  {
   "cell_type": "code",
   "execution_count": 3,
   "metadata": {
    "ExecuteTime": {
     "end_time": "2021-03-15T01:19:10.150251Z",
     "start_time": "2021-03-15T01:19:08.903719Z"
    }
   },
   "outputs": [
    {
     "data": {
      "text/html": [
       "<div>\n",
       "<style scoped>\n",
       "    .dataframe tbody tr th:only-of-type {\n",
       "        vertical-align: middle;\n",
       "    }\n",
       "\n",
       "    .dataframe tbody tr th {\n",
       "        vertical-align: top;\n",
       "    }\n",
       "\n",
       "    .dataframe thead th {\n",
       "        text-align: right;\n",
       "    }\n",
       "</style>\n",
       "<table border=\"1\" class=\"dataframe\">\n",
       "  <thead>\n",
       "    <tr style=\"text-align: right;\">\n",
       "      <th></th>\n",
       "      <th>balls</th>\n",
       "      <th>strikes</th>\n",
       "      <th>on_1b</th>\n",
       "      <th>outs_when_up</th>\n",
       "      <th>inning</th>\n",
       "      <th>pitch</th>\n",
       "      <th>offspeed_in_sequence</th>\n",
       "      <th>fastball_in_sequence</th>\n",
       "      <th>proportion_of_fastballs_thrown_2018</th>\n",
       "      <th>previous_pitch</th>\n",
       "      <th>...</th>\n",
       "      <th>if_fielding_alignment_Standard</th>\n",
       "      <th>of_fielding_alignment_4th outfielder</th>\n",
       "      <th>of_fielding_alignment_Standard</th>\n",
       "      <th>risp</th>\n",
       "      <th>run_diff</th>\n",
       "      <th>inning_topbot_Top</th>\n",
       "      <th>previous_type_B</th>\n",
       "      <th>previous_type_S</th>\n",
       "      <th>hitter_woba_2018</th>\n",
       "      <th>average_hitter_launch_speed_2018</th>\n",
       "    </tr>\n",
       "  </thead>\n",
       "  <tbody>\n",
       "    <tr>\n",
       "      <th>0</th>\n",
       "      <td>3.0</td>\n",
       "      <td>2.0</td>\n",
       "      <td>0.0</td>\n",
       "      <td>2.0</td>\n",
       "      <td>9.0</td>\n",
       "      <td>0</td>\n",
       "      <td>1</td>\n",
       "      <td>5</td>\n",
       "      <td>0.558863</td>\n",
       "      <td>1</td>\n",
       "      <td>...</td>\n",
       "      <td>0</td>\n",
       "      <td>0</td>\n",
       "      <td>1</td>\n",
       "      <td>0</td>\n",
       "      <td>4.0</td>\n",
       "      <td>0</td>\n",
       "      <td>0</td>\n",
       "      <td>1</td>\n",
       "      <td>0.366304</td>\n",
       "      <td>90.160819</td>\n",
       "    </tr>\n",
       "    <tr>\n",
       "      <th>1</th>\n",
       "      <td>3.0</td>\n",
       "      <td>2.0</td>\n",
       "      <td>0.0</td>\n",
       "      <td>2.0</td>\n",
       "      <td>9.0</td>\n",
       "      <td>1</td>\n",
       "      <td>1</td>\n",
       "      <td>4</td>\n",
       "      <td>0.558863</td>\n",
       "      <td>1</td>\n",
       "      <td>...</td>\n",
       "      <td>0</td>\n",
       "      <td>0</td>\n",
       "      <td>1</td>\n",
       "      <td>0</td>\n",
       "      <td>4.0</td>\n",
       "      <td>0</td>\n",
       "      <td>1</td>\n",
       "      <td>0</td>\n",
       "      <td>0.366304</td>\n",
       "      <td>90.160819</td>\n",
       "    </tr>\n",
       "    <tr>\n",
       "      <th>2</th>\n",
       "      <td>2.0</td>\n",
       "      <td>2.0</td>\n",
       "      <td>0.0</td>\n",
       "      <td>2.0</td>\n",
       "      <td>9.0</td>\n",
       "      <td>1</td>\n",
       "      <td>1</td>\n",
       "      <td>3</td>\n",
       "      <td>0.558863</td>\n",
       "      <td>1</td>\n",
       "      <td>...</td>\n",
       "      <td>0</td>\n",
       "      <td>0</td>\n",
       "      <td>1</td>\n",
       "      <td>0</td>\n",
       "      <td>4.0</td>\n",
       "      <td>0</td>\n",
       "      <td>0</td>\n",
       "      <td>1</td>\n",
       "      <td>0.366304</td>\n",
       "      <td>90.160819</td>\n",
       "    </tr>\n",
       "    <tr>\n",
       "      <th>3</th>\n",
       "      <td>2.0</td>\n",
       "      <td>1.0</td>\n",
       "      <td>0.0</td>\n",
       "      <td>2.0</td>\n",
       "      <td>9.0</td>\n",
       "      <td>1</td>\n",
       "      <td>1</td>\n",
       "      <td>2</td>\n",
       "      <td>0.558863</td>\n",
       "      <td>0</td>\n",
       "      <td>...</td>\n",
       "      <td>0</td>\n",
       "      <td>0</td>\n",
       "      <td>1</td>\n",
       "      <td>0</td>\n",
       "      <td>4.0</td>\n",
       "      <td>0</td>\n",
       "      <td>1</td>\n",
       "      <td>0</td>\n",
       "      <td>0.366304</td>\n",
       "      <td>90.160819</td>\n",
       "    </tr>\n",
       "    <tr>\n",
       "      <th>4</th>\n",
       "      <td>1.0</td>\n",
       "      <td>1.0</td>\n",
       "      <td>0.0</td>\n",
       "      <td>2.0</td>\n",
       "      <td>9.0</td>\n",
       "      <td>0</td>\n",
       "      <td>0</td>\n",
       "      <td>2</td>\n",
       "      <td>0.558863</td>\n",
       "      <td>1</td>\n",
       "      <td>...</td>\n",
       "      <td>0</td>\n",
       "      <td>0</td>\n",
       "      <td>1</td>\n",
       "      <td>0</td>\n",
       "      <td>4.0</td>\n",
       "      <td>0</td>\n",
       "      <td>0</td>\n",
       "      <td>1</td>\n",
       "      <td>0.366304</td>\n",
       "      <td>90.160819</td>\n",
       "    </tr>\n",
       "  </tbody>\n",
       "</table>\n",
       "<p>5 rows × 24 columns</p>\n",
       "</div>"
      ],
      "text/plain": [
       "   balls  strikes  on_1b  outs_when_up  inning  pitch  offspeed_in_sequence  \\\n",
       "0    3.0      2.0    0.0           2.0     9.0      0                     1   \n",
       "1    3.0      2.0    0.0           2.0     9.0      1                     1   \n",
       "2    2.0      2.0    0.0           2.0     9.0      1                     1   \n",
       "3    2.0      1.0    0.0           2.0     9.0      1                     1   \n",
       "4    1.0      1.0    0.0           2.0     9.0      0                     0   \n",
       "\n",
       "   fastball_in_sequence  proportion_of_fastballs_thrown_2018  previous_pitch  \\\n",
       "0                     5                             0.558863               1   \n",
       "1                     4                             0.558863               1   \n",
       "2                     3                             0.558863               1   \n",
       "3                     2                             0.558863               0   \n",
       "4                     2                             0.558863               1   \n",
       "\n",
       "   ...  if_fielding_alignment_Standard  of_fielding_alignment_4th outfielder  \\\n",
       "0  ...                               0                                     0   \n",
       "1  ...                               0                                     0   \n",
       "2  ...                               0                                     0   \n",
       "3  ...                               0                                     0   \n",
       "4  ...                               0                                     0   \n",
       "\n",
       "   of_fielding_alignment_Standard  risp  run_diff  inning_topbot_Top  \\\n",
       "0                               1     0       4.0                  0   \n",
       "1                               1     0       4.0                  0   \n",
       "2                               1     0       4.0                  0   \n",
       "3                               1     0       4.0                  0   \n",
       "4                               1     0       4.0                  0   \n",
       "\n",
       "   previous_type_B  previous_type_S  hitter_woba_2018  \\\n",
       "0                0                1          0.366304   \n",
       "1                1                0          0.366304   \n",
       "2                0                1          0.366304   \n",
       "3                1                0          0.366304   \n",
       "4                0                1          0.366304   \n",
       "\n",
       "   average_hitter_launch_speed_2018  \n",
       "0                         90.160819  \n",
       "1                         90.160819  \n",
       "2                         90.160819  \n",
       "3                         90.160819  \n",
       "4                         90.160819  \n",
       "\n",
       "[5 rows x 24 columns]"
      ]
     },
     "execution_count": 3,
     "metadata": {},
     "output_type": "execute_result"
    }
   ],
   "source": [
    "df = pd.read_csv('../../clean_2019_binary_2.csv')\n",
    "df.head()"
   ]
  },
  {
   "cell_type": "code",
   "execution_count": 154,
   "metadata": {
    "ExecuteTime": {
     "end_time": "2021-03-16T17:10:50.447774Z",
     "start_time": "2021-03-16T17:10:49.729127Z"
    }
   },
   "outputs": [
    {
     "data": {
      "text/plain": [
       "1    209419\n",
       "0    148976\n",
       "3    122904\n",
       "Name: previous_pitch, dtype: int64"
      ]
     },
     "execution_count": 154,
     "metadata": {},
     "output_type": "execute_result"
    }
   ],
   "source": [
    "df['previous_pitch'].value_counts()"
   ]
  },
  {
   "cell_type": "code",
   "execution_count": 130,
   "metadata": {
    "ExecuteTime": {
     "end_time": "2021-03-15T21:56:39.225745Z",
     "start_time": "2021-03-15T21:56:39.131892Z"
    }
   },
   "outputs": [],
   "source": [
    "def binary_classification_metrics(gs, X_test, y_test):\n",
    "    \n",
    "    y_hat = gs.predict(X_test)\n",
    "    accuracy = metrics.accuracy_score(y_test, y_hat)\n",
    "\n",
    "    #specificity = true negative/(true neagtive +false positive)\n",
    "    specificity = 1984/(1984+21) \n",
    "\n",
    "    sensitivity =  metrics.recall_score(y_test, y_hat)\n",
    "\n",
    "    precision = metrics.precision_score(y_test, y_hat)\n",
    "\n",
    "    f1 = metrics.f1_score(y_test, y_hat)\n",
    "    \n",
    "    \n",
    "    print('My accuracy is: ', round(accuracy,4))\n",
    "    print('My specificity is: ', round(specificity, 4))\n",
    "    print('My sensitivity is: ', round(sensitivity,4))\n",
    "    print('My precision is: ', round(precision,4))\n",
    "    print('My f1 score is: ', round(precision,4))\n",
    "    \n",
    "    cm = np.array([['True Negative', 'False Positive'],\n",
    "                            ['False Negative', 'True Positive']])\n",
    "\n",
    "    cm = pd.DataFrame(cm,columns = ['Pred Offspeed', 'Pred Fastball'], \n",
    "                      index = ['Actual Offspeed','Actual Fastball'])\n",
    "    \n",
    "    # Displaying sample confusion matrix\n",
    "    display(cm)\n",
    "\n",
    "    # Displaying actual confusion matrix \n",
    "    metrics.plot_confusion_matrix(gs, X_test, y_test, cmap='Accent', \n",
    "                          values_format='d', display_labels=['Offspeed Pitch', \n",
    "                                                             'Fastball Pitch']);\n",
    "    \n",
    "    metrics.plot_roc_curve(gs, X_test, y_test)\n",
    "    # add worst case scenario line\n",
    "    plt.plot([0, 1], [0, 1])\n",
    "    plt.title('ROC AUC Curve');\n",
    "    \n",
    "    return f'My ROC AUC score is: {metrics.roc_auc_score(y_test, y_hat)}'"
   ]
  },
  {
   "cell_type": "code",
   "execution_count": 5,
   "metadata": {
    "ExecuteTime": {
     "end_time": "2021-03-15T01:19:10.182354Z",
     "start_time": "2021-03-15T01:19:10.167123Z"
    }
   },
   "outputs": [
    {
     "data": {
      "text/plain": [
       "1    281249\n",
       "0    200050\n",
       "Name: pitch, dtype: int64"
      ]
     },
     "execution_count": 5,
     "metadata": {},
     "output_type": "execute_result"
    }
   ],
   "source": [
    "df['pitch'].value_counts()"
   ]
  },
  {
   "cell_type": "code",
   "execution_count": 6,
   "metadata": {
    "ExecuteTime": {
     "end_time": "2021-03-15T01:19:10.223164Z",
     "start_time": "2021-03-15T01:19:10.184509Z"
    }
   },
   "outputs": [
    {
     "data": {
      "text/plain": [
       "balls                                   0\n",
       "strikes                                 0\n",
       "on_1b                                   0\n",
       "outs_when_up                            0\n",
       "inning                                  0\n",
       "pitch                                   0\n",
       "offspeed_in_sequence                    0\n",
       "fastball_in_sequence                    0\n",
       "proportion_of_fastballs_thrown_2018     0\n",
       "previous_pitch                          0\n",
       "previous_zone                           0\n",
       "stand_R                                 0\n",
       "p_throws_R                              0\n",
       "if_fielding_alignment_Infield shift     0\n",
       "if_fielding_alignment_Standard          0\n",
       "of_fielding_alignment_4th outfielder    0\n",
       "of_fielding_alignment_Standard          0\n",
       "risp                                    0\n",
       "run_diff                                0\n",
       "inning_topbot_Top                       0\n",
       "previous_type_B                         0\n",
       "previous_type_S                         0\n",
       "hitter_woba_2018                        0\n",
       "average_hitter_launch_speed_2018        0\n",
       "dtype: int64"
      ]
     },
     "execution_count": 6,
     "metadata": {},
     "output_type": "execute_result"
    }
   ],
   "source": [
    "df.isna().sum()"
   ]
  },
  {
   "cell_type": "code",
   "execution_count": 7,
   "metadata": {
    "ExecuteTime": {
     "end_time": "2021-03-15T01:19:10.335170Z",
     "start_time": "2021-03-15T01:19:10.249284Z"
    }
   },
   "outputs": [],
   "source": [
    "X = df.drop(columns=['pitch'])\n",
    "y = df['pitch']"
   ]
  },
  {
   "cell_type": "code",
   "execution_count": 8,
   "metadata": {
    "ExecuteTime": {
     "end_time": "2021-03-15T01:19:10.735596Z",
     "start_time": "2021-03-15T01:19:10.344467Z"
    },
    "code_folding": []
   },
   "outputs": [],
   "source": [
    "X_train, X_test, y_train, y_test = train_test_split(X, y, test_size=0.25, \n",
    "                                                    random_state=16, stratify=y)"
   ]
  },
  {
   "cell_type": "code",
   "execution_count": 9,
   "metadata": {
    "ExecuteTime": {
     "end_time": "2021-03-15T01:19:10.744044Z",
     "start_time": "2021-03-15T01:19:10.737584Z"
    }
   },
   "outputs": [
    {
     "data": {
      "text/plain": [
       "1    70312\n",
       "0    50013\n",
       "Name: pitch, dtype: int64"
      ]
     },
     "execution_count": 9,
     "metadata": {},
     "output_type": "execute_result"
    }
   ],
   "source": [
    "y_test.value_counts()"
   ]
  },
  {
   "cell_type": "code",
   "execution_count": 10,
   "metadata": {
    "ExecuteTime": {
     "end_time": "2021-03-15T01:19:10.754857Z",
     "start_time": "2021-03-15T01:19:10.746265Z"
    }
   },
   "outputs": [],
   "source": [
    "pipe = Pipeline([\n",
    "    \n",
    "    ('mm', MinMaxScaler()),\n",
    "    ('lr', LogisticRegression())\n",
    "    \n",
    "])"
   ]
  },
  {
   "cell_type": "code",
   "execution_count": 11,
   "metadata": {
    "ExecuteTime": {
     "end_time": "2021-03-15T01:19:10.762129Z",
     "start_time": "2021-03-15T01:19:10.756702Z"
    }
   },
   "outputs": [],
   "source": [
    "# Creating dictionary of parameters to gridsearch over\n",
    "params = {\n",
    "    'lr__solver': ['liblinear','saga'],\n",
    "    'lr__penalty': ['l1','l2', 'elasticnet'],\n",
    "    'lr__C' : [0.0001, 0.001, 0.01, 0.1, 1, 10, 100, 1000],\n",
    "    'lr__class_weight': [None, 'balanced']\n",
    "}"
   ]
  },
  {
   "cell_type": "code",
   "execution_count": 12,
   "metadata": {
    "ExecuteTime": {
     "end_time": "2021-03-15T01:19:10.771910Z",
     "start_time": "2021-03-15T01:19:10.766026Z"
    }
   },
   "outputs": [],
   "source": [
    "# Instantietating gridsearch with pipeline\n",
    "gs_f1 = GridSearchCV(pipe, param_grid=params, n_jobs=-1, verbose=1, cv=5, scoring='f1_weighted')"
   ]
  },
  {
   "cell_type": "code",
   "execution_count": 13,
   "metadata": {
    "ExecuteTime": {
     "end_time": "2021-03-15T01:34:25.790161Z",
     "start_time": "2021-03-15T01:19:10.774952Z"
    }
   },
   "outputs": [
    {
     "name": "stdout",
     "output_type": "stream",
     "text": [
      "Fitting 5 folds for each of 96 candidates, totalling 480 fits\n"
     ]
    },
    {
     "name": "stderr",
     "output_type": "stream",
     "text": [
      "[Parallel(n_jobs=-1)]: Using backend LokyBackend with 4 concurrent workers.\n",
      "[Parallel(n_jobs=-1)]: Done  42 tasks      | elapsed:   23.7s\n",
      "[Parallel(n_jobs=-1)]: Done 192 tasks      | elapsed:  3.9min\n",
      "[Parallel(n_jobs=-1)]: Done 442 tasks      | elapsed: 13.7min\n",
      "[Parallel(n_jobs=-1)]: Done 480 out of 480 | elapsed: 15.2min finished\n"
     ]
    }
   ],
   "source": [
    "gs_f1.fit(X_train, y_train);"
   ]
  },
  {
   "cell_type": "code",
   "execution_count": 14,
   "metadata": {
    "ExecuteTime": {
     "end_time": "2021-03-15T01:34:26.861055Z",
     "start_time": "2021-03-15T01:34:25.804074Z"
    }
   },
   "outputs": [
    {
     "name": "stdout",
     "output_type": "stream",
     "text": [
      "My accuracy is:  0.5993\n",
      "My specificity is:  0.9895\n",
      "My sensitivity is:  0.5979\n",
      "My precision is:  0.6783\n",
      "My f1 score is:  0.6783\n"
     ]
    },
    {
     "data": {
      "text/html": [
       "<div>\n",
       "<style scoped>\n",
       "    .dataframe tbody tr th:only-of-type {\n",
       "        vertical-align: middle;\n",
       "    }\n",
       "\n",
       "    .dataframe tbody tr th {\n",
       "        vertical-align: top;\n",
       "    }\n",
       "\n",
       "    .dataframe thead th {\n",
       "        text-align: right;\n",
       "    }\n",
       "</style>\n",
       "<table border=\"1\" class=\"dataframe\">\n",
       "  <thead>\n",
       "    <tr style=\"text-align: right;\">\n",
       "      <th></th>\n",
       "      <th>Pred Offspeed</th>\n",
       "      <th>Pred Fastball</th>\n",
       "    </tr>\n",
       "  </thead>\n",
       "  <tbody>\n",
       "    <tr>\n",
       "      <th>Actual Offspeed</th>\n",
       "      <td>True Negative</td>\n",
       "      <td>False Positive</td>\n",
       "    </tr>\n",
       "    <tr>\n",
       "      <th>Actual Fastball</th>\n",
       "      <td>False Negative</td>\n",
       "      <td>True Positive</td>\n",
       "    </tr>\n",
       "  </tbody>\n",
       "</table>\n",
       "</div>"
      ],
      "text/plain": [
       "                  Pred Offspeed   Pred Fastball\n",
       "Actual Offspeed   True Negative  False Positive\n",
       "Actual Fastball  False Negative   True Positive"
      ]
     },
     "metadata": {},
     "output_type": "display_data"
    },
    {
     "data": {
      "image/png": "[encoded data removed]",
      "text/plain": [
       "<Figure size 432x288 with 2 Axes>"
      ]
     },
     "metadata": {
      "needs_background": "light"
     },
     "output_type": "display_data"
    },
    {
     "data": {
      "image/png": "[encoded data removed]",
      "text/plain": [
       "<Figure size 432x288 with 1 Axes>"
      ]
     },
     "metadata": {
      "needs_background": "light"
     },
     "output_type": "display_data"
    }
   ],
   "source": [
    "binary_classification_metrics(gs_f1, X_test, y_test);"
   ]
  },
  {
   "cell_type": "code",
   "execution_count": 15,
   "metadata": {
    "ExecuteTime": {
     "end_time": "2021-03-15T01:34:26.865496Z",
     "start_time": "2021-03-15T01:34:26.862783Z"
    }
   },
   "outputs": [],
   "source": [
    "gs_accuracy = GridSearchCV(pipe, param_grid=params, n_jobs=-1, verbose=1, cv=5, scoring='accuracy')"
   ]
  },
  {
   "cell_type": "code",
   "execution_count": 16,
   "metadata": {
    "ExecuteTime": {
     "end_time": "2021-03-15T01:49:41.880808Z",
     "start_time": "2021-03-15T01:34:26.867866Z"
    }
   },
   "outputs": [
    {
     "name": "stdout",
     "output_type": "stream",
     "text": [
      "Fitting 5 folds for each of 96 candidates, totalling 480 fits\n"
     ]
    },
    {
     "name": "stderr",
     "output_type": "stream",
     "text": [
      "[Parallel(n_jobs=-1)]: Using backend LokyBackend with 4 concurrent workers.\n",
      "[Parallel(n_jobs=-1)]: Done  42 tasks      | elapsed:   21.1s\n",
      "[Parallel(n_jobs=-1)]: Done 192 tasks      | elapsed:  3.7min\n",
      "[Parallel(n_jobs=-1)]: Done 442 tasks      | elapsed: 13.7min\n",
      "[Parallel(n_jobs=-1)]: Done 480 out of 480 | elapsed: 15.2min finished\n"
     ]
    }
   ],
   "source": [
    "gs_accuracy.fit(X_train, y_train);"
   ]
  },
  {
   "cell_type": "code",
   "execution_count": 17,
   "metadata": {
    "ExecuteTime": {
     "end_time": "2021-03-15T01:49:43.803438Z",
     "start_time": "2021-03-15T01:49:41.889365Z"
    }
   },
   "outputs": [
    {
     "name": "stdout",
     "output_type": "stream",
     "text": [
      "My accuracy is:  0.6119\n",
      "My specificity is:  0.9895\n",
      "My sensitivity is:  0.814\n",
      "My precision is:  0.63\n",
      "My f1 score is:  0.63\n"
     ]
    },
    {
     "data": {
      "text/html": [
       "<div>\n",
       "<style scoped>\n",
       "    .dataframe tbody tr th:only-of-type {\n",
       "        vertical-align: middle;\n",
       "    }\n",
       "\n",
       "    .dataframe tbody tr th {\n",
       "        vertical-align: top;\n",
       "    }\n",
       "\n",
       "    .dataframe thead th {\n",
       "        text-align: right;\n",
       "    }\n",
       "</style>\n",
       "<table border=\"1\" class=\"dataframe\">\n",
       "  <thead>\n",
       "    <tr style=\"text-align: right;\">\n",
       "      <th></th>\n",
       "      <th>Pred Offspeed</th>\n",
       "      <th>Pred Fastball</th>\n",
       "    </tr>\n",
       "  </thead>\n",
       "  <tbody>\n",
       "    <tr>\n",
       "      <th>Actual Offspeed</th>\n",
       "      <td>True Negative</td>\n",
       "      <td>False Positive</td>\n",
       "    </tr>\n",
       "    <tr>\n",
       "      <th>Actual Fastball</th>\n",
       "      <td>False Negative</td>\n",
       "      <td>True Positive</td>\n",
       "    </tr>\n",
       "  </tbody>\n",
       "</table>\n",
       "</div>"
      ],
      "text/plain": [
       "                  Pred Offspeed   Pred Fastball\n",
       "Actual Offspeed   True Negative  False Positive\n",
       "Actual Fastball  False Negative   True Positive"
      ]
     },
     "metadata": {},
     "output_type": "display_data"
    },
    {
     "data": {
      "image/png": "[encoded data removed]",
      "text/plain": [
       "<Figure size 432x288 with 2 Axes>"
      ]
     },
     "metadata": {
      "needs_background": "light"
     },
     "output_type": "display_data"
    },
    {
     "data": {
      "image/png": "[encoded data removed]",
      "text/plain": [
       "<Figure size 432x288 with 1 Axes>"
      ]
     },
     "metadata": {
      "needs_background": "light"
     },
     "output_type": "display_data"
    }
   ],
   "source": [
    "binary_classification_metrics(gs_accuracy, X_test, y_test);"
   ]
  },
  {
   "cell_type": "code",
   "execution_count": null,
   "metadata": {},
   "outputs": [],
   "source": []
  },
  {
   "cell_type": "code",
   "execution_count": 18,
   "metadata": {
    "ExecuteTime": {
     "end_time": "2021-03-15T01:49:43.807354Z",
     "start_time": "2021-03-15T01:49:43.805143Z"
    }
   },
   "outputs": [],
   "source": [
    "df_2 = df"
   ]
  },
  {
   "cell_type": "code",
   "execution_count": 19,
   "metadata": {
    "ExecuteTime": {
     "end_time": "2021-03-15T01:50:00.819222Z",
     "start_time": "2021-03-15T01:49:43.809005Z"
    }
   },
   "outputs": [
    {
     "data": {
      "text/html": [
       "<div>\n",
       "<style scoped>\n",
       "    .dataframe tbody tr th:only-of-type {\n",
       "        vertical-align: middle;\n",
       "    }\n",
       "\n",
       "    .dataframe tbody tr th {\n",
       "        vertical-align: top;\n",
       "    }\n",
       "\n",
       "    .dataframe thead th {\n",
       "        text-align: right;\n",
       "    }\n",
       "</style>\n",
       "<table border=\"1\" class=\"dataframe\">\n",
       "  <thead>\n",
       "    <tr style=\"text-align: right;\">\n",
       "      <th></th>\n",
       "      <th>vif_factor</th>\n",
       "      <th>features</th>\n",
       "    </tr>\n",
       "  </thead>\n",
       "  <tbody>\n",
       "    <tr>\n",
       "      <th>0</th>\n",
       "      <td>9.755854</td>\n",
       "      <td>balls</td>\n",
       "    </tr>\n",
       "    <tr>\n",
       "      <th>1</th>\n",
       "      <td>10.724772</td>\n",
       "      <td>strikes</td>\n",
       "    </tr>\n",
       "    <tr>\n",
       "      <th>2</th>\n",
       "      <td>1.550963</td>\n",
       "      <td>on_1b</td>\n",
       "    </tr>\n",
       "    <tr>\n",
       "      <th>3</th>\n",
       "      <td>2.577844</td>\n",
       "      <td>outs_when_up</td>\n",
       "    </tr>\n",
       "    <tr>\n",
       "      <th>4</th>\n",
       "      <td>4.552998</td>\n",
       "      <td>inning</td>\n",
       "    </tr>\n",
       "    <tr>\n",
       "      <th>5</th>\n",
       "      <td>5.465121</td>\n",
       "      <td>offspeed_in_sequence</td>\n",
       "    </tr>\n",
       "    <tr>\n",
       "      <th>6</th>\n",
       "      <td>10.504928</td>\n",
       "      <td>fastball_in_sequence</td>\n",
       "    </tr>\n",
       "    <tr>\n",
       "      <th>7</th>\n",
       "      <td>33.855398</td>\n",
       "      <td>proportion_of_fastballs_thrown_2018</td>\n",
       "    </tr>\n",
       "    <tr>\n",
       "      <th>8</th>\n",
       "      <td>24.273637</td>\n",
       "      <td>previous_pitch</td>\n",
       "    </tr>\n",
       "    <tr>\n",
       "      <th>9</th>\n",
       "      <td>10.750593</td>\n",
       "      <td>previous_zone</td>\n",
       "    </tr>\n",
       "    <tr>\n",
       "      <th>10</th>\n",
       "      <td>2.731053</td>\n",
       "      <td>stand_R</td>\n",
       "    </tr>\n",
       "    <tr>\n",
       "      <th>11</th>\n",
       "      <td>3.782857</td>\n",
       "      <td>p_throws_R</td>\n",
       "    </tr>\n",
       "    <tr>\n",
       "      <th>12</th>\n",
       "      <td>4.421181</td>\n",
       "      <td>if_fielding_alignment_Infield shift</td>\n",
       "    </tr>\n",
       "    <tr>\n",
       "      <th>13</th>\n",
       "      <td>8.561507</td>\n",
       "      <td>if_fielding_alignment_Standard</td>\n",
       "    </tr>\n",
       "    <tr>\n",
       "      <th>14</th>\n",
       "      <td>1.018946</td>\n",
       "      <td>of_fielding_alignment_4th outfielder</td>\n",
       "    </tr>\n",
       "    <tr>\n",
       "      <th>15</th>\n",
       "      <td>10.911063</td>\n",
       "      <td>of_fielding_alignment_Standard</td>\n",
       "    </tr>\n",
       "    <tr>\n",
       "      <th>16</th>\n",
       "      <td>1.454513</td>\n",
       "      <td>risp</td>\n",
       "    </tr>\n",
       "    <tr>\n",
       "      <th>17</th>\n",
       "      <td>1.015446</td>\n",
       "      <td>run_diff</td>\n",
       "    </tr>\n",
       "    <tr>\n",
       "      <th>18</th>\n",
       "      <td>2.040150</td>\n",
       "      <td>inning_topbot_Top</td>\n",
       "    </tr>\n",
       "    <tr>\n",
       "      <th>19</th>\n",
       "      <td>25.404081</td>\n",
       "      <td>previous_type_B</td>\n",
       "    </tr>\n",
       "    <tr>\n",
       "      <th>20</th>\n",
       "      <td>25.522044</td>\n",
       "      <td>previous_type_S</td>\n",
       "    </tr>\n",
       "    <tr>\n",
       "      <th>21</th>\n",
       "      <td>102.065072</td>\n",
       "      <td>hitter_woba_2018</td>\n",
       "    </tr>\n",
       "    <tr>\n",
       "      <th>22</th>\n",
       "      <td>259.013660</td>\n",
       "      <td>average_hitter_launch_speed_2018</td>\n",
       "    </tr>\n",
       "  </tbody>\n",
       "</table>\n",
       "</div>"
      ],
      "text/plain": [
       "    vif_factor                              features\n",
       "0     9.755854                                 balls\n",
       "1    10.724772                               strikes\n",
       "2     1.550963                                 on_1b\n",
       "3     2.577844                          outs_when_up\n",
       "4     4.552998                                inning\n",
       "5     5.465121                  offspeed_in_sequence\n",
       "6    10.504928                  fastball_in_sequence\n",
       "7    33.855398   proportion_of_fastballs_thrown_2018\n",
       "8    24.273637                        previous_pitch\n",
       "9    10.750593                         previous_zone\n",
       "10    2.731053                               stand_R\n",
       "11    3.782857                            p_throws_R\n",
       "12    4.421181   if_fielding_alignment_Infield shift\n",
       "13    8.561507        if_fielding_alignment_Standard\n",
       "14    1.018946  of_fielding_alignment_4th outfielder\n",
       "15   10.911063        of_fielding_alignment_Standard\n",
       "16    1.454513                                  risp\n",
       "17    1.015446                              run_diff\n",
       "18    2.040150                     inning_topbot_Top\n",
       "19   25.404081                       previous_type_B\n",
       "20   25.522044                       previous_type_S\n",
       "21  102.065072                      hitter_woba_2018\n",
       "22  259.013660      average_hitter_launch_speed_2018"
      ]
     },
     "execution_count": 19,
     "metadata": {},
     "output_type": "execute_result"
    }
   ],
   "source": [
    "vif = pd.DataFrame()\n",
    "vif['vif_factor'] = [variance_inflation_factor(X.values, i) \n",
    "                     for i in range(X.shape[1])]\n",
    "\n",
    "vif['features'] = X.columns\n",
    "\n",
    "vif['features'] = X.columns\n",
    "\n",
    "vif"
   ]
  },
  {
   "cell_type": "code",
   "execution_count": 20,
   "metadata": {
    "ExecuteTime": {
     "end_time": "2021-03-15T01:50:00.937308Z",
     "start_time": "2021-03-15T01:50:00.822000Z"
    }
   },
   "outputs": [
    {
     "data": {
      "text/html": [
       "<div>\n",
       "<style scoped>\n",
       "    .dataframe tbody tr th:only-of-type {\n",
       "        vertical-align: middle;\n",
       "    }\n",
       "\n",
       "    .dataframe tbody tr th {\n",
       "        vertical-align: top;\n",
       "    }\n",
       "\n",
       "    .dataframe thead th {\n",
       "        text-align: right;\n",
       "    }\n",
       "</style>\n",
       "<table border=\"1\" class=\"dataframe\">\n",
       "  <thead>\n",
       "    <tr style=\"text-align: right;\">\n",
       "      <th></th>\n",
       "      <th>vif_factor</th>\n",
       "      <th>features</th>\n",
       "    </tr>\n",
       "  </thead>\n",
       "  <tbody>\n",
       "    <tr>\n",
       "      <th>1</th>\n",
       "      <td>10.724772</td>\n",
       "      <td>strikes</td>\n",
       "    </tr>\n",
       "    <tr>\n",
       "      <th>6</th>\n",
       "      <td>10.504928</td>\n",
       "      <td>fastball_in_sequence</td>\n",
       "    </tr>\n",
       "    <tr>\n",
       "      <th>7</th>\n",
       "      <td>33.855398</td>\n",
       "      <td>proportion_of_fastballs_thrown_2018</td>\n",
       "    </tr>\n",
       "    <tr>\n",
       "      <th>8</th>\n",
       "      <td>24.273637</td>\n",
       "      <td>previous_pitch</td>\n",
       "    </tr>\n",
       "    <tr>\n",
       "      <th>9</th>\n",
       "      <td>10.750593</td>\n",
       "      <td>previous_zone</td>\n",
       "    </tr>\n",
       "    <tr>\n",
       "      <th>15</th>\n",
       "      <td>10.911063</td>\n",
       "      <td>of_fielding_alignment_Standard</td>\n",
       "    </tr>\n",
       "    <tr>\n",
       "      <th>19</th>\n",
       "      <td>25.404081</td>\n",
       "      <td>previous_type_B</td>\n",
       "    </tr>\n",
       "    <tr>\n",
       "      <th>20</th>\n",
       "      <td>25.522044</td>\n",
       "      <td>previous_type_S</td>\n",
       "    </tr>\n",
       "    <tr>\n",
       "      <th>21</th>\n",
       "      <td>102.065072</td>\n",
       "      <td>hitter_woba_2018</td>\n",
       "    </tr>\n",
       "    <tr>\n",
       "      <th>22</th>\n",
       "      <td>259.013660</td>\n",
       "      <td>average_hitter_launch_speed_2018</td>\n",
       "    </tr>\n",
       "  </tbody>\n",
       "</table>\n",
       "</div>"
      ],
      "text/plain": [
       "    vif_factor                             features\n",
       "1    10.724772                              strikes\n",
       "6    10.504928                 fastball_in_sequence\n",
       "7    33.855398  proportion_of_fastballs_thrown_2018\n",
       "8    24.273637                       previous_pitch\n",
       "9    10.750593                        previous_zone\n",
       "15   10.911063       of_fielding_alignment_Standard\n",
       "19   25.404081                      previous_type_B\n",
       "20   25.522044                      previous_type_S\n",
       "21  102.065072                     hitter_woba_2018\n",
       "22  259.013660     average_hitter_launch_speed_2018"
      ]
     },
     "execution_count": 20,
     "metadata": {},
     "output_type": "execute_result"
    }
   ],
   "source": [
    "vif[vif['vif_factor'] > 10]"
   ]
  },
  {
   "cell_type": "code",
   "execution_count": 21,
   "metadata": {
    "ExecuteTime": {
     "end_time": "2021-03-15T01:50:01.090427Z",
     "start_time": "2021-03-15T01:50:00.939794Z"
    }
   },
   "outputs": [],
   "source": [
    "df_2 = df.drop(columns=['previous_type_S', 'average_hitter_launch_speed_2018',\n",
    "                      'previous_type_B','previous_pitch', 'proportion_of_fastballs_thrown_2018',\n",
    "                       'hitter_woba_2018'])"
   ]
  },
  {
   "cell_type": "code",
   "execution_count": 22,
   "metadata": {
    "ExecuteTime": {
     "end_time": "2021-03-15T01:50:01.161751Z",
     "start_time": "2021-03-15T01:50:01.110442Z"
    }
   },
   "outputs": [],
   "source": [
    "X_2 = df_2.drop(columns=['pitch'])\n",
    "y_2 = df_2['pitch']"
   ]
  },
  {
   "cell_type": "code",
   "execution_count": 23,
   "metadata": {
    "ExecuteTime": {
     "end_time": "2021-03-15T01:50:08.968304Z",
     "start_time": "2021-03-15T01:50:01.167192Z"
    }
   },
   "outputs": [
    {
     "data": {
      "text/html": [
       "<div>\n",
       "<style scoped>\n",
       "    .dataframe tbody tr th:only-of-type {\n",
       "        vertical-align: middle;\n",
       "    }\n",
       "\n",
       "    .dataframe tbody tr th {\n",
       "        vertical-align: top;\n",
       "    }\n",
       "\n",
       "    .dataframe thead th {\n",
       "        text-align: right;\n",
       "    }\n",
       "</style>\n",
       "<table border=\"1\" class=\"dataframe\">\n",
       "  <thead>\n",
       "    <tr style=\"text-align: right;\">\n",
       "      <th></th>\n",
       "      <th>vif_factor</th>\n",
       "      <th>features</th>\n",
       "    </tr>\n",
       "  </thead>\n",
       "  <tbody>\n",
       "    <tr>\n",
       "      <th>0</th>\n",
       "      <td>8.604490</td>\n",
       "      <td>balls</td>\n",
       "    </tr>\n",
       "    <tr>\n",
       "      <th>1</th>\n",
       "      <td>8.151784</td>\n",
       "      <td>strikes</td>\n",
       "    </tr>\n",
       "    <tr>\n",
       "      <th>2</th>\n",
       "      <td>1.546364</td>\n",
       "      <td>on_1b</td>\n",
       "    </tr>\n",
       "    <tr>\n",
       "      <th>3</th>\n",
       "      <td>2.489875</td>\n",
       "      <td>outs_when_up</td>\n",
       "    </tr>\n",
       "    <tr>\n",
       "      <th>4</th>\n",
       "      <td>4.015525</td>\n",
       "      <td>inning</td>\n",
       "    </tr>\n",
       "    <tr>\n",
       "      <th>5</th>\n",
       "      <td>5.095550</td>\n",
       "      <td>offspeed_in_sequence</td>\n",
       "    </tr>\n",
       "    <tr>\n",
       "      <th>6</th>\n",
       "      <td>9.172383</td>\n",
       "      <td>fastball_in_sequence</td>\n",
       "    </tr>\n",
       "    <tr>\n",
       "      <th>7</th>\n",
       "      <td>4.062047</td>\n",
       "      <td>previous_zone</td>\n",
       "    </tr>\n",
       "    <tr>\n",
       "      <th>8</th>\n",
       "      <td>2.601607</td>\n",
       "      <td>stand_R</td>\n",
       "    </tr>\n",
       "    <tr>\n",
       "      <th>9</th>\n",
       "      <td>3.458584</td>\n",
       "      <td>p_throws_R</td>\n",
       "    </tr>\n",
       "    <tr>\n",
       "      <th>10</th>\n",
       "      <td>3.201088</td>\n",
       "      <td>if_fielding_alignment_Infield shift</td>\n",
       "    </tr>\n",
       "    <tr>\n",
       "      <th>11</th>\n",
       "      <td>6.473065</td>\n",
       "      <td>if_fielding_alignment_Standard</td>\n",
       "    </tr>\n",
       "    <tr>\n",
       "      <th>12</th>\n",
       "      <td>1.007700</td>\n",
       "      <td>of_fielding_alignment_4th outfielder</td>\n",
       "    </tr>\n",
       "    <tr>\n",
       "      <th>13</th>\n",
       "      <td>7.936937</td>\n",
       "      <td>of_fielding_alignment_Standard</td>\n",
       "    </tr>\n",
       "    <tr>\n",
       "      <th>14</th>\n",
       "      <td>1.444342</td>\n",
       "      <td>risp</td>\n",
       "    </tr>\n",
       "    <tr>\n",
       "      <th>15</th>\n",
       "      <td>1.014320</td>\n",
       "      <td>run_diff</td>\n",
       "    </tr>\n",
       "    <tr>\n",
       "      <th>16</th>\n",
       "      <td>1.991993</td>\n",
       "      <td>inning_topbot_Top</td>\n",
       "    </tr>\n",
       "  </tbody>\n",
       "</table>\n",
       "</div>"
      ],
      "text/plain": [
       "    vif_factor                              features\n",
       "0     8.604490                                 balls\n",
       "1     8.151784                               strikes\n",
       "2     1.546364                                 on_1b\n",
       "3     2.489875                          outs_when_up\n",
       "4     4.015525                                inning\n",
       "5     5.095550                  offspeed_in_sequence\n",
       "6     9.172383                  fastball_in_sequence\n",
       "7     4.062047                         previous_zone\n",
       "8     2.601607                               stand_R\n",
       "9     3.458584                            p_throws_R\n",
       "10    3.201088   if_fielding_alignment_Infield shift\n",
       "11    6.473065        if_fielding_alignment_Standard\n",
       "12    1.007700  of_fielding_alignment_4th outfielder\n",
       "13    7.936937        of_fielding_alignment_Standard\n",
       "14    1.444342                                  risp\n",
       "15    1.014320                              run_diff\n",
       "16    1.991993                     inning_topbot_Top"
      ]
     },
     "execution_count": 23,
     "metadata": {},
     "output_type": "execute_result"
    }
   ],
   "source": [
    "vif = pd.DataFrame()\n",
    "vif['vif_factor'] = [variance_inflation_factor(X_2.values, i) \n",
    "                     for i in range(X_2.shape[1])]\n",
    "\n",
    "vif['features'] = X_2.columns\n",
    "\n",
    "vif['features'] = X_2.columns\n",
    "\n",
    "vif"
   ]
  },
  {
   "cell_type": "code",
   "execution_count": 24,
   "metadata": {
    "ExecuteTime": {
     "end_time": "2021-03-15T01:50:09.346889Z",
     "start_time": "2021-03-15T01:50:08.970473Z"
    }
   },
   "outputs": [],
   "source": [
    "X_train_2, X_test_2, y_train_2, y_test_2 = train_test_split(X_2, y_2, test_size=0.25, \n",
    "                                                    random_state=16, stratify=y)"
   ]
  },
  {
   "cell_type": "code",
   "execution_count": 25,
   "metadata": {
    "ExecuteTime": {
     "end_time": "2021-03-15T01:50:09.355058Z",
     "start_time": "2021-03-15T01:50:09.349615Z"
    }
   },
   "outputs": [],
   "source": [
    "gs_2 = GridSearchCV(pipe, param_grid=params, n_jobs=-1, verbose=1, cv=5, scoring='accuracy')"
   ]
  },
  {
   "cell_type": "code",
   "execution_count": 26,
   "metadata": {
    "ExecuteTime": {
     "end_time": "2021-03-15T01:56:36.742213Z",
     "start_time": "2021-03-15T01:50:09.359147Z"
    }
   },
   "outputs": [
    {
     "name": "stdout",
     "output_type": "stream",
     "text": [
      "Fitting 5 folds for each of 96 candidates, totalling 480 fits\n"
     ]
    },
    {
     "name": "stderr",
     "output_type": "stream",
     "text": [
      "[Parallel(n_jobs=-1)]: Using backend LokyBackend with 4 concurrent workers.\n",
      "[Parallel(n_jobs=-1)]: Done  42 tasks      | elapsed:   16.3s\n",
      "[Parallel(n_jobs=-1)]: Done 192 tasks      | elapsed:  2.1min\n",
      "[Parallel(n_jobs=-1)]: Done 442 tasks      | elapsed:  5.8min\n",
      "[Parallel(n_jobs=-1)]: Done 480 out of 480 | elapsed:  6.3min finished\n"
     ]
    }
   ],
   "source": [
    "gs_2.fit(X_train_2, y_train_2);"
   ]
  },
  {
   "cell_type": "code",
   "execution_count": 27,
   "metadata": {
    "ExecuteTime": {
     "end_time": "2021-03-15T01:56:37.730694Z",
     "start_time": "2021-03-15T01:56:36.748386Z"
    }
   },
   "outputs": [
    {
     "name": "stdout",
     "output_type": "stream",
     "text": [
      "My accuracy is:  0.5919\n",
      "My specificity is:  0.9895\n",
      "My sensitivity is:  0.8631\n",
      "My precision is:  0.6058\n",
      "My f1 score is:  0.6058\n"
     ]
    },
    {
     "data": {
      "text/html": [
       "<div>\n",
       "<style scoped>\n",
       "    .dataframe tbody tr th:only-of-type {\n",
       "        vertical-align: middle;\n",
       "    }\n",
       "\n",
       "    .dataframe tbody tr th {\n",
       "        vertical-align: top;\n",
       "    }\n",
       "\n",
       "    .dataframe thead th {\n",
       "        text-align: right;\n",
       "    }\n",
       "</style>\n",
       "<table border=\"1\" class=\"dataframe\">\n",
       "  <thead>\n",
       "    <tr style=\"text-align: right;\">\n",
       "      <th></th>\n",
       "      <th>Pred Offspeed</th>\n",
       "      <th>Pred Fastball</th>\n",
       "    </tr>\n",
       "  </thead>\n",
       "  <tbody>\n",
       "    <tr>\n",
       "      <th>Actual Offspeed</th>\n",
       "      <td>True Negative</td>\n",
       "      <td>False Positive</td>\n",
       "    </tr>\n",
       "    <tr>\n",
       "      <th>Actual Fastball</th>\n",
       "      <td>False Negative</td>\n",
       "      <td>True Positive</td>\n",
       "    </tr>\n",
       "  </tbody>\n",
       "</table>\n",
       "</div>"
      ],
      "text/plain": [
       "                  Pred Offspeed   Pred Fastball\n",
       "Actual Offspeed   True Negative  False Positive\n",
       "Actual Fastball  False Negative   True Positive"
      ]
     },
     "metadata": {},
     "output_type": "display_data"
    },
    {
     "data": {
      "image/png": "[encoded data removed]",
      "text/plain": [
       "<Figure size 432x288 with 2 Axes>"
      ]
     },
     "metadata": {
      "needs_background": "light"
     },
     "output_type": "display_data"
    },
    {
     "data": {
      "image/png": "[encoded data removed]",
      "text/plain": [
       "<Figure size 432x288 with 1 Axes>"
      ]
     },
     "metadata": {
      "needs_background": "light"
     },
     "output_type": "display_data"
    }
   ],
   "source": [
    "binary_classification_metrics(gs_2, X_test_2, y_test_2);"
   ]
  },
  {
   "cell_type": "code",
   "execution_count": null,
   "metadata": {},
   "outputs": [],
   "source": []
  },
  {
   "cell_type": "code",
   "execution_count": 132,
   "metadata": {
    "ExecuteTime": {
     "end_time": "2021-03-15T21:57:09.311113Z",
     "start_time": "2021-03-15T21:57:09.299513Z"
    }
   },
   "outputs": [],
   "source": [
    "mm = MinMaxScaler()"
   ]
  },
  {
   "cell_type": "code",
   "execution_count": 133,
   "metadata": {
    "ExecuteTime": {
     "end_time": "2021-03-15T21:57:09.952482Z",
     "start_time": "2021-03-15T21:57:09.478144Z"
    }
   },
   "outputs": [],
   "source": [
    "X_train_mm = mm.fit_transform(X_train)\n",
    "X_test_mm = mm.transform(X_test)"
   ]
  },
  {
   "cell_type": "code",
   "execution_count": 134,
   "metadata": {
    "ExecuteTime": {
     "end_time": "2021-03-15T21:57:10.586521Z",
     "start_time": "2021-03-15T21:57:09.955055Z"
    }
   },
   "outputs": [
    {
     "data": {
      "text/plain": [
       "array([0.16135106, 0.15485173, 0.14800324, 0.09022729, 0.08675253,\n",
       "       0.074353  , 0.06047946, 0.05550631, 0.04624949, 0.02912563,\n",
       "       0.02387699, 0.01320415, 0.01208362, 0.01094284, 0.00927497,\n",
       "       0.00789535, 0.00472103, 0.00362597, 0.003152  , 0.00243963,\n",
       "       0.00106114, 0.00041439, 0.00040818])"
      ]
     },
     "execution_count": 134,
     "metadata": {},
     "output_type": "execute_result"
    }
   ],
   "source": [
    "pca = PCA().fit(X_train_mm)\n",
    "\n",
    "pca.explained_variance_ratio_"
   ]
  },
  {
   "cell_type": "code",
   "execution_count": 135,
   "metadata": {
    "ExecuteTime": {
     "end_time": "2021-03-15T21:57:10.616638Z",
     "start_time": "2021-03-15T21:57:10.592671Z"
    }
   },
   "outputs": [],
   "source": [
    "pipe_2 = Pipeline([\n",
    "    ('mm', MinMaxScaler()),\n",
    "    ('pca', PCA()),\n",
    "    ('lr', LogisticRegression())\n",
    "])"
   ]
  },
  {
   "cell_type": "code",
   "execution_count": 136,
   "metadata": {
    "ExecuteTime": {
     "end_time": "2021-03-15T21:57:10.634325Z",
     "start_time": "2021-03-15T21:57:10.620305Z"
    }
   },
   "outputs": [],
   "source": [
    "params_2 = {\n",
    "    'pca__n_components': [15],\n",
    "     'lr__solver': ['liblinear','saga'],\n",
    "    'lr__penalty': ['l1','l2', 'elasticnet'],\n",
    "    'lr__C' : [0.0001, 0.001, 0.01, 0.1, 1, 10, 100, 1000],\n",
    "    'lr__class_weight': [None, 'balanced']\n",
    "}"
   ]
  },
  {
   "cell_type": "code",
   "execution_count": 137,
   "metadata": {
    "ExecuteTime": {
     "end_time": "2021-03-15T21:57:10.678246Z",
     "start_time": "2021-03-15T21:57:10.658458Z"
    }
   },
   "outputs": [],
   "source": [
    "gs_3 = GridSearchCV(pipe_2, params_2, cv = 5,\n",
    "                    scoring = 'accuracy', verbose = 1, n_jobs = -1)"
   ]
  },
  {
   "cell_type": "code",
   "execution_count": 138,
   "metadata": {
    "ExecuteTime": {
     "end_time": "2021-03-15T22:03:52.945723Z",
     "start_time": "2021-03-15T21:57:11.172662Z"
    }
   },
   "outputs": [
    {
     "name": "stdout",
     "output_type": "stream",
     "text": [
      "Fitting 3 folds for each of 96 candidates, totalling 288 fits\n"
     ]
    },
    {
     "name": "stderr",
     "output_type": "stream",
     "text": [
      "[Parallel(n_jobs=-1)]: Using backend LokyBackend with 4 concurrent workers.\n",
      "[Parallel(n_jobs=-1)]: Done  42 tasks      | elapsed:  1.0min\n",
      "[Parallel(n_jobs=-1)]: Done 192 tasks      | elapsed:  4.5min\n",
      "[Parallel(n_jobs=-1)]: Done 288 out of 288 | elapsed:  6.6min finished\n"
     ]
    }
   ],
   "source": [
    "gs_3.fit(X_train, y_train);\n"
   ]
  },
  {
   "cell_type": "code",
   "execution_count": 139,
   "metadata": {
    "ExecuteTime": {
     "end_time": "2021-03-15T22:03:54.447143Z",
     "start_time": "2021-03-15T22:03:52.958023Z"
    }
   },
   "outputs": [
    {
     "name": "stdout",
     "output_type": "stream",
     "text": [
      "My accuracy is:  0.5864\n",
      "My specificity is:  0.9895\n",
      "My sensitivity is:  0.8965\n",
      "My precision is:  0.5974\n",
      "My f1 score is:  0.5974\n"
     ]
    },
    {
     "data": {
      "text/html": [
       "<div>\n",
       "<style scoped>\n",
       "    .dataframe tbody tr th:only-of-type {\n",
       "        vertical-align: middle;\n",
       "    }\n",
       "\n",
       "    .dataframe tbody tr th {\n",
       "        vertical-align: top;\n",
       "    }\n",
       "\n",
       "    .dataframe thead th {\n",
       "        text-align: right;\n",
       "    }\n",
       "</style>\n",
       "<table border=\"1\" class=\"dataframe\">\n",
       "  <thead>\n",
       "    <tr style=\"text-align: right;\">\n",
       "      <th></th>\n",
       "      <th>Pred Offspeed</th>\n",
       "      <th>Pred Fastball</th>\n",
       "    </tr>\n",
       "  </thead>\n",
       "  <tbody>\n",
       "    <tr>\n",
       "      <th>Actual Offspeed</th>\n",
       "      <td>True Negative</td>\n",
       "      <td>False Positive</td>\n",
       "    </tr>\n",
       "    <tr>\n",
       "      <th>Actual Fastball</th>\n",
       "      <td>False Negative</td>\n",
       "      <td>True Positive</td>\n",
       "    </tr>\n",
       "  </tbody>\n",
       "</table>\n",
       "</div>"
      ],
      "text/plain": [
       "                  Pred Offspeed   Pred Fastball\n",
       "Actual Offspeed   True Negative  False Positive\n",
       "Actual Fastball  False Negative   True Positive"
      ]
     },
     "metadata": {},
     "output_type": "display_data"
    },
    {
     "data": {
      "image/png": "[encoded data removed]",
      "text/plain": [
       "<Figure size 432x288 with 2 Axes>"
      ]
     },
     "metadata": {
      "needs_background": "light"
     },
     "output_type": "display_data"
    },
    {
     "data": {
      "image/png": "[encoded data removed]",
      "text/plain": [
       "<Figure size 432x288 with 1 Axes>"
      ]
     },
     "metadata": {
      "needs_background": "light"
     },
     "output_type": "display_data"
    }
   ],
   "source": [
    "binary_classification_metrics(gs_3, X_test, y_test);"
   ]
  },
  {
   "cell_type": "code",
   "execution_count": null,
   "metadata": {},
   "outputs": [],
   "source": [
    "## Dummy variables"
   ]
  },
  {
   "cell_type": "code",
   "execution_count": 140,
   "metadata": {
    "ExecuteTime": {
     "end_time": "2021-03-15T22:10:35.895983Z",
     "start_time": "2021-03-15T22:10:33.704659Z"
    }
   },
   "outputs": [],
   "source": [
    "dummy_df = pd.get_dummies(data=df, columns=['balls', 'strikes', 'outs_when_up',\n",
    "                                           'inning', 'previous_pitch', \n",
    "                                            'previous_zone'], drop_first=True)\n",
    "\n"
   ]
  },
  {
   "cell_type": "code",
   "execution_count": 146,
   "metadata": {
    "ExecuteTime": {
     "end_time": "2021-03-16T00:58:25.018120Z",
     "start_time": "2021-03-16T00:58:23.750287Z"
    }
   },
   "outputs": [],
   "source": [
    "X_3 = dummy_df.drop(columns = ['pitch'])\n",
    "y_3 = dummy_df['pitch']"
   ]
  },
  {
   "cell_type": "code",
   "execution_count": 147,
   "metadata": {
    "ExecuteTime": {
     "end_time": "2021-03-16T00:58:26.188274Z",
     "start_time": "2021-03-16T00:58:25.043359Z"
    }
   },
   "outputs": [],
   "source": [
    "X_train_dum, X_test_dum, y_train_dum, y_test_dum = train_test_split(X_3, y_3, test_size=0.25, \n",
    "                                                    random_state=16, stratify=y)"
   ]
  },
  {
   "cell_type": "code",
   "execution_count": 148,
   "metadata": {
    "ExecuteTime": {
     "end_time": "2021-03-16T00:58:26.233255Z",
     "start_time": "2021-03-16T00:58:26.202057Z"
    }
   },
   "outputs": [],
   "source": [
    "gs_f2 = GridSearchCV(pipe, param_grid=params, n_jobs=-1, verbose=1, cv=5, scoring='f1_weighted')"
   ]
  },
  {
   "cell_type": "code",
   "execution_count": 149,
   "metadata": {
    "ExecuteTime": {
     "end_time": "2021-03-16T02:30:04.277493Z",
     "start_time": "2021-03-16T00:58:26.240171Z"
    }
   },
   "outputs": [
    {
     "name": "stdout",
     "output_type": "stream",
     "text": [
      "Fitting 5 folds for each of 96 candidates, totalling 480 fits\n"
     ]
    },
    {
     "name": "stderr",
     "output_type": "stream",
     "text": [
      "[Parallel(n_jobs=-1)]: Using backend LokyBackend with 4 concurrent workers.\n",
      "[Parallel(n_jobs=-1)]: Done  42 tasks      | elapsed:   45.1s\n",
      "[Parallel(n_jobs=-1)]: Done 192 tasks      | elapsed:  8.2min\n",
      "[Parallel(n_jobs=-1)]: Done 442 tasks      | elapsed: 89.0min\n",
      "[Parallel(n_jobs=-1)]: Done 480 out of 480 | elapsed: 91.5min finished\n"
     ]
    },
    {
     "data": {
      "text/plain": [
       "GridSearchCV(cv=5,\n",
       "             estimator=Pipeline(steps=[('mm', MinMaxScaler()),\n",
       "                                       ('lr', LogisticRegression())]),\n",
       "             n_jobs=-1,\n",
       "             param_grid={'lr__C': [0.0001, 0.001, 0.01, 0.1, 1, 10, 100, 1000],\n",
       "                         'lr__class_weight': [None, 'balanced'],\n",
       "                         'lr__penalty': ['l1', 'l2', 'elasticnet'],\n",
       "                         'lr__solver': ['liblinear', 'saga']},\n",
       "             scoring='f1_weighted', verbose=1)"
      ]
     },
     "execution_count": 149,
     "metadata": {},
     "output_type": "execute_result"
    }
   ],
   "source": [
    "gs_f2.fit(X_train_dum, y_train_dum)"
   ]
  },
  {
   "cell_type": "code",
   "execution_count": 150,
   "metadata": {
    "ExecuteTime": {
     "end_time": "2021-03-16T02:30:05.887376Z",
     "start_time": "2021-03-16T02:30:04.298880Z"
    }
   },
   "outputs": [
    {
     "name": "stdout",
     "output_type": "stream",
     "text": [
      "My accuracy is:  0.601\n",
      "My specificity is:  0.9895\n",
      "My sensitivity is:  0.5898\n",
      "My precision is:  0.684\n",
      "My f1 score is:  0.684\n"
     ]
    },
    {
     "data": {
      "text/html": [
       "<div>\n",
       "<style scoped>\n",
       "    .dataframe tbody tr th:only-of-type {\n",
       "        vertical-align: middle;\n",
       "    }\n",
       "\n",
       "    .dataframe tbody tr th {\n",
       "        vertical-align: top;\n",
       "    }\n",
       "\n",
       "    .dataframe thead th {\n",
       "        text-align: right;\n",
       "    }\n",
       "</style>\n",
       "<table border=\"1\" class=\"dataframe\">\n",
       "  <thead>\n",
       "    <tr style=\"text-align: right;\">\n",
       "      <th></th>\n",
       "      <th>Pred Offspeed</th>\n",
       "      <th>Pred Fastball</th>\n",
       "    </tr>\n",
       "  </thead>\n",
       "  <tbody>\n",
       "    <tr>\n",
       "      <th>Actual Offspeed</th>\n",
       "      <td>True Negative</td>\n",
       "      <td>False Positive</td>\n",
       "    </tr>\n",
       "    <tr>\n",
       "      <th>Actual Fastball</th>\n",
       "      <td>False Negative</td>\n",
       "      <td>True Positive</td>\n",
       "    </tr>\n",
       "  </tbody>\n",
       "</table>\n",
       "</div>"
      ],
      "text/plain": [
       "                  Pred Offspeed   Pred Fastball\n",
       "Actual Offspeed   True Negative  False Positive\n",
       "Actual Fastball  False Negative   True Positive"
      ]
     },
     "metadata": {},
     "output_type": "display_data"
    },
    {
     "data": {
      "image/png": "[encoded data removed]",
      "text/plain": [
       "<Figure size 432x288 with 2 Axes>"
      ]
     },
     "metadata": {
      "needs_background": "light"
     },
     "output_type": "display_data"
    },
    {
     "data": {
      "image/png": "[encoded data removed]",
      "text/plain": [
       "<Figure size 432x288 with 1 Axes>"
      ]
     },
     "metadata": {
      "needs_background": "light"
     },
     "output_type": "display_data"
    }
   ],
   "source": [
    "binary_classification_metrics(gs_f2, X_test_dum, y_test_dum);"
   ]
  },
  {
   "cell_type": "code",
   "execution_count": null,
   "metadata": {},
   "outputs": [],
   "source": []
  },
  {
   "cell_type": "code",
   "execution_count": 151,
   "metadata": {
    "ExecuteTime": {
     "end_time": "2021-03-16T02:30:05.904560Z",
     "start_time": "2021-03-16T02:30:05.892800Z"
    }
   },
   "outputs": [],
   "source": [
    "gs_accuracy_2 = GridSearchCV(pipe, param_grid=params, n_jobs=-1, verbose=1, \n",
    "                             cv=5, scoring='accuracy')"
   ]
  },
  {
   "cell_type": "code",
   "execution_count": 152,
   "metadata": {
    "ExecuteTime": {
     "end_time": "2021-03-16T04:08:52.487460Z",
     "start_time": "2021-03-16T02:30:05.909647Z"
    }
   },
   "outputs": [
    {
     "name": "stdout",
     "output_type": "stream",
     "text": [
      "Fitting 5 folds for each of 96 candidates, totalling 480 fits\n"
     ]
    },
    {
     "name": "stderr",
     "output_type": "stream",
     "text": [
      "[Parallel(n_jobs=-1)]: Using backend LokyBackend with 4 concurrent workers.\n",
      "[Parallel(n_jobs=-1)]: Done  42 tasks      | elapsed:   42.7s\n",
      "[Parallel(n_jobs=-1)]: Done 192 tasks      | elapsed:  7.9min\n",
      "[Parallel(n_jobs=-1)]: Done 442 tasks      | elapsed: 96.1min\n",
      "[Parallel(n_jobs=-1)]: Done 480 out of 480 | elapsed: 98.6min finished\n"
     ]
    },
    {
     "data": {
      "text/plain": [
       "GridSearchCV(cv=5,\n",
       "             estimator=Pipeline(steps=[('mm', MinMaxScaler()),\n",
       "                                       ('lr', LogisticRegression())]),\n",
       "             n_jobs=-1,\n",
       "             param_grid={'lr__C': [0.0001, 0.001, 0.01, 0.1, 1, 10, 100, 1000],\n",
       "                         'lr__class_weight': [None, 'balanced'],\n",
       "                         'lr__penalty': ['l1', 'l2', 'elasticnet'],\n",
       "                         'lr__solver': ['liblinear', 'saga']},\n",
       "             scoring='accuracy', verbose=1)"
      ]
     },
     "execution_count": 152,
     "metadata": {},
     "output_type": "execute_result"
    }
   ],
   "source": [
    "gs_accuracy_2.fit(X_train_dum, y_train_dum)"
   ]
  },
  {
   "cell_type": "code",
   "execution_count": 153,
   "metadata": {
    "ExecuteTime": {
     "end_time": "2021-03-16T04:08:54.641649Z",
     "start_time": "2021-03-16T04:08:52.518999Z"
    }
   },
   "outputs": [
    {
     "name": "stdout",
     "output_type": "stream",
     "text": [
      "My accuracy is:  0.6137\n",
      "My specificity is:  0.9895\n",
      "My sensitivity is:  0.8055\n",
      "My precision is:  0.6333\n",
      "My f1 score is:  0.6333\n"
     ]
    },
    {
     "data": {
      "text/html": [
       "<div>\n",
       "<style scoped>\n",
       "    .dataframe tbody tr th:only-of-type {\n",
       "        vertical-align: middle;\n",
       "    }\n",
       "\n",
       "    .dataframe tbody tr th {\n",
       "        vertical-align: top;\n",
       "    }\n",
       "\n",
       "    .dataframe thead th {\n",
       "        text-align: right;\n",
       "    }\n",
       "</style>\n",
       "<table border=\"1\" class=\"dataframe\">\n",
       "  <thead>\n",
       "    <tr style=\"text-align: right;\">\n",
       "      <th></th>\n",
       "      <th>Pred Offspeed</th>\n",
       "      <th>Pred Fastball</th>\n",
       "    </tr>\n",
       "  </thead>\n",
       "  <tbody>\n",
       "    <tr>\n",
       "      <th>Actual Offspeed</th>\n",
       "      <td>True Negative</td>\n",
       "      <td>False Positive</td>\n",
       "    </tr>\n",
       "    <tr>\n",
       "      <th>Actual Fastball</th>\n",
       "      <td>False Negative</td>\n",
       "      <td>True Positive</td>\n",
       "    </tr>\n",
       "  </tbody>\n",
       "</table>\n",
       "</div>"
      ],
      "text/plain": [
       "                  Pred Offspeed   Pred Fastball\n",
       "Actual Offspeed   True Negative  False Positive\n",
       "Actual Fastball  False Negative   True Positive"
      ]
     },
     "metadata": {},
     "output_type": "display_data"
    },
    {
     "data": {
      "image/png": "[encoded data removed]",
      "text/plain": [
       "<Figure size 432x288 with 2 Axes>"
      ]
     },
     "metadata": {
      "needs_background": "light"
     },
     "output_type": "display_data"
    },
    {
     "data": {
      "image/png": "[encoded data removed]",
      "text/plain": [
       "<Figure size 432x288 with 1 Axes>"
      ]
     },
     "metadata": {
      "needs_background": "light"
     },
     "output_type": "display_data"
    }
   ],
   "source": [
    "binary_classification_metrics(gs_accuracy_2, X_test_dum, y_test_dum);"
   ]
  },
  {
   "cell_type": "code",
   "execution_count": null,
   "metadata": {},
   "outputs": [],
   "source": []
  },
  {
   "cell_type": "code",
   "execution_count": 37,
   "metadata": {
    "ExecuteTime": {
     "end_time": "2021-03-15T02:24:40.712954Z",
     "start_time": "2021-03-15T02:24:40.706042Z"
    }
   },
   "outputs": [],
   "source": [
    "# Multi-class logistic regression"
   ]
  },
  {
   "cell_type": "code",
   "execution_count": 68,
   "metadata": {
    "ExecuteTime": {
     "end_time": "2021-03-15T03:34:37.009268Z",
     "start_time": "2021-03-15T03:34:33.085110Z"
    }
   },
   "outputs": [],
   "source": [
    "df_3 = pd.read_csv('../../clean_2019_3.csv')"
   ]
  },
  {
   "cell_type": "code",
   "execution_count": 69,
   "metadata": {
    "ExecuteTime": {
     "end_time": "2021-03-15T03:34:37.301707Z",
     "start_time": "2021-03-15T03:34:37.045628Z"
    }
   },
   "outputs": [
    {
     "data": {
      "text/plain": [
       "Unnamed: 0                              0\n",
       "balls                                   0\n",
       "strikes                                 0\n",
       "on_1b                                   0\n",
       "outs_when_up                            0\n",
       "inning                                  0\n",
       "pitch                                   0\n",
       "1                                       0\n",
       "offspeed_in_sequence                    0\n",
       "fastball_in_sequence                    0\n",
       "pitch_2                                 0\n",
       "proportion_of_fastballs_thrown_2018     0\n",
       "previous_pitch                          0\n",
       "previous_zone                           0\n",
       "stand_R                                 0\n",
       "p_throws_R                              0\n",
       "if_fielding_alignment_Infield shift     0\n",
       "if_fielding_alignment_Standard          0\n",
       "of_fielding_alignment_4th outfielder    0\n",
       "of_fielding_alignment_Standard          0\n",
       "risp                                    0\n",
       "run_diff                                0\n",
       "inning_topbot_Top                       0\n",
       "previous_type_B                         0\n",
       "previous_type_S                         0\n",
       "hitter_woba_2018                        0\n",
       "average_hitter_launch_speed_2018        0\n",
       "dtype: int64"
      ]
     },
     "execution_count": 69,
     "metadata": {},
     "output_type": "execute_result"
    }
   ],
   "source": [
    "df_3.isna().sum()"
   ]
  },
  {
   "cell_type": "code",
   "execution_count": 70,
   "metadata": {
    "ExecuteTime": {
     "end_time": "2021-03-15T03:34:37.484750Z",
     "start_time": "2021-03-15T03:34:37.310818Z"
    }
   },
   "outputs": [],
   "source": [
    "X_3 = df_3.drop(columns=['pitch'])\n",
    "y_3 = df_3['pitch']"
   ]
  },
  {
   "cell_type": "code",
   "execution_count": 71,
   "metadata": {
    "ExecuteTime": {
     "end_time": "2021-03-15T03:34:37.534944Z",
     "start_time": "2021-03-15T03:34:37.487964Z"
    }
   },
   "outputs": [],
   "source": [
    "le = LabelEncoder()\n",
    "y_3 = le.fit_transform(y_3)"
   ]
  },
  {
   "cell_type": "code",
   "execution_count": 72,
   "metadata": {
    "ExecuteTime": {
     "end_time": "2021-03-15T03:34:37.548565Z",
     "start_time": "2021-03-15T03:34:37.536912Z"
    }
   },
   "outputs": [
    {
     "data": {
      "text/plain": [
       "array([1, 2, 2, ..., 0, 0, 2])"
      ]
     },
     "execution_count": 72,
     "metadata": {},
     "output_type": "execute_result"
    }
   ],
   "source": [
    "y_3"
   ]
  },
  {
   "cell_type": "code",
   "execution_count": 73,
   "metadata": {
    "ExecuteTime": {
     "end_time": "2021-03-15T03:34:37.816309Z",
     "start_time": "2021-03-15T03:34:37.552047Z"
    },
    "code_folding": []
   },
   "outputs": [],
   "source": [
    "X_train_mc, X_test_mc, y_train_mc, y_test_mc = train_test_split(X_3, y_3, test_size=0.25, \n",
    "                                                    random_state=16)"
   ]
  },
  {
   "cell_type": "code",
   "execution_count": 74,
   "metadata": {
    "ExecuteTime": {
     "end_time": "2021-03-15T03:34:37.937338Z",
     "start_time": "2021-03-15T03:34:37.820368Z"
    }
   },
   "outputs": [],
   "source": [
    "pipe_3 = Pipeline([\n",
    "    ('mm', MinMaxScaler()),\n",
    "    ('lr', LogisticRegression())\n",
    "])"
   ]
  },
  {
   "cell_type": "code",
   "execution_count": 75,
   "metadata": {
    "ExecuteTime": {
     "end_time": "2021-03-15T03:34:39.222286Z",
     "start_time": "2021-03-15T03:34:39.195059Z"
    }
   },
   "outputs": [],
   "source": [
    "params_3 = {\n",
    "    'lr__solver': ['saga'],\n",
    "    'lr__penalty': ['l1','l2', 'elasticnet'],\n",
    "    'lr__C' : [0.0001, 0.001, 0.01, 0.1, 1, 10, 100, 1000],\n",
    "    'lr__class_weight': [None, 'balanced'],\n",
    "    'lr__multi_class' : ['ovr', 'multinomial']\n",
    "}"
   ]
  },
  {
   "cell_type": "code",
   "execution_count": 76,
   "metadata": {
    "ExecuteTime": {
     "end_time": "2021-03-15T03:34:40.822254Z",
     "start_time": "2021-03-15T03:34:40.815740Z"
    }
   },
   "outputs": [],
   "source": [
    "gs_4 = GridSearchCV(pipe_3, param_grid=params_3, n_jobs=-1, verbose=1, cv=5, scoring='accuracy')"
   ]
  },
  {
   "cell_type": "code",
   "execution_count": 77,
   "metadata": {
    "ExecuteTime": {
     "end_time": "2021-03-15T03:56:00.395491Z",
     "start_time": "2021-03-15T03:34:41.015537Z"
    }
   },
   "outputs": [
    {
     "name": "stdout",
     "output_type": "stream",
     "text": [
      "Fitting 5 folds for each of 96 candidates, totalling 480 fits\n"
     ]
    },
    {
     "name": "stderr",
     "output_type": "stream",
     "text": [
      "[Parallel(n_jobs=-1)]: Using backend LokyBackend with 4 concurrent workers.\n",
      "[Parallel(n_jobs=-1)]: Done  42 tasks      | elapsed:  1.5min\n",
      "[Parallel(n_jobs=-1)]: Done 192 tasks      | elapsed:  7.2min\n",
      "[Parallel(n_jobs=-1)]: Done 442 tasks      | elapsed: 19.7min\n",
      "[Parallel(n_jobs=-1)]: Done 480 out of 480 | elapsed: 21.1min finished\n"
     ]
    }
   ],
   "source": [
    "gs_4.fit(X_train_mc, y_train_mc);"
   ]
  },
  {
   "cell_type": "code",
   "execution_count": 78,
   "metadata": {
    "ExecuteTime": {
     "end_time": "2021-03-15T03:56:00.587889Z",
     "start_time": "2021-03-15T03:56:00.413713Z"
    }
   },
   "outputs": [
    {
     "data": {
      "text/plain": [
       "0.5947685982923978"
      ]
     },
     "execution_count": 78,
     "metadata": {},
     "output_type": "execute_result"
    }
   ],
   "source": [
    "gs_4.score(X_train_mc, y_train_mc)\n"
   ]
  },
  {
   "cell_type": "code",
   "execution_count": 79,
   "metadata": {
    "ExecuteTime": {
     "end_time": "2021-03-15T03:56:00.749390Z",
     "start_time": "2021-03-15T03:56:00.596283Z"
    }
   },
   "outputs": [
    {
     "data": {
      "text/plain": [
       "0.5932682318720133"
      ]
     },
     "execution_count": 79,
     "metadata": {},
     "output_type": "execute_result"
    }
   ],
   "source": [
    "gs_4.score(X_test_mc, y_test_mc)"
   ]
  },
  {
   "cell_type": "code",
   "execution_count": 117,
   "metadata": {
    "ExecuteTime": {
     "end_time": "2021-03-15T04:15:48.027433Z",
     "start_time": "2021-03-15T04:15:48.015907Z"
    }
   },
   "outputs": [],
   "source": [
    "def plot_multiclass_roc(clf, X_test, y_test, n_classes, figsize=(17, 6)):\n",
    "    \n",
    "    y_score = clf.decision_function(X_test)\n",
    "\n",
    "    # structures\n",
    "    fpr = dict()\n",
    "    tpr = dict()\n",
    "    #hpr = dict()\n",
    "    roc_auc = dict()\n",
    "\n",
    "    # calculate dummies once\n",
    "    y_test_dummies = pd.get_dummies(y_test, drop_first=False).values\n",
    "    y_test_columns = ['Fastball', 'Breaking Ball', 'Changeup']\n",
    "    \n",
    "    \n",
    "    for i in range(n_classes):\n",
    "        fpr[i], tpr[i], _ = metrics.roc_curve(y_test_dummies[:, i], y_score[:, i])\n",
    "        roc_auc[i] = metrics.auc(fpr[i], tpr[i])\n",
    "\n",
    "    # roc for each class\n",
    "    fig, ax = plt.subplots(figsize=figsize)\n",
    "    ax.plot([0, 1], [0, 1], 'k--')\n",
    "    ax.set_xlim([0.0, 1.0])\n",
    "    ax.set_ylim([0.0, 1.05])\n",
    "    ax.set_xlabel('False Positive Rate')\n",
    "    ax.set_ylabel('True Positive Rate')\n",
    "    ax.set_title('Receiver operating characteristic example')\n",
    "    for i in range(n_classes):\n",
    "        ax.plot(fpr[i], tpr[i], label='ROC curve (area = %0.2f) for %s' % (roc_auc[i], \n",
    "                                                                y_test_columns[i])) #% (roc_auc[i], i))\n",
    "    ax.legend(loc=\"best\")\n",
    "    ax.grid(alpha=.4)\n",
    "    sns.despine()\n",
    "    plt.show()\n",
    "\n"
   ]
  },
  {
   "cell_type": "code",
   "execution_count": 118,
   "metadata": {
    "ExecuteTime": {
     "end_time": "2021-03-15T04:15:49.056827Z",
     "start_time": "2021-03-15T04:15:49.050038Z"
    }
   },
   "outputs": [],
   "source": [
    "def multiclass_classification_metrics(gs, X_test, y_test):\n",
    "    \n",
    "    y_hat = gs.predict(X_test)\n",
    "    accuracy = metrics.accuracy_score(y_test, y_hat)\n",
    "\n",
    "    #specificity = true negative/(true neagtive +false positive)\n",
    "    specificity = 1984/(1984+21) \n",
    "\n",
    "    sensitivity =  metrics.recall_score(y_test, y_hat, average='macro')\n",
    "\n",
    "    precision = metrics.precision_score(y_test, y_hat, average='macro')\n",
    "\n",
    "    f1 = metrics.f1_score(y_test, y_hat, average='macro')\n",
    "    \n",
    "    \n",
    "    print('My accuracy is: ', round(accuracy,4))\n",
    "    print('My specificity is: ', round(specificity, 4))\n",
    "    print('My sensitivity is: ', round(sensitivity,4))\n",
    "    print('My precision is: ', round(precision,4))\n",
    "    print('My f1 score is: ', round(precision,4))\n",
    "    \n",
    "\n",
    "    metrics.plot_confusion_matrix(gs, X_test, y_test, cmap='Accent', \n",
    "                          values_format='d', display_labels=[ 'Change-up',\n",
    "                                                              'Breaking Ball', \n",
    "                                                             'Fastball']);\n",
    "    \n",
    "    plot_multiclass_roc(gs, X_test, y_test, 3, figsize=(17, 6))"
   ]
  },
  {
   "cell_type": "code",
   "execution_count": 119,
   "metadata": {
    "ExecuteTime": {
     "end_time": "2021-03-15T04:15:50.467181Z",
     "start_time": "2021-03-15T04:15:49.632414Z"
    }
   },
   "outputs": [
    {
     "name": "stdout",
     "output_type": "stream",
     "text": [
      "My accuracy is:  0.5933\n",
      "My specificity is:  0.9895\n",
      "My sensitivity is:  0.3798\n",
      "My precision is:  0.5363\n",
      "My f1 score is:  0.5363\n",
      "['Fastball', 'Breaking Ball', 'Changeup']\n"
     ]
    },
    {
     "data": {
      "image/png": "[encoded data removed]",
      "text/plain": [
       "<Figure size 432x288 with 2 Axes>"
      ]
     },
     "metadata": {
      "needs_background": "light"
     },
     "output_type": "display_data"
    },
    {
     "data": {
      "image/png": "[encoded data removed]",
      "text/plain": [
       "<Figure size 1224x432 with 1 Axes>"
      ]
     },
     "metadata": {
      "needs_background": "light"
     },
     "output_type": "display_data"
    }
   ],
   "source": [
    "multiclass_classification_metrics(gs_4, X_test_mc, y_test_mc)"
   ]
  },
  {
   "cell_type": "code",
   "execution_count": null,
   "metadata": {},
   "outputs": [],
   "source": []
  },
  {
   "cell_type": "code",
   "execution_count": null,
   "metadata": {},
   "outputs": [],
   "source": []
  },
  {
   "cell_type": "code",
   "execution_count": 45,
   "metadata": {
    "ExecuteTime": {
     "end_time": "2021-03-15T02:54:05.765055Z",
     "start_time": "2021-03-15T02:54:04.663775Z"
    }
   },
   "outputs": [
    {
     "name": "stdout",
     "output_type": "stream",
     "text": [
      "My accuracy is:  0.612\n",
      "My specificity is:  0.9895\n",
      "My sensitivity is:  0.8139\n",
      "My precision is:  0.63\n",
      "My f1 score is:  0.63\n"
     ]
    },
    {
     "data": {
      "text/html": [
       "<div>\n",
       "<style scoped>\n",
       "    .dataframe tbody tr th:only-of-type {\n",
       "        vertical-align: middle;\n",
       "    }\n",
       "\n",
       "    .dataframe tbody tr th {\n",
       "        vertical-align: top;\n",
       "    }\n",
       "\n",
       "    .dataframe thead th {\n",
       "        text-align: right;\n",
       "    }\n",
       "</style>\n",
       "<table border=\"1\" class=\"dataframe\">\n",
       "  <thead>\n",
       "    <tr style=\"text-align: right;\">\n",
       "      <th></th>\n",
       "      <th>Pred Offspeed</th>\n",
       "      <th>Pred Fastball</th>\n",
       "    </tr>\n",
       "  </thead>\n",
       "  <tbody>\n",
       "    <tr>\n",
       "      <th>Actual Offspeed</th>\n",
       "      <td>True Negative</td>\n",
       "      <td>False Positive</td>\n",
       "    </tr>\n",
       "    <tr>\n",
       "      <th>Actual Fastball</th>\n",
       "      <td>False Negative</td>\n",
       "      <td>True Positive</td>\n",
       "    </tr>\n",
       "  </tbody>\n",
       "</table>\n",
       "</div>"
      ],
      "text/plain": [
       "                  Pred Offspeed   Pred Fastball\n",
       "Actual Offspeed   True Negative  False Positive\n",
       "Actual Fastball  False Negative   True Positive"
      ]
     },
     "metadata": {},
     "output_type": "display_data"
    },
    {
     "data": {
      "image/png": "[encoded data removed]",
      "text/plain": [
       "<Figure size 432x288 with 2 Axes>"
      ]
     },
     "metadata": {
      "needs_background": "light"
     },
     "output_type": "display_data"
    },
    {
     "data": {
      "image/png": "[encoded data removed]",
      "text/plain": [
       "<Figure size 432x288 with 1 Axes>"
      ]
     },
     "metadata": {
      "needs_background": "light"
     },
     "output_type": "display_data"
    }
   ],
   "source": [
    "# binary_classification_metrics(gs_4, X_test_mc, y_test_mc);"
   ]
  },
  {
   "cell_type": "code",
   "execution_count": 122,
   "metadata": {
    "ExecuteTime": {
     "end_time": "2021-03-15T04:40:00.622528Z",
     "start_time": "2021-03-15T04:40:00.598372Z"
    }
   },
   "outputs": [],
   "source": [
    "gs_5 = GridSearchCV(pipe_3, param_grid=params_3, n_jobs=-1, verbose=1, cv=5, scoring='f1_weighted')"
   ]
  },
  {
   "cell_type": "code",
   "execution_count": 123,
   "metadata": {
    "ExecuteTime": {
     "end_time": "2021-03-15T04:59:38.276657Z",
     "start_time": "2021-03-15T04:40:01.293978Z"
    }
   },
   "outputs": [
    {
     "name": "stdout",
     "output_type": "stream",
     "text": [
      "Fitting 5 folds for each of 96 candidates, totalling 480 fits\n"
     ]
    },
    {
     "name": "stderr",
     "output_type": "stream",
     "text": [
      "[Parallel(n_jobs=-1)]: Using backend LokyBackend with 4 concurrent workers.\n",
      "[Parallel(n_jobs=-1)]: Done  42 tasks      | elapsed:  1.4min\n",
      "[Parallel(n_jobs=-1)]: Done 192 tasks      | elapsed:  6.7min\n",
      "[Parallel(n_jobs=-1)]: Done 442 tasks      | elapsed: 18.2min\n",
      "[Parallel(n_jobs=-1)]: Done 480 out of 480 | elapsed: 19.5min finished\n"
     ]
    }
   ],
   "source": [
    "gs_5.fit(X_train_mc, y_train_mc);"
   ]
  },
  {
   "cell_type": "code",
   "execution_count": 124,
   "metadata": {
    "ExecuteTime": {
     "end_time": "2021-03-15T04:59:39.407317Z",
     "start_time": "2021-03-15T04:59:38.290177Z"
    }
   },
   "outputs": [
    {
     "name": "stdout",
     "output_type": "stream",
     "text": [
      "My accuracy is:  0.5923\n",
      "My specificity is:  0.9895\n",
      "My sensitivity is:  0.398\n",
      "My precision is:  0.5174\n",
      "My f1 score is:  0.5174\n",
      "['Fastball', 'Breaking Ball', 'Changeup']\n"
     ]
    },
    {
     "data": {
      "image/png": "[encoded data removed]",
      "text/plain": [
       "<Figure size 432x288 with 2 Axes>"
      ]
     },
     "metadata": {
      "needs_background": "light"
     },
     "output_type": "display_data"
    },
    {
     "data": {
      "image/png": "[encoded data removed]",
      "text/plain": [
       "<Figure size 1224x432 with 1 Axes>"
      ]
     },
     "metadata": {
      "needs_background": "light"
     },
     "output_type": "display_data"
    }
   ],
   "source": [
    "multiclass_classification_metrics(gs_5, X_test_mc, y_test_mc)"
   ]
  },
  {
   "cell_type": "code",
   "execution_count": null,
   "metadata": {},
   "outputs": [],
   "source": []
  }
 ],
 "metadata": {
  "kernelspec": {
   "display_name": "Python 3",
   "language": "python",
   "name": "python3"
  },
  "language_info": {
   "codemirror_mode": {
    "name": "ipython",
    "version": 3
   },
   "file_extension": ".py",
   "mimetype": "text/x-python",
   "name": "python",
   "nbconvert_exporter": "python",
   "pygments_lexer": "ipython3",
   "version": "3.8.5"
  }
 },
 "nbformat": 4,
 "nbformat_minor": 4
}
