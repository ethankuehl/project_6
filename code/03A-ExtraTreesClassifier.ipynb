{
 "cells": [
  {
   "cell_type": "code",
   "execution_count": 3,
   "metadata": {
    "ExecuteTime": {
     "end_time": "2021-03-12T16:48:19.627290Z",
     "start_time": "2021-03-12T16:48:19.462878Z"
    }
   },
   "outputs": [],
   "source": [
    "import pandas as pd\n",
    "import numpy as np\n",
    "import matplotlib.pyplot as plt\n",
    "import seaborn as sns\n",
    "import random\n",
    "\n",
    "from sklearn.model_selection import train_test_split\n",
    "from sklearn.tree import ExtraTreeClassifier\n",
    "from sklearn.pipeline import Pipeline\n",
    "from sklearn.model_selection import train_test_split, GridSearchCV\n",
    "from sklearn.metrics import mean_squared_error, f1_score"
   ]
  },
  {
   "cell_type": "code",
   "execution_count": 4,
   "metadata": {
    "ExecuteTime": {
     "end_time": "2021-03-12T16:48:21.036506Z",
     "start_time": "2021-03-12T16:48:21.021913Z"
    }
   },
   "outputs": [],
   "source": [
    "random.seed(16)"
   ]
  },
  {
   "cell_type": "code",
   "execution_count": null,
   "metadata": {},
   "outputs": [],
   "source": [
    "X_train, X_test, y_train, y_test = train_test_split(X, y, test_size=0.2, \n",
    "                                                    random_state=16, stratify=y)"
   ]
  },
  {
   "cell_type": "code",
   "execution_count": null,
   "metadata": {},
   "outputs": [],
   "source": [
    "et = ExtraTreeClassifier()\n",
    "\n",
    "et_pipeline = Pipeline([\n",
    "    ('et', et)])\n",
    "\n",
    "et_params = {\n",
    "    'et__criterion':['gini'],\n",
    "    'et_splitter': ['random'],\n",
    "    'et__max_depth':['None', 10, 20, 30]\n",
    "    'et__max_samples': [0.25,0.5,1.0],\n",
    "    'et__max_features': [0.25, 0.5, 1.0],\n",
    "    'et__class_weight': ['balanced'],\n",
    "    'et__min_samples_leaf': [50, 100, 500],\n",
    "    'et__ccp_alpha': [0.005, 0.025, 0.05, 0.1]  \n",
    "}\n",
    "\n",
    "et_grid = GridSearchCV(et_pipeline, param_grid=et_params, n_jobs=-1, verbose=1)\n",
    "\n",
    "# Let's GridSearch over the above parameters on our training data.\n",
    "bag_grid.fit(X_train, y_train)"
   ]
  }
 ],
 "metadata": {
  "kernelspec": {
   "display_name": "Python 3",
   "language": "python",
   "name": "python3"
  },
  "language_info": {
   "codemirror_mode": {
    "name": "ipython",
    "version": 3
   },
   "file_extension": ".py",
   "mimetype": "text/x-python",
   "name": "python",
   "nbconvert_exporter": "python",
   "pygments_lexer": "ipython3",
   "version": "3.8.5"
  }
 },
 "nbformat": 4,
 "nbformat_minor": 4
}
