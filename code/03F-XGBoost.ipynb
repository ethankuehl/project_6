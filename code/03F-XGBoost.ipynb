{
 "cells": [
  {
   "cell_type": "code",
   "execution_count": null,
   "metadata": {},
   "outputs": [],
   "source": [
    "import pandas as pd\n",
    "import numpy as np\n",
    "import matplotlib.pyplot as plt\n",
    "import seaborn as sns\n",
    "import random\n",
    "\n",
    "from sklearn.ensemble import GradientBoostingClassifier\n",
    "from sklearn import metrics as metrics\n",
    "from sklearn.preprocessing import StandardScaler\n",
    "from sklearn.feature_extraction.text import CountVectorizer, TfidfVectorizer\n",
    "from sklearn.model_selection import train_test_split, GridSearchCV\n",
    "from sklearn.metrics import confusion_matrix\n",
    "from sklearn.metrics import roc_auc_score\n",
    "from sklearn.utils import compute_sample_weight, compute_class_weight"
   ]
  },
  {
   "cell_type": "code",
   "execution_count": null,
   "metadata": {},
   "outputs": [],
   "source": [
    "X_train, X_test, y_train, y_test = train_test_split(X, y, test_size=0.2, \n",
    "                                                    random_state=16, stratify=y)"
   ]
  },
  {
   "cell_type": "code",
   "execution_count": null,
   "metadata": {},
   "outputs": [],
   "source": [
    "class_weight_arr = compute_class_weight(class_weight='balanced', classes=np.unique(y_train), y = y_train)\n",
    "weight = compute_sample_weight(class_weight=class_weights, y=y_train)"
   ]
  },
  {
   "cell_type": "code",
   "execution_count": null,
   "metadata": {},
   "outputs": [],
   "source": [
    "params = {\n",
    "    learning_rate = [0.01, .05],\n",
    "    'subsample'= [0.75]\n",
    "    'rf__n_estimators': [150, 250, 500],\n",
    "    'rf__max_depth': [3,5,7],\n",
    "    'rf__class_weight': ['balanced'],\n",
    "    'rf__min_samples_split': [250, 500, 1000],\n",
    "    'rf__min_weight_fraction_leaf': [0.12],\n",
    "    'rf__max_features': [None, 20, 10],\n",
    "    'rf__min_impurity_decrease': [0, 0.05, 0.1],\n",
    "    'rf__ccp_alpha': [0.005, 0.025, 0.05, 0.1],\n",
    "    'rf__max_samples': [100_000, 250_000]\n",
    "}"
   ]
  },
  {
   "cell_type": "code",
   "execution_count": null,
   "metadata": {},
   "outputs": [],
   "source": [
    "clf = GradientBoostingClassifier(max_depth=3, loss='exponential', n_estimators=1500, \n",
    "                                 verbose=1, n_jobs=-1, random_state=16)"
   ]
  }
 ],
 "metadata": {
  "kernelspec": {
   "display_name": "Python 3",
   "language": "python",
   "name": "python3"
  },
  "language_info": {
   "codemirror_mode": {
    "name": "ipython",
    "version": 3
   },
   "file_extension": ".py",
   "mimetype": "text/x-python",
   "name": "python",
   "nbconvert_exporter": "python",
   "pygments_lexer": "ipython3",
   "version": "3.8.5"
  }
 },
 "nbformat": 4,
 "nbformat_minor": 4
}
