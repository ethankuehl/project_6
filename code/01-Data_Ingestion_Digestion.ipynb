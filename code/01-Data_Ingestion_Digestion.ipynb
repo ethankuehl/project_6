{
 "cells": [
  {
   "cell_type": "markdown",
   "metadata": {},
   "source": [
    "# Data Ingestion \n",
    "\n",
    "In this portion of the project, I utilize the [baseball_scraper](https://github.com/spilchen/baseball_scraper) package to scrape the statcast data for every pitch thrown in each season. Baseball_scraper uses selenium to scrape [Baseball Savant's Statcast website](https://baseballsavant.mlb.com/csv-docs#pitch_type) to gather pitch-level data for each season. To gather pitch-level data for each season, I looked up the season start- and end-date for each season and plugged those dates into the statcast scraper function. \n",
    "\n",
    "Each season is comprised of ~700,000 pitches, so I am unable to push the data to github. Therefore, I saved the data in an Amazon s3 bucket for future use."
   ]
  },
  {
   "cell_type": "code",
   "execution_count": 14,
   "metadata": {
    "ExecuteTime": {
     "end_time": "2021-02-28T20:04:57.128930Z",
     "start_time": "2021-02-28T20:04:57.115987Z"
    }
   },
   "outputs": [],
   "source": [
    "import pandas as pd\n",
    "\n",
    "from baseball_scraper import playerid_lookup\n",
    "from baseball_scraper import statcast_pitcher\n",
    "from baseball_scraper import batting_stats_range\n",
    "from baseball_scraper import statcast\n",
    "from baseball_scraper import statcast_batter"
   ]
  },
  {
   "cell_type": "code",
   "execution_count": 15,
   "metadata": {
    "ExecuteTime": {
     "end_time": "2021-02-28T20:04:57.141206Z",
     "start_time": "2021-02-28T20:04:57.132337Z"
    }
   },
   "outputs": [],
   "source": [
    "pd.set_option('display.max_columns', 200)\n",
    "pd.set_option('display.max_rows', 400)"
   ]
  },
  {
   "cell_type": "markdown",
   "metadata": {},
   "source": [
    "## 2015 Data"
   ]
  },
  {
   "cell_type": "code",
   "execution_count": 17,
   "metadata": {
    "ExecuteTime": {
     "end_time": "2021-02-28T20:10:12.530705Z",
     "start_time": "2021-02-28T20:05:05.677166Z"
    }
   },
   "outputs": [
    {
     "name": "stdout",
     "output_type": "stream",
     "text": [
      "This is a large query, it may take a moment to complete\n",
      "Completed sub-query from 2015-04-01 to 2015-04-06\n",
      "Completed sub-query from 2015-04-07 to 2015-04-12\n",
      "Completed sub-query from 2015-04-13 to 2015-04-18\n",
      "Completed sub-query from 2015-04-19 to 2015-04-24\n",
      "Completed sub-query from 2015-04-25 to 2015-04-30\n",
      "Completed sub-query from 2015-05-01 to 2015-05-06\n",
      "Completed sub-query from 2015-05-07 to 2015-05-12\n",
      "Completed sub-query from 2015-05-13 to 2015-05-18\n",
      "Completed sub-query from 2015-05-19 to 2015-05-24\n",
      "Completed sub-query from 2015-05-25 to 2015-05-30\n",
      "Completed sub-query from 2015-05-31 to 2015-06-05\n",
      "Completed sub-query from 2015-06-06 to 2015-06-11\n",
      "Completed sub-query from 2015-06-12 to 2015-06-17\n",
      "Completed sub-query from 2015-06-18 to 2015-06-23\n",
      "Completed sub-query from 2015-06-24 to 2015-06-29\n",
      "Completed sub-query from 2015-06-30 to 2015-07-05\n",
      "Completed sub-query from 2015-07-06 to 2015-07-11\n",
      "Completed sub-query from 2015-07-12 to 2015-07-17\n",
      "Completed sub-query from 2015-07-18 to 2015-07-23\n",
      "Completed sub-query from 2015-07-24 to 2015-07-29\n",
      "Completed sub-query from 2015-07-30 to 2015-08-04\n",
      "Completed sub-query from 2015-08-05 to 2015-08-10\n",
      "Completed sub-query from 2015-08-11 to 2015-08-16\n",
      "Completed sub-query from 2015-08-17 to 2015-08-22\n",
      "Completed sub-query from 2015-08-23 to 2015-08-28\n",
      "Completed sub-query from 2015-08-29 to 2015-09-03\n",
      "Completed sub-query from 2015-09-04 to 2015-09-09\n",
      "Completed sub-query from 2015-09-10 to 2015-09-15\n",
      "Completed sub-query from 2015-09-16 to 2015-09-21\n",
      "Completed sub-query from 2015-09-22 to 2015-09-27\n",
      "Completed sub-query from 2015-09-28 to 2015-10-03\n",
      "Completed sub-query from 2015-10-04 to 2015-10-09\n",
      "Completed sub-query from 2015-10-10 to 2015-10-15\n",
      "Completed sub-query from 2015-10-16 to 2015-10-21\n",
      "Completed sub-query from 2015-10-22 to 2015-10-27\n",
      "Completed sub-query from 2015-10-28 to 2015-11-02\n",
      "Completed sub-query from 2015-11-03 to 2015-11-05\n"
     ]
    }
   ],
   "source": [
    "sc_2015 = statcast(start_dt='2015-04-01', end_dt= '2015-11-05')"
   ]
  },
  {
   "cell_type": "code",
   "execution_count": 47,
   "metadata": {
    "ExecuteTime": {
     "end_time": "2021-03-01T01:05:48.096774Z",
     "start_time": "2021-03-01T01:04:52.805292Z"
    }
   },
   "outputs": [],
   "source": [
    "sc_2015.to_csv('./data/statcast_data/sc_2015.csv', index=False)"
   ]
  },
  {
   "cell_type": "markdown",
   "metadata": {},
   "source": [
    "## 2016 Data"
   ]
  },
  {
   "cell_type": "code",
   "execution_count": 19,
   "metadata": {
    "ExecuteTime": {
     "end_time": "2021-02-28T20:15:52.283988Z",
     "start_time": "2021-02-28T20:10:20.257992Z"
    }
   },
   "outputs": [
    {
     "name": "stdout",
     "output_type": "stream",
     "text": [
      "This is a large query, it may take a moment to complete\n",
      "Completed sub-query from 2016-04-01 to 2016-04-06\n",
      "Completed sub-query from 2016-04-07 to 2016-04-12\n",
      "Completed sub-query from 2016-04-13 to 2016-04-18\n",
      "Completed sub-query from 2016-04-19 to 2016-04-24\n",
      "Completed sub-query from 2016-04-25 to 2016-04-30\n",
      "Completed sub-query from 2016-05-01 to 2016-05-06\n",
      "Completed sub-query from 2016-05-07 to 2016-05-12\n",
      "Completed sub-query from 2016-05-13 to 2016-05-18\n",
      "Completed sub-query from 2016-05-19 to 2016-05-24\n",
      "Completed sub-query from 2016-05-25 to 2016-05-30\n",
      "Completed sub-query from 2016-05-31 to 2016-06-05\n",
      "Completed sub-query from 2016-06-06 to 2016-06-11\n",
      "Completed sub-query from 2016-06-12 to 2016-06-17\n",
      "Completed sub-query from 2016-06-18 to 2016-06-23\n",
      "Completed sub-query from 2016-06-24 to 2016-06-29\n",
      "Completed sub-query from 2016-06-30 to 2016-07-05\n",
      "Completed sub-query from 2016-07-06 to 2016-07-11\n",
      "Completed sub-query from 2016-07-12 to 2016-07-17\n",
      "Completed sub-query from 2016-07-18 to 2016-07-23\n",
      "Completed sub-query from 2016-07-24 to 2016-07-29\n",
      "Completed sub-query from 2016-07-30 to 2016-08-04\n",
      "Completed sub-query from 2016-08-05 to 2016-08-10\n",
      "Completed sub-query from 2016-08-11 to 2016-08-16\n",
      "Completed sub-query from 2016-08-17 to 2016-08-22\n",
      "Completed sub-query from 2016-08-23 to 2016-08-28\n",
      "Completed sub-query from 2016-08-29 to 2016-09-03\n",
      "Completed sub-query from 2016-09-04 to 2016-09-09\n",
      "Completed sub-query from 2016-09-10 to 2016-09-15\n",
      "Completed sub-query from 2016-09-16 to 2016-09-21\n",
      "Completed sub-query from 2016-09-22 to 2016-09-27\n",
      "Completed sub-query from 2016-09-28 to 2016-10-03\n",
      "Completed sub-query from 2016-10-04 to 2016-10-09\n",
      "Completed sub-query from 2016-10-10 to 2016-10-15\n",
      "Completed sub-query from 2016-10-16 to 2016-10-21\n",
      "Completed sub-query from 2016-10-22 to 2016-10-27\n",
      "Completed sub-query from 2016-10-28 to 2016-11-02\n",
      "Completed sub-query from 2016-11-03 to 2016-11-07\n"
     ]
    }
   ],
   "source": [
    "sc_2016 = statcast(start_dt='2016-04-01', end_dt='2016-11-07')"
   ]
  },
  {
   "cell_type": "code",
   "execution_count": 49,
   "metadata": {
    "ExecuteTime": {
     "end_time": "2021-03-01T01:06:44.444974Z",
     "start_time": "2021-03-01T01:05:48.150164Z"
    }
   },
   "outputs": [],
   "source": [
    "sc_2016.to_csv('./data/statcast_data/sc_2016.csv', index=False)"
   ]
  },
  {
   "cell_type": "markdown",
   "metadata": {},
   "source": [
    "## 2017 Data"
   ]
  },
  {
   "cell_type": "code",
   "execution_count": 21,
   "metadata": {
    "ExecuteTime": {
     "end_time": "2021-02-28T20:21:31.116922Z",
     "start_time": "2021-02-28T20:16:00.251048Z"
    }
   },
   "outputs": [
    {
     "name": "stdout",
     "output_type": "stream",
     "text": [
      "This is a large query, it may take a moment to complete\n",
      "Completed sub-query from 2017-04-01 to 2017-04-06\n",
      "Completed sub-query from 2017-04-07 to 2017-04-12\n",
      "Completed sub-query from 2017-04-13 to 2017-04-18\n",
      "Completed sub-query from 2017-04-19 to 2017-04-24\n",
      "Completed sub-query from 2017-04-25 to 2017-04-30\n",
      "Completed sub-query from 2017-05-01 to 2017-05-06\n",
      "Completed sub-query from 2017-05-07 to 2017-05-12\n",
      "Completed sub-query from 2017-05-13 to 2017-05-18\n",
      "Completed sub-query from 2017-05-19 to 2017-05-24\n",
      "Completed sub-query from 2017-05-25 to 2017-05-30\n",
      "Completed sub-query from 2017-05-31 to 2017-06-05\n",
      "Completed sub-query from 2017-06-06 to 2017-06-11\n",
      "Completed sub-query from 2017-06-12 to 2017-06-17\n",
      "Completed sub-query from 2017-06-18 to 2017-06-23\n",
      "Completed sub-query from 2017-06-24 to 2017-06-29\n",
      "Completed sub-query from 2017-06-30 to 2017-07-05\n",
      "Completed sub-query from 2017-07-06 to 2017-07-11\n",
      "Completed sub-query from 2017-07-12 to 2017-07-17\n",
      "Completed sub-query from 2017-07-18 to 2017-07-23\n",
      "Completed sub-query from 2017-07-24 to 2017-07-29\n",
      "Completed sub-query from 2017-07-30 to 2017-08-04\n",
      "Completed sub-query from 2017-08-05 to 2017-08-10\n",
      "Completed sub-query from 2017-08-11 to 2017-08-16\n",
      "Completed sub-query from 2017-08-17 to 2017-08-22\n",
      "Completed sub-query from 2017-08-23 to 2017-08-28\n",
      "Completed sub-query from 2017-08-29 to 2017-09-03\n",
      "Completed sub-query from 2017-09-04 to 2017-09-09\n",
      "Completed sub-query from 2017-09-10 to 2017-09-15\n",
      "Completed sub-query from 2017-09-16 to 2017-09-21\n",
      "Completed sub-query from 2017-09-22 to 2017-09-27\n",
      "Completed sub-query from 2017-09-28 to 2017-10-03\n",
      "Completed sub-query from 2017-10-04 to 2017-10-09\n",
      "Completed sub-query from 2017-10-10 to 2017-10-15\n",
      "Completed sub-query from 2017-10-16 to 2017-10-21\n",
      "Completed sub-query from 2017-10-22 to 2017-10-27\n",
      "Completed sub-query from 2017-10-28 to 2017-11-02\n",
      "Completed sub-query from 2017-11-03 to 2017-11-07\n"
     ]
    }
   ],
   "source": [
    "sc_2017 = statcast(start_dt='2017-04-01', end_dt='2017-11-07')"
   ]
  },
  {
   "cell_type": "code",
   "execution_count": 51,
   "metadata": {
    "ExecuteTime": {
     "end_time": "2021-03-01T01:07:41.076354Z",
     "start_time": "2021-03-01T01:06:44.481338Z"
    }
   },
   "outputs": [],
   "source": [
    "sc_2017.to_csv('./data/statcast_data/sc_2017.csv', index=False)"
   ]
  },
  {
   "cell_type": "markdown",
   "metadata": {},
   "source": [
    "## 2018 Data"
   ]
  },
  {
   "cell_type": "code",
   "execution_count": 23,
   "metadata": {
    "ExecuteTime": {
     "end_time": "2021-02-28T20:27:04.790007Z",
     "start_time": "2021-02-28T20:21:39.585749Z"
    }
   },
   "outputs": [
    {
     "name": "stdout",
     "output_type": "stream",
     "text": [
      "This is a large query, it may take a moment to complete\n",
      "Completed sub-query from 2018-03-29 to 2018-04-03\n",
      "Completed sub-query from 2018-04-04 to 2018-04-09\n",
      "Completed sub-query from 2018-04-10 to 2018-04-15\n",
      "Completed sub-query from 2018-04-16 to 2018-04-21\n",
      "Completed sub-query from 2018-04-22 to 2018-04-27\n",
      "Completed sub-query from 2018-04-28 to 2018-05-03\n",
      "Completed sub-query from 2018-05-04 to 2018-05-09\n",
      "Completed sub-query from 2018-05-10 to 2018-05-15\n",
      "Completed sub-query from 2018-05-16 to 2018-05-21\n",
      "Completed sub-query from 2018-05-22 to 2018-05-27\n",
      "Completed sub-query from 2018-05-28 to 2018-06-02\n",
      "Completed sub-query from 2018-06-03 to 2018-06-08\n",
      "Completed sub-query from 2018-06-09 to 2018-06-14\n",
      "Completed sub-query from 2018-06-15 to 2018-06-20\n",
      "Completed sub-query from 2018-06-21 to 2018-06-26\n",
      "Completed sub-query from 2018-06-27 to 2018-07-02\n",
      "Completed sub-query from 2018-07-03 to 2018-07-08\n",
      "Completed sub-query from 2018-07-09 to 2018-07-14\n",
      "Completed sub-query from 2018-07-15 to 2018-07-20\n",
      "Completed sub-query from 2018-07-21 to 2018-07-26\n",
      "Completed sub-query from 2018-07-27 to 2018-08-01\n",
      "Completed sub-query from 2018-08-02 to 2018-08-07\n",
      "Completed sub-query from 2018-08-08 to 2018-08-13\n",
      "Completed sub-query from 2018-08-14 to 2018-08-19\n",
      "Completed sub-query from 2018-08-20 to 2018-08-25\n",
      "Completed sub-query from 2018-08-26 to 2018-08-31\n",
      "Completed sub-query from 2018-09-01 to 2018-09-06\n",
      "Completed sub-query from 2018-09-07 to 2018-09-12\n",
      "Completed sub-query from 2018-09-13 to 2018-09-18\n",
      "Completed sub-query from 2018-09-19 to 2018-09-24\n",
      "Completed sub-query from 2018-09-25 to 2018-09-30\n",
      "Completed sub-query from 2018-10-01 to 2018-10-06\n",
      "Completed sub-query from 2018-10-07 to 2018-10-12\n",
      "Completed sub-query from 2018-10-13 to 2018-10-18\n",
      "Completed sub-query from 2018-10-19 to 2018-10-24\n",
      "Completed sub-query from 2018-10-25 to 2018-10-30\n",
      "Query unsuccessful for data from 2018-10-31 to 2018-11-04. Skipping these dates.\n",
      "Query unsuccessful for data from 2018-11-05 to 2018-11-05. Skipping these dates.\n",
      "Completed sub-query from 2018-11-06 to 2018-11-07\n"
     ]
    }
   ],
   "source": [
    "sc_2018 = statcast(start_dt='2018-03-29', end_dt='2018-11-07')"
   ]
  },
  {
   "cell_type": "code",
   "execution_count": 44,
   "metadata": {
    "ExecuteTime": {
     "end_time": "2021-03-01T01:04:52.690217Z",
     "start_time": "2021-03-01T01:03:48.941426Z"
    }
   },
   "outputs": [],
   "source": [
    "sc_2018.to_csv('./data/statcast_data/sc_2018.csv', index=False)"
   ]
  },
  {
   "cell_type": "markdown",
   "metadata": {},
   "source": [
    "## 2019 Data"
   ]
  },
  {
   "cell_type": "code",
   "execution_count": 25,
   "metadata": {
    "ExecuteTime": {
     "end_time": "2021-02-28T20:33:29.632355Z",
     "start_time": "2021-02-28T20:27:19.202628Z"
    }
   },
   "outputs": [
    {
     "name": "stdout",
     "output_type": "stream",
     "text": [
      "This is a large query, it may take a moment to complete\n",
      "Completed sub-query from 2019-03-20 to 2019-03-25\n",
      "Completed sub-query from 2019-03-26 to 2019-03-31\n",
      "Completed sub-query from 2019-04-01 to 2019-04-06\n",
      "Completed sub-query from 2019-04-07 to 2019-04-12\n",
      "Completed sub-query from 2019-04-13 to 2019-04-18\n",
      "Completed sub-query from 2019-04-19 to 2019-04-24\n",
      "Completed sub-query from 2019-04-25 to 2019-04-30\n",
      "Completed sub-query from 2019-05-01 to 2019-05-06\n",
      "Completed sub-query from 2019-05-07 to 2019-05-12\n",
      "Completed sub-query from 2019-05-13 to 2019-05-18\n",
      "Completed sub-query from 2019-05-19 to 2019-05-24\n",
      "Completed sub-query from 2019-05-25 to 2019-05-30\n",
      "Completed sub-query from 2019-05-31 to 2019-06-05\n",
      "Completed sub-query from 2019-06-06 to 2019-06-11\n",
      "Completed sub-query from 2019-06-12 to 2019-06-17\n",
      "Completed sub-query from 2019-06-18 to 2019-06-23\n",
      "Completed sub-query from 2019-06-24 to 2019-06-29\n",
      "Completed sub-query from 2019-06-30 to 2019-07-05\n",
      "Completed sub-query from 2019-07-06 to 2019-07-11\n",
      "Completed sub-query from 2019-07-12 to 2019-07-17\n",
      "Completed sub-query from 2019-07-18 to 2019-07-23\n",
      "Completed sub-query from 2019-07-24 to 2019-07-29\n",
      "Completed sub-query from 2019-07-30 to 2019-08-04\n",
      "Completed sub-query from 2019-08-05 to 2019-08-10\n",
      "Completed sub-query from 2019-08-11 to 2019-08-16\n",
      "Completed sub-query from 2019-08-17 to 2019-08-22\n",
      "Completed sub-query from 2019-08-23 to 2019-08-28\n",
      "Completed sub-query from 2019-08-29 to 2019-09-03\n",
      "Completed sub-query from 2019-09-04 to 2019-09-09\n",
      "Completed sub-query from 2019-09-10 to 2019-09-15\n",
      "Completed sub-query from 2019-09-16 to 2019-09-21\n",
      "Completed sub-query from 2019-09-22 to 2019-09-27\n",
      "Completed sub-query from 2019-09-28 to 2019-10-03\n",
      "Completed sub-query from 2019-10-04 to 2019-10-09\n",
      "Completed sub-query from 2019-10-10 to 2019-10-15\n",
      "Completed sub-query from 2019-10-16 to 2019-10-21\n",
      "Completed sub-query from 2019-10-22 to 2019-10-27\n",
      "Completed sub-query from 2019-10-28 to 2019-11-02\n",
      "Completed sub-query from 2019-11-03 to 2019-11-07\n"
     ]
    }
   ],
   "source": [
    "sc_2019 = statcast(start_dt='2019-03-20', end_dt='2019-11-07')"
   ]
  },
  {
   "cell_type": "code",
   "execution_count": 42,
   "metadata": {
    "ExecuteTime": {
     "end_time": "2021-03-01T01:03:48.892177Z",
     "start_time": "2021-03-01T01:02:49.171665Z"
    }
   },
   "outputs": [],
   "source": [
    "sc_2019.to_csv('./data/statcast_data/sc_2019.csv', index=False)"
   ]
  },
  {
   "cell_type": "markdown",
   "metadata": {},
   "source": [
    "## 2020 Data"
   ]
  },
  {
   "cell_type": "code",
   "execution_count": 27,
   "metadata": {
    "ExecuteTime": {
     "end_time": "2021-02-28T20:35:43.113794Z",
     "start_time": "2021-02-28T20:33:39.613347Z"
    }
   },
   "outputs": [
    {
     "name": "stdout",
     "output_type": "stream",
     "text": [
      "This is a large query, it may take a moment to complete\n",
      "Completed sub-query from 2020-07-23 to 2020-07-28\n",
      "Completed sub-query from 2020-07-29 to 2020-08-03\n",
      "Completed sub-query from 2020-08-04 to 2020-08-09\n",
      "Completed sub-query from 2020-08-10 to 2020-08-15\n",
      "Completed sub-query from 2020-08-16 to 2020-08-21\n",
      "Completed sub-query from 2020-08-22 to 2020-08-27\n",
      "Completed sub-query from 2020-08-28 to 2020-09-02\n",
      "Completed sub-query from 2020-09-03 to 2020-09-08\n",
      "Completed sub-query from 2020-09-09 to 2020-09-14\n",
      "Completed sub-query from 2020-09-15 to 2020-09-20\n",
      "Completed sub-query from 2020-09-21 to 2020-09-26\n",
      "Completed sub-query from 2020-09-27 to 2020-10-02\n",
      "Completed sub-query from 2020-10-03 to 2020-10-08\n",
      "Completed sub-query from 2020-10-09 to 2020-10-14\n",
      "Completed sub-query from 2020-10-15 to 2020-10-20\n",
      "Completed sub-query from 2020-10-21 to 2020-10-26\n",
      "Completed sub-query from 2020-10-27 to 2020-10-27\n"
     ]
    }
   ],
   "source": [
    "sc_2020 = statcast(start_dt='2020-07-23', end_dt='2020-10-27')"
   ]
  },
  {
   "cell_type": "code",
   "execution_count": 40,
   "metadata": {
    "ExecuteTime": {
     "end_time": "2021-03-01T01:02:49.103380Z",
     "start_time": "2021-03-01T01:02:26.429914Z"
    }
   },
   "outputs": [],
   "source": [
    "sc_2020.to_csv('./data/statcast_data/sc_2020.csv',index=False)"
   ]
  }
 ],
 "metadata": {
  "kernelspec": {
   "display_name": "Python 3",
   "language": "python",
   "name": "python3"
  },
  "language_info": {
   "codemirror_mode": {
    "name": "ipython",
    "version": 3
   },
   "file_extension": ".py",
   "mimetype": "text/x-python",
   "name": "python",
   "nbconvert_exporter": "python",
   "pygments_lexer": "ipython3",
   "version": "3.8.5"
  }
 },
 "nbformat": 4,
 "nbformat_minor": 4
}
