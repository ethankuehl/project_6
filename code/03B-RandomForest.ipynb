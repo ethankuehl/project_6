{
 "cells": [
  {
   "cell_type": "markdown",
   "metadata": {},
   "source": [
    "# Random Forest Classifier\n",
    "\n",
    "This notebook aims to assess whether an ensemble tree-based model will outperform logistic regression for either the binary or Multi-Class scenario. \n",
    "\n",
    "I ran these models on Google Cloud Instances and therefore do not have the output printing directly into this notebook. However, I have copied all of the information gleaned from my cloud models to demonstrate their performance."
   ]
  },
  {
   "cell_type": "code",
   "execution_count": 1,
   "metadata": {
    "ExecuteTime": {
     "end_time": "2021-03-17T21:13:02.911167Z",
     "start_time": "2021-03-17T21:12:59.356471Z"
    }
   },
   "outputs": [],
   "source": [
    "import pandas as pd\n",
    "import warnings\n",
    "\n",
    "import pandas as pd\n",
    "import numpy as np\n",
    "import matplotlib.pyplot as plt\n",
    "import seaborn as sns\n",
    "import boto3\n",
    "import random\n",
    "\n",
    "from sklearn.model_selection import train_test_split, GridSearchCV\n",
    "from sklearn.ensemble import GradientBoostingClassifier\n",
    "from sklearn.pipeline import Pipeline\n",
    "from sklearn.metrics import confusion_matrix\n",
    "from sklearn.metrics import roc_auc_score\n",
    "from sklearn.ensemble import RandomForestClassifier\n",
    "\n",
    "import sklearn.metrics as metrics"
   ]
  },
  {
   "cell_type": "code",
   "execution_count": 2,
   "metadata": {
    "ExecuteTime": {
     "end_time": "2021-03-17T21:13:02.923296Z",
     "start_time": "2021-03-17T21:13:02.913872Z"
    }
   },
   "outputs": [],
   "source": [
    "random.seed(16)"
   ]
  },
  {
   "cell_type": "markdown",
   "metadata": {},
   "source": [
    "## Defining multi-class and Binary Classification Metric Functions. "
   ]
  },
  {
   "cell_type": "code",
   "execution_count": 3,
   "metadata": {
    "ExecuteTime": {
     "end_time": "2021-03-17T21:13:02.952088Z",
     "start_time": "2021-03-17T21:13:02.927118Z"
    }
   },
   "outputs": [],
   "source": [
    "def plot_multiclass_roc(clf, X_test, y_test, n_classes, figsize=(17, 6)):\n",
    "    \n",
    "    y_score = clf.predict_proba(X_test)\n",
    "\n",
    "    # structures\n",
    "    fpr = dict()\n",
    "    tpr = dict()\n",
    "    #hpr = dict()\n",
    "    roc_auc = dict()\n",
    "\n",
    "    # calculate dummies once\n",
    "    y_test_dummies = pd.get_dummies(y_test, drop_first=False).values\n",
    "    y_test_columns = ['Fastball', 'Breaking Ball', 'Changeup']\n",
    "    \n",
    "    \n",
    "    for i in range(n_classes):\n",
    "        fpr[i], tpr[i], _ = metrics.roc_curve(y_test_dummies[:, i], y_score[:, i])\n",
    "        roc_auc[i] = metrics.auc(fpr[i], tpr[i])\n",
    "\n",
    "    # roc for each class\n",
    "    fig, ax = plt.subplots(figsize=figsize)\n",
    "    ax.plot([0, 1], [0, 1], 'k--')\n",
    "    ax.set_xlim([0.0, 1.0])\n",
    "    ax.set_ylim([0.0, 1.05])\n",
    "    ax.set_xlabel('False Positive Rate')\n",
    "    ax.set_ylabel('True Positive Rate')\n",
    "    ax.set_title('Receiver operating characteristic example')\n",
    "    for i in range(n_classes):\n",
    "        ax.plot(fpr[i], tpr[i], label='ROC curve (area = %0.2f) for %s' % (roc_auc[i], y_test_columns[i])) #% (roc_auc[i], i))\n",
    "    ax.legend(loc=\"best\")\n",
    "    ax.grid(alpha=.4)\n",
    "    sns.despine()\n",
    "    plt.show()\n",
    "\n",
    "def multiclass_classification_metrics(gs, X_test, y_test):\n",
    "    \n",
    "    y_hat = gs.predict(X_test)\n",
    "    \n",
    "    accuracy = metrics.accuracy_score(y_test, y_hat)\n",
    "\n",
    "    sensitivity =  metrics.recall_score(y_test, y_hat, average='macro')\n",
    "\n",
    "    precision = metrics.precision_score(y_test, y_hat, average='macro')\n",
    "\n",
    "    f1 = metrics.f1_score(y_test, y_hat, average='macro')\n",
    "    \n",
    "    \n",
    "    print('My accuracy is: ', round(accuracy,4))\n",
    "    print('My sensitivity is: ', round(sensitivity,4))\n",
    "    print('My precision is: ', round(precision,4))\n",
    "    print('My f1 score is: ', round(f1,4))\n",
    "    \n",
    "    metrics.plot_confusion_matrix(gs, X_test, y_test, cmap='Accent', \n",
    "                          values_format='d', display_labels=[ 'Change-up',\n",
    "                                                              'Breaking Ball', \n",
    "                                                             'Fastball']);\n",
    "    \n",
    "    plot_multiclass_roc(gs, X_test, y_test, 3, figsize=(17, 6))\n",
    "\n",
    "def binary_classification_metrics(gs, X_test, y_test):\n",
    "    \n",
    "    y_hat = gs.predict(X_test)\n",
    "    \n",
    "    accuracy = metrics.accuracy_score(y_test, y_hat)\n",
    "\n",
    "    sensitivity =  metrics.recall_score(y_test, y_hat)\n",
    "\n",
    "    precision = metrics.precision_score(y_test, y_hat)\n",
    "\n",
    "    f1 = metrics.f1_score(y_test, y_hat)\n",
    "    print('My accuracy is: ', round(accuracy,4))\n",
    "    print('My sensitivity is: ', round(sensitivity,4))\n",
    "    print('My precision is: ', round(precision,4))\n",
    "    print('My f1 score is: ', round(f1,4))\n",
    "    \n",
    "    cm = np.array([['True Negative', 'False Positive'],\n",
    "                            ['False Negative', 'True Positive']])\n",
    "\n",
    "    cm = pd.DataFrame(cm,columns = ['Pred Offspeed', 'Pred Fastball'], \n",
    "                      index = ['Actual Offspeed','Actual Fastball'])\n",
    "    \n",
    "    # Displaying sample confusion matrix\n",
    "    display(cm)\n",
    "\n",
    "    # Displaying actual confusion matrix \n",
    "    metrics.plot_confusion_matrix(gs, X_test, y_test, cmap='Accent', \n",
    "                          values_format='d', display_labels=['Offspeed Pitch', \n",
    "                                                             'Fastball Pitch']);\n",
    "    \n",
    "    metrics.plot_roc_curve(gs, X_test, y_test)\n",
    "    # add worst case scenario line\n",
    "    plt.plot([0, 1], [0, 1])\n",
    "    plt.title('ROC AUC Curve');\n",
    "    \n",
    "    return f'My ROC AUC score is: {metrics.roc_auc_score(y_test, y_hat)}'"
   ]
  },
  {
   "cell_type": "code",
   "execution_count": 4,
   "metadata": {
    "ExecuteTime": {
     "end_time": "2021-03-17T21:13:11.611623Z",
     "start_time": "2021-03-17T21:13:02.954665Z"
    }
   },
   "outputs": [],
   "source": [
    "# Specifying s3 as boto3 resource and connecting to bucket\n",
    "s3 = boto3.resource('s3')\n",
    "bucketname = 'baseballstats'\n",
    "\n",
    "# Name of files within the bucket\n",
    "binary_label = 'statcast_data/clean_2019_binary_label.csv'\n",
    "\n",
    "# multiclass 2019 DataFrame\n",
    "multiclass_label = 'statcast_data/clean_2019_3.csv'\n",
    "\n",
    "# Specifying location of files\n",
    "multiclass_obj = s3.Object(bucketname, multiclass_label)\n",
    "binary_obj = s3.Object(bucketname, binary_label)\n",
    "\n",
    "# Getting the body of the files\n",
    "multiclass = multiclass_obj.get()['Body']\n",
    "binary = binary_obj.get()['Body']\n",
    "\n",
    "# Reading the boto3 object into a csv\n",
    "\n",
    "# df is my default for binary labels\n",
    "df = pd.read_csv(multiclass)\n",
    "\n",
    "# df_3 is my default for \n",
    "binary_df = pd.read_csv(binary)"
   ]
  },
  {
   "cell_type": "code",
   "execution_count": 5,
   "metadata": {
    "ExecuteTime": {
     "end_time": "2021-03-17T21:13:11.650398Z",
     "start_time": "2021-03-17T21:13:11.614627Z"
    }
   },
   "outputs": [
    {
     "data": {
      "text/plain": [
       "3    0.584354\n",
       "2    0.286061\n",
       "1    0.129585\n",
       "Name: pitch, dtype: float64"
      ]
     },
     "execution_count": 5,
     "metadata": {},
     "output_type": "execute_result"
    }
   ],
   "source": [
    "df['pitch'].value_counts(normalize=True)"
   ]
  },
  {
   "cell_type": "code",
   "execution_count": 6,
   "metadata": {
    "ExecuteTime": {
     "end_time": "2021-03-17T21:13:11.665494Z",
     "start_time": "2021-03-17T21:13:11.654163Z"
    }
   },
   "outputs": [
    {
     "data": {
      "text/plain": [
       "1    0.584354\n",
       "0    0.415646\n",
       "Name: pitch, dtype: float64"
      ]
     },
     "execution_count": 6,
     "metadata": {},
     "output_type": "execute_result"
    }
   ],
   "source": [
    "binary_df['pitch'].value_counts(normalize=True)"
   ]
  },
  {
   "cell_type": "markdown",
   "metadata": {},
   "source": [
    "No need to dummy independent features because the random forest will find the best splits for a feature.\n",
    "Random forest is a tree-based model and therefore there is no need to standardize the independent variables. "
   ]
  },
  {
   "cell_type": "code",
   "execution_count": 7,
   "metadata": {
    "ExecuteTime": {
     "end_time": "2021-03-17T21:13:11.740195Z",
     "start_time": "2021-03-17T21:13:11.668991Z"
    }
   },
   "outputs": [],
   "source": [
    "X = df.drop(columns=['pitch'])\n",
    "y = df['pitch']"
   ]
  },
  {
   "cell_type": "code",
   "execution_count": 8,
   "metadata": {
    "ExecuteTime": {
     "end_time": "2021-03-17T21:13:11.772304Z",
     "start_time": "2021-03-17T21:13:11.743637Z"
    }
   },
   "outputs": [
    {
     "data": {
      "text/plain": [
       "3    0.584354\n",
       "2    0.286061\n",
       "1    0.129585\n",
       "Name: pitch, dtype: float64"
      ]
     },
     "execution_count": 8,
     "metadata": {},
     "output_type": "execute_result"
    }
   ],
   "source": [
    "y.value_counts(normalize=True)"
   ]
  },
  {
   "cell_type": "code",
   "execution_count": 9,
   "metadata": {
    "ExecuteTime": {
     "end_time": "2021-03-17T21:13:12.564506Z",
     "start_time": "2021-03-17T21:13:11.775330Z"
    }
   },
   "outputs": [],
   "source": [
    "X_train, X_test, y_train, y_test = train_test_split(X, y, test_size=0.25, \n",
    "                                                    random_state=16, stratify=y)"
   ]
  },
  {
   "cell_type": "markdown",
   "metadata": {},
   "source": [
    "## Pipeline and GridSearch Created"
   ]
  },
  {
   "cell_type": "code",
   "execution_count": 10,
   "metadata": {
    "ExecuteTime": {
     "end_time": "2021-03-17T21:13:12.579459Z",
     "start_time": "2021-03-17T21:13:12.566480Z"
    }
   },
   "outputs": [],
   "source": [
    "# Random Forest does not require standardization\n",
    "pipe = Pipeline([\n",
    "    ('rf', RandomForestClassifier(random_state=16))\n",
    "])"
   ]
  },
  {
   "cell_type": "markdown",
   "metadata": {},
   "source": [
    "Gridsearched over many parameters over the course of a week:\n",
    "\n",
    "params = {\n",
    "    'rf__n_estimators': [250, 300, 500],\n",
    "    'rf__max_depth': [10, 25, 50],\n",
    "    'rf__class_weight': ['balanced'],\n",
    "    'rf__min_samples_split': [2, 20, 40]\n",
    "    'rf__min_samples_split': [250, 500, 1000],\n",
    "    'rf__min_weight_fraction_leaf': [0.12],\n",
    "    'rf__max_features': [0.33, 0.5],\n",
    "    'rf__min_impurity_decrease': [0, 0.1],\n",
    "    'rf__ccp_alpha': [0.005, 0.05, 0.1],\n",
    "    'rf__max_samples': [None, 100_000, 250_000],\n",
    "    'rf__validation_fraction': [0.2]\n",
    "    'n_iter_no_change': [2, 10]\n",
    "}\n",
    "\n",
    "\n",
    "I found that parameters that reduced variance error also brought my accuracy far below the baseline. Therefore, I made the conscious decision to overfit my model in order to obtain the best accuracy score for a pitcher who relies on a fastball most of the time. My logistic regression was able to account for pitchers with a more even mix, so I wanted to have a model that best fit a fastball-reliant pitcher. \n"
   ]
  },
  {
   "cell_type": "code",
   "execution_count": 11,
   "metadata": {
    "ExecuteTime": {
     "end_time": "2021-03-17T21:13:14.138398Z",
     "start_time": "2021-03-17T21:13:14.135504Z"
    }
   },
   "outputs": [],
   "source": [
    "params = {\n",
    "    'rf__n_estimators': [300],\n",
    "    'rf__max_depth': [None],\n",
    "    'rf__class_weight': ['balanced'],\n",
    "    'rf__min_samples_split': [2],\n",
    "    'rf__min_samples_leaf': [1],\n",
    "    'rf__max_features': [0.33, 0.5],\n",
    "    'rf__max_samples': [None],\n",
    "}"
   ]
  },
  {
   "cell_type": "code",
   "execution_count": 12,
   "metadata": {
    "ExecuteTime": {
     "end_time": "2021-03-17T21:13:19.429007Z",
     "start_time": "2021-03-17T21:13:19.423013Z"
    }
   },
   "outputs": [],
   "source": [
    "grid = GridSearchCV(pipe, params, cv = 5,\n",
    "                    scoring = 'accuracy', verbose = 0, n_jobs=-1)\n",
    "\n",
    "grid.fit(X_train, y_train)"
   ]
  },
  {
   "cell_type": "code",
   "execution_count": 13,
   "metadata": {
    "ExecuteTime": {
     "end_time": "2021-03-17T21:13:27.590836Z",
     "start_time": "2021-03-17T21:13:27.586396Z"
    }
   },
   "outputs": [],
   "source": [
    "grid.score(X_train, y_train)\n",
    "# Accuracy score: 0.9998033099336794"
   ]
  },
  {
   "cell_type": "markdown",
   "metadata": {},
   "source": [
    "![figure-1](../files/rf-mc-accuracy-precision.png)"
   ]
  },
  {
   "cell_type": "markdown",
   "metadata": {},
   "source": [
    "![figure-1](../files/download-4.png)"
   ]
  },
  {
   "cell_type": "markdown",
   "metadata": {},
   "source": [
    "![figure-1](../files/download-5.png)"
   ]
  },
  {
   "cell_type": "markdown",
   "metadata": {},
   "source": [
    "## Analysis \n",
    "\n",
    "Even though it is overfit, the random forest is still outperforming the multiclass logistic regression. I would not suggest using this model in production however due to the low accuracy and tendency to overpredict fastballs in relation to the other two classes. \n",
    "\n",
    "However, it is necessary to figure out how to balance the classes in order to get a more realistic prediction of each class. "
   ]
  },
  {
   "cell_type": "markdown",
   "metadata": {},
   "source": [
    "### Binary Classification "
   ]
  },
  {
   "cell_type": "code",
   "execution_count": 14,
   "metadata": {
    "ExecuteTime": {
     "end_time": "2021-03-17T21:13:37.764031Z",
     "start_time": "2021-03-17T21:13:37.696496Z"
    }
   },
   "outputs": [
    {
     "data": {
      "text/html": [
       "<div>\n",
       "<style scoped>\n",
       "    .dataframe tbody tr th:only-of-type {\n",
       "        vertical-align: middle;\n",
       "    }\n",
       "\n",
       "    .dataframe tbody tr th {\n",
       "        vertical-align: top;\n",
       "    }\n",
       "\n",
       "    .dataframe thead th {\n",
       "        text-align: right;\n",
       "    }\n",
       "</style>\n",
       "<table border=\"1\" class=\"dataframe\">\n",
       "  <thead>\n",
       "    <tr style=\"text-align: right;\">\n",
       "      <th></th>\n",
       "      <th>balls</th>\n",
       "      <th>strikes</th>\n",
       "      <th>on_1b</th>\n",
       "      <th>outs_when_up</th>\n",
       "      <th>inning</th>\n",
       "      <th>pitch</th>\n",
       "      <th>offspeed_in_sequence</th>\n",
       "      <th>fastball_in_sequence</th>\n",
       "      <th>proportion_of_fastballs_thrown_2018</th>\n",
       "      <th>previous_pitch</th>\n",
       "      <th>...</th>\n",
       "      <th>if_fielding_alignment_Standard</th>\n",
       "      <th>of_fielding_alignment_4th outfielder</th>\n",
       "      <th>of_fielding_alignment_Standard</th>\n",
       "      <th>risp</th>\n",
       "      <th>run_diff</th>\n",
       "      <th>inning_topbot_Top</th>\n",
       "      <th>previous_type_B</th>\n",
       "      <th>previous_type_S</th>\n",
       "      <th>hitter_woba_2018</th>\n",
       "      <th>average_hitter_launch_speed_2018</th>\n",
       "    </tr>\n",
       "  </thead>\n",
       "  <tbody>\n",
       "    <tr>\n",
       "      <th>0</th>\n",
       "      <td>3.0</td>\n",
       "      <td>2.0</td>\n",
       "      <td>0.0</td>\n",
       "      <td>2.0</td>\n",
       "      <td>9.0</td>\n",
       "      <td>0</td>\n",
       "      <td>1</td>\n",
       "      <td>5</td>\n",
       "      <td>0.558863</td>\n",
       "      <td>1</td>\n",
       "      <td>...</td>\n",
       "      <td>0</td>\n",
       "      <td>0</td>\n",
       "      <td>1</td>\n",
       "      <td>0</td>\n",
       "      <td>4.0</td>\n",
       "      <td>0</td>\n",
       "      <td>0</td>\n",
       "      <td>1</td>\n",
       "      <td>0.366304</td>\n",
       "      <td>90.160819</td>\n",
       "    </tr>\n",
       "    <tr>\n",
       "      <th>1</th>\n",
       "      <td>3.0</td>\n",
       "      <td>2.0</td>\n",
       "      <td>0.0</td>\n",
       "      <td>2.0</td>\n",
       "      <td>9.0</td>\n",
       "      <td>1</td>\n",
       "      <td>1</td>\n",
       "      <td>4</td>\n",
       "      <td>0.558863</td>\n",
       "      <td>1</td>\n",
       "      <td>...</td>\n",
       "      <td>0</td>\n",
       "      <td>0</td>\n",
       "      <td>1</td>\n",
       "      <td>0</td>\n",
       "      <td>4.0</td>\n",
       "      <td>0</td>\n",
       "      <td>1</td>\n",
       "      <td>0</td>\n",
       "      <td>0.366304</td>\n",
       "      <td>90.160819</td>\n",
       "    </tr>\n",
       "    <tr>\n",
       "      <th>2</th>\n",
       "      <td>2.0</td>\n",
       "      <td>2.0</td>\n",
       "      <td>0.0</td>\n",
       "      <td>2.0</td>\n",
       "      <td>9.0</td>\n",
       "      <td>1</td>\n",
       "      <td>1</td>\n",
       "      <td>3</td>\n",
       "      <td>0.558863</td>\n",
       "      <td>1</td>\n",
       "      <td>...</td>\n",
       "      <td>0</td>\n",
       "      <td>0</td>\n",
       "      <td>1</td>\n",
       "      <td>0</td>\n",
       "      <td>4.0</td>\n",
       "      <td>0</td>\n",
       "      <td>0</td>\n",
       "      <td>1</td>\n",
       "      <td>0.366304</td>\n",
       "      <td>90.160819</td>\n",
       "    </tr>\n",
       "    <tr>\n",
       "      <th>3</th>\n",
       "      <td>2.0</td>\n",
       "      <td>1.0</td>\n",
       "      <td>0.0</td>\n",
       "      <td>2.0</td>\n",
       "      <td>9.0</td>\n",
       "      <td>1</td>\n",
       "      <td>1</td>\n",
       "      <td>2</td>\n",
       "      <td>0.558863</td>\n",
       "      <td>0</td>\n",
       "      <td>...</td>\n",
       "      <td>0</td>\n",
       "      <td>0</td>\n",
       "      <td>1</td>\n",
       "      <td>0</td>\n",
       "      <td>4.0</td>\n",
       "      <td>0</td>\n",
       "      <td>1</td>\n",
       "      <td>0</td>\n",
       "      <td>0.366304</td>\n",
       "      <td>90.160819</td>\n",
       "    </tr>\n",
       "    <tr>\n",
       "      <th>4</th>\n",
       "      <td>1.0</td>\n",
       "      <td>1.0</td>\n",
       "      <td>0.0</td>\n",
       "      <td>2.0</td>\n",
       "      <td>9.0</td>\n",
       "      <td>0</td>\n",
       "      <td>0</td>\n",
       "      <td>2</td>\n",
       "      <td>0.558863</td>\n",
       "      <td>1</td>\n",
       "      <td>...</td>\n",
       "      <td>0</td>\n",
       "      <td>0</td>\n",
       "      <td>1</td>\n",
       "      <td>0</td>\n",
       "      <td>4.0</td>\n",
       "      <td>0</td>\n",
       "      <td>0</td>\n",
       "      <td>1</td>\n",
       "      <td>0.366304</td>\n",
       "      <td>90.160819</td>\n",
       "    </tr>\n",
       "  </tbody>\n",
       "</table>\n",
       "<p>5 rows × 24 columns</p>\n",
       "</div>"
      ],
      "text/plain": [
       "   balls  strikes  on_1b  outs_when_up  inning  pitch  offspeed_in_sequence  \\\n",
       "0    3.0      2.0    0.0           2.0     9.0      0                     1   \n",
       "1    3.0      2.0    0.0           2.0     9.0      1                     1   \n",
       "2    2.0      2.0    0.0           2.0     9.0      1                     1   \n",
       "3    2.0      1.0    0.0           2.0     9.0      1                     1   \n",
       "4    1.0      1.0    0.0           2.0     9.0      0                     0   \n",
       "\n",
       "   fastball_in_sequence  proportion_of_fastballs_thrown_2018  previous_pitch  \\\n",
       "0                     5                             0.558863               1   \n",
       "1                     4                             0.558863               1   \n",
       "2                     3                             0.558863               1   \n",
       "3                     2                             0.558863               0   \n",
       "4                     2                             0.558863               1   \n",
       "\n",
       "   ...  if_fielding_alignment_Standard  of_fielding_alignment_4th outfielder  \\\n",
       "0  ...                               0                                     0   \n",
       "1  ...                               0                                     0   \n",
       "2  ...                               0                                     0   \n",
       "3  ...                               0                                     0   \n",
       "4  ...                               0                                     0   \n",
       "\n",
       "   of_fielding_alignment_Standard  risp  run_diff  inning_topbot_Top  \\\n",
       "0                               1     0       4.0                  0   \n",
       "1                               1     0       4.0                  0   \n",
       "2                               1     0       4.0                  0   \n",
       "3                               1     0       4.0                  0   \n",
       "4                               1     0       4.0                  0   \n",
       "\n",
       "   previous_type_B  previous_type_S  hitter_woba_2018  \\\n",
       "0                0                1          0.366304   \n",
       "1                1                0          0.366304   \n",
       "2                0                1          0.366304   \n",
       "3                1                0          0.366304   \n",
       "4                0                1          0.366304   \n",
       "\n",
       "   average_hitter_launch_speed_2018  \n",
       "0                         90.160819  \n",
       "1                         90.160819  \n",
       "2                         90.160819  \n",
       "3                         90.160819  \n",
       "4                         90.160819  \n",
       "\n",
       "[5 rows x 24 columns]"
      ]
     },
     "execution_count": 14,
     "metadata": {},
     "output_type": "execute_result"
    }
   ],
   "source": [
    "binary_df.head()"
   ]
  },
  {
   "cell_type": "code",
   "execution_count": 15,
   "metadata": {
    "ExecuteTime": {
     "end_time": "2021-03-17T21:13:38.025625Z",
     "start_time": "2021-03-17T21:13:37.963087Z"
    }
   },
   "outputs": [],
   "source": [
    "X_2 = binary_df.drop(columns=['pitch'])\n",
    "y_2 = binary_df['pitch']"
   ]
  },
  {
   "cell_type": "code",
   "execution_count": 16,
   "metadata": {
    "ExecuteTime": {
     "end_time": "2021-03-17T21:13:41.991728Z",
     "start_time": "2021-03-17T21:13:41.656595Z"
    }
   },
   "outputs": [],
   "source": [
    "X_train_2, X_test_2, y_train_2, y_test_2 = train_test_split(X_2, y_2, test_size=0.25, \n",
    "                                                    random_state=16, stratify=y)"
   ]
  },
  {
   "cell_type": "code",
   "execution_count": 17,
   "metadata": {
    "ExecuteTime": {
     "end_time": "2021-03-17T21:13:45.606097Z",
     "start_time": "2021-03-17T21:13:45.602190Z"
    }
   },
   "outputs": [],
   "source": [
    "grid_2 = GridSearchCV(pipe, params, cv = 5,\n",
    "                    scoring = 'accuracy', verbose = 1, n_jobs = -1)\n",
    "\n",
    "grid_2.fit(X_train_2, y_train_2)"
   ]
  },
  {
   "cell_type": "code",
   "execution_count": 18,
   "metadata": {
    "ExecuteTime": {
     "end_time": "2021-03-17T21:13:48.283116Z",
     "start_time": "2021-03-17T21:13:48.276426Z"
    }
   },
   "outputs": [],
   "source": [
    "grid_2.score(X_train_2, y_train_2)\n",
    "# score 0.9998088504989279"
   ]
  },
  {
   "cell_type": "code",
   "execution_count": 19,
   "metadata": {
    "ExecuteTime": {
     "end_time": "2021-03-17T21:13:54.019792Z",
     "start_time": "2021-03-17T21:13:54.016769Z"
    }
   },
   "outputs": [],
   "source": [
    "binary_classification_metrics(grid_2, X_test_2, y_test_2)"
   ]
  },
  {
   "cell_type": "markdown",
   "metadata": {},
   "source": [
    "![figure-1](../files/rf-binary.png)"
   ]
  },
  {
   "cell_type": "markdown",
   "metadata": {},
   "source": [
    "![figure-1](../files/download-9.png)"
   ]
  },
  {
   "cell_type": "markdown",
   "metadata": {},
   "source": [
    "![figure-1](../files/download-10.png)"
   ]
  },
  {
   "cell_type": "markdown",
   "metadata": {},
   "source": [
    "My random forest has an accuracy higher than the baseline. If we are looking to utilize the most accurate model, this would be the model to choose. \n",
    "\n",
    "For a fastball-reliant pitcher this model is the best for the binary label predictor. It has both the highest accuracy score while not leading to as many false positives as some of the logistic regression models."
   ]
  }
 ],
 "metadata": {
  "kernelspec": {
   "display_name": "Python 3",
   "language": "python",
   "name": "python3"
  },
  "language_info": {
   "codemirror_mode": {
    "name": "ipython",
    "version": 3
   },
   "file_extension": ".py",
   "mimetype": "text/x-python",
   "name": "python",
   "nbconvert_exporter": "python",
   "pygments_lexer": "ipython3",
   "version": "3.8.5"
  }
 },
 "nbformat": 4,
 "nbformat_minor": 4
}
