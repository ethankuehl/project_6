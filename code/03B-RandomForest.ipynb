{
 "cells": [
  {
   "cell_type": "code",
   "execution_count": 5,
   "metadata": {
    "ExecuteTime": {
     "end_time": "2021-03-17T17:57:36.713425Z",
     "start_time": "2021-03-17T17:57:36.704857Z"
    }
   },
   "outputs": [],
   "source": [
    "import pandas as pd\n",
    "import warnings\n",
    "\n",
    "import pandas as pd\n",
    "import numpy as np\n",
    "import matplotlib.pyplot as plt\n",
    "import seaborn as sns\n",
    "import boto3\n",
    "import random\n",
    "\n",
    "from sklearn.model_selection import train_test_split, GridSearchCV\n",
    "from sklearn.ensemble import GradientBoostingClassifier\n",
    "from sklearn.pipeline import Pipeline\n",
    "from sklearn.metrics import confusion_matrix\n",
    "from sklearn.metrics import roc_auc_score\n",
    "from sklearn.ensemble import RandomForestClassifier\n",
    "\n",
    "import sklearn.metrics as metrics"
   ]
  },
  {
   "cell_type": "code",
   "execution_count": 6,
   "metadata": {
    "ExecuteTime": {
     "end_time": "2021-03-17T17:57:37.556036Z",
     "start_time": "2021-03-17T17:57:37.553391Z"
    }
   },
   "outputs": [],
   "source": [
    "random.seed(16)"
   ]
  },
  {
   "cell_type": "code",
   "execution_count": 7,
   "metadata": {
    "ExecuteTime": {
     "end_time": "2021-03-17T17:57:40.031685Z",
     "start_time": "2021-03-17T17:57:40.010885Z"
    }
   },
   "outputs": [],
   "source": [
    "def plot_multiclass_roc(clf, X_test, y_test, n_classes, figsize=(17, 6)):\n",
    "    \n",
    "    y_score = clf.predict_proba(X_test)\n",
    "\n",
    "    # structures\n",
    "    fpr = dict()\n",
    "    tpr = dict()\n",
    "    #hpr = dict()\n",
    "    roc_auc = dict()\n",
    "\n",
    "    # calculate dummies once\n",
    "    y_test_dummies = pd.get_dummies(y_test, drop_first=False).values\n",
    "    y_test_columns = ['Fastball', 'Breaking Ball', 'Changeup']\n",
    "    \n",
    "    \n",
    "    for i in range(n_classes):\n",
    "        fpr[i], tpr[i], _ = metrics.roc_curve(y_test_dummies[:, i], y_score[:, i])\n",
    "        roc_auc[i] = metrics.auc(fpr[i], tpr[i])\n",
    "\n",
    "    # roc for each class\n",
    "    fig, ax = plt.subplots(figsize=figsize)\n",
    "    ax.plot([0, 1], [0, 1], 'k--')\n",
    "    ax.set_xlim([0.0, 1.0])\n",
    "    ax.set_ylim([0.0, 1.05])\n",
    "    ax.set_xlabel('False Positive Rate')\n",
    "    ax.set_ylabel('True Positive Rate')\n",
    "    ax.set_title('Receiver operating characteristic example')\n",
    "    for i in range(n_classes):\n",
    "        ax.plot(fpr[i], tpr[i], label='ROC curve (area = %0.2f) for %s' % (roc_auc[i], y_test_columns[i])) #% (roc_auc[i], i))\n",
    "    ax.legend(loc=\"best\")\n",
    "    ax.grid(alpha=.4)\n",
    "    sns.despine()\n",
    "    plt.show()\n",
    "\n",
    "def multiclass_classification_metrics(gs, X_test, y_test):\n",
    "    \n",
    "    y_hat = gs.predict(X_test)\n",
    "    accuracy = metrics.accuracy_score(y_test, y_hat)\n",
    "\n",
    "    #specificity = true negative/(true neagtive +false positive)\n",
    "    specificity = 1984/(1984+21) \n",
    "\n",
    "    sensitivity =  metrics.recall_score(y_test, y_hat, average='macro')\n",
    "\n",
    "    precision = metrics.precision_score(y_test, y_hat, average='macro')\n",
    "\n",
    "    f1 = metrics.f1_score(y_test, y_hat, average='macro')\n",
    "    \n",
    "    \n",
    "    print('My accuracy is: ', round(accuracy,4))\n",
    "    print('My specificity is: ', round(specificity, 4))\n",
    "    print('My sensitivity is: ', round(sensitivity,4))\n",
    "    print('My precision is: ', round(precision,4))\n",
    "    print('My f1 score is: ', round(precision,4))\n",
    "    \n",
    "#     cm = np.array([['True Negative', 'False Positive'],\n",
    "#                             ['False Negative', 'True Positive']])\n",
    "\n",
    "#     cm = pd.DataFrame(cm,columns = ['Pred Offspeed', 'Pred Fastball'], \n",
    "#                       index = ['Actual Offspeed','Actual Fastball'])\n",
    "    \n",
    "    # Displaying sample confusion matrix\n",
    "#     display(cm)\n",
    "\n",
    "    # Displaying actual confusion matrix \n",
    "    metrics.plot_confusion_matrix(gs, X_test, y_test, cmap='Accent', \n",
    "                          values_format='d', display_labels=[ 'Change-up',\n",
    "                                                              'Breaking Ball', \n",
    "                                                             'Fastball']);\n",
    "    \n",
    "    plot_multiclass_roc(gs, X_test, y_test, 3, figsize=(17, 6))\n",
    "\n",
    "def binary_classification_metrics(gs, X_test, y_test):\n",
    "    \n",
    "    y_hat = gs.predict(X_test)\n",
    "    accuracy = metrics.accuracy_score(y_test, y_hat)\n",
    "\n",
    "    #specificity = true negative/(true neagtive +false positive)\n",
    "    specificity = 1984/(1984+21) \n",
    "\n",
    "    sensitivity =  metrics.recall_score(y_test, y_hat)\n",
    "\n",
    "    precision = metrics.precision_score(y_test, y_hat)\n",
    "\n",
    "    f1 = metrics.f1_score(y_test, y_hat)\n",
    "    print('My accuracy is: ', round(accuracy,4))\n",
    "    print('My specificity is: ', round(specificity, 4))\n",
    "    print('My sensitivity is: ', round(sensitivity,4))\n",
    "    print('My precision is: ', round(precision,4))\n",
    "    print('My f1 score is: ', round(precision,4))\n",
    "    \n",
    "    cm = np.array([['True Negative', 'False Positive'],\n",
    "                            ['False Negative', 'True Positive']])\n",
    "\n",
    "    cm = pd.DataFrame(cm,columns = ['Pred Offspeed', 'Pred Fastball'], \n",
    "                      index = ['Actual Offspeed','Actual Fastball'])\n",
    "    \n",
    "    # Displaying sample confusion matrix\n",
    "    display(cm)\n",
    "\n",
    "    # Displaying actual confusion matrix \n",
    "    metrics.plot_confusion_matrix(gs, X_test, y_test, cmap='Accent', \n",
    "                          values_format='d', display_labels=['Offspeed Pitch', \n",
    "                                                             'Fastball Pitch']);\n",
    "    \n",
    "    metrics.plot_roc_curve(gs, X_test, y_test)\n",
    "    # add worst case scenario line\n",
    "    plt.plot([0, 1], [0, 1])\n",
    "    plt.title('ROC AUC Curve');\n",
    "    \n",
    "    return f'My ROC AUC score is: {metrics.roc_auc_score(y_test, y_hat)}'"
   ]
  },
  {
   "cell_type": "code",
   "execution_count": 8,
   "metadata": {
    "ExecuteTime": {
     "end_time": "2021-03-17T17:57:47.620615Z",
     "start_time": "2021-03-17T17:57:40.881561Z"
    }
   },
   "outputs": [],
   "source": [
    "# Specifying s3 as boto3 resource and connecting to bucket\n",
    "s3 = boto3.resource('s3')\n",
    "bucketname = 'baseballstats'\n",
    "\n",
    "# Name of files within the bucket\n",
    "binary_label = 'statcast_data/clean_2019_binary_label.csv'\n",
    "\n",
    "# multiclass 2019 DataFrame\n",
    "multiclass_label = 'statcast_data/clean_2019_3.csv'\n",
    "\n",
    "# Specifying location of files\n",
    "multiclass_obj = s3.Object(bucketname, multiclass_label)\n",
    "binary_obj = s3.Object(bucketname, binary_label)\n",
    "\n",
    "# Getting the body of the files\n",
    "multiclass = multiclass_obj.get()['Body']\n",
    "binary = binary_obj.get()['Body']\n",
    "\n",
    "# Reading the boto3 object into a csv\n",
    "\n",
    "# df is my default for binary labels\n",
    "df = pd.read_csv(multiclass)\n",
    "\n",
    "# df_3 is my default for \n",
    "binary_df = pd.read_csv(binary)"
   ]
  },
  {
   "cell_type": "code",
   "execution_count": 9,
   "metadata": {
    "ExecuteTime": {
     "end_time": "2021-03-17T17:57:47.655940Z",
     "start_time": "2021-03-17T17:57:47.622999Z"
    }
   },
   "outputs": [
    {
     "data": {
      "text/plain": [
       "3    0.584354\n",
       "2    0.286061\n",
       "1    0.129585\n",
       "Name: pitch, dtype: float64"
      ]
     },
     "execution_count": 9,
     "metadata": {},
     "output_type": "execute_result"
    }
   ],
   "source": [
    "df['pitch'].value_counts(normalize=True)"
   ]
  },
  {
   "cell_type": "code",
   "execution_count": 11,
   "metadata": {
    "ExecuteTime": {
     "end_time": "2021-03-17T17:57:56.363611Z",
     "start_time": "2021-03-17T17:57:56.331345Z"
    }
   },
   "outputs": [
    {
     "data": {
      "text/plain": [
       "1    0.584354\n",
       "0    0.415646\n",
       "Name: pitch, dtype: float64"
      ]
     },
     "execution_count": 11,
     "metadata": {},
     "output_type": "execute_result"
    }
   ],
   "source": [
    "binary_df['pitch'].value_counts(normalize=True)"
   ]
  },
  {
   "cell_type": "markdown",
   "metadata": {},
   "source": [
    "No need to dummy independent features because the random forest will find the best splits for a feature.\n",
    "Random forest is a tree-based model and therefore there is no need to standardize the independent variables. "
   ]
  },
  {
   "cell_type": "code",
   "execution_count": null,
   "metadata": {},
   "outputs": [],
   "source": [
    "X = df.drop(columns=['pitch'])\n",
    "y = df['pitch']"
   ]
  },
  {
   "cell_type": "code",
   "execution_count": 4,
   "metadata": {
    "ExecuteTime": {
     "end_time": "2021-03-13T15:50:09.442004Z",
     "start_time": "2021-03-13T15:50:09.209654Z"
    }
   },
   "outputs": [
    {
     "data": {
      "text/html": [
       "<div>\n",
       "<style scoped>\n",
       "    .dataframe tbody tr th:only-of-type {\n",
       "        vertical-align: middle;\n",
       "    }\n",
       "\n",
       "    .dataframe tbody tr th {\n",
       "        vertical-align: top;\n",
       "    }\n",
       "\n",
       "    .dataframe thead th {\n",
       "        text-align: right;\n",
       "    }\n",
       "</style>\n",
       "<table border=\"1\" class=\"dataframe\">\n",
       "  <thead>\n",
       "    <tr style=\"text-align: right;\">\n",
       "      <th></th>\n",
       "      <th>Unnamed: 0</th>\n",
       "      <th>balls</th>\n",
       "      <th>strikes</th>\n",
       "      <th>on_1b</th>\n",
       "      <th>outs_when_up</th>\n",
       "      <th>inning</th>\n",
       "      <th>pitch</th>\n",
       "      <th>1</th>\n",
       "      <th>2</th>\n",
       "      <th>3</th>\n",
       "      <th>...</th>\n",
       "      <th>of_fielding_alignment_4th outfielder</th>\n",
       "      <th>of_fielding_alignment_Standard</th>\n",
       "      <th>Starting_Pitcher</th>\n",
       "      <th>risp</th>\n",
       "      <th>run_diff</th>\n",
       "      <th>inning_topbot_Top</th>\n",
       "      <th>previous_type_B</th>\n",
       "      <th>previous_type_S</th>\n",
       "      <th>woba_value_y</th>\n",
       "      <th>launch_speed</th>\n",
       "    </tr>\n",
       "  </thead>\n",
       "  <tbody>\n",
       "    <tr>\n",
       "      <th>0</th>\n",
       "      <td>0</td>\n",
       "      <td>3.0</td>\n",
       "      <td>2.0</td>\n",
       "      <td>0.0</td>\n",
       "      <td>2.0</td>\n",
       "      <td>9.0</td>\n",
       "      <td>2</td>\n",
       "      <td>0</td>\n",
       "      <td>1</td>\n",
       "      <td>5</td>\n",
       "      <td>...</td>\n",
       "      <td>0</td>\n",
       "      <td>1</td>\n",
       "      <td>0</td>\n",
       "      <td>0</td>\n",
       "      <td>4.0</td>\n",
       "      <td>0</td>\n",
       "      <td>0</td>\n",
       "      <td>1</td>\n",
       "      <td>0.366304</td>\n",
       "      <td>90.160819</td>\n",
       "    </tr>\n",
       "    <tr>\n",
       "      <th>1</th>\n",
       "      <td>1</td>\n",
       "      <td>3.0</td>\n",
       "      <td>2.0</td>\n",
       "      <td>0.0</td>\n",
       "      <td>2.0</td>\n",
       "      <td>9.0</td>\n",
       "      <td>3</td>\n",
       "      <td>0</td>\n",
       "      <td>1</td>\n",
       "      <td>4</td>\n",
       "      <td>...</td>\n",
       "      <td>0</td>\n",
       "      <td>1</td>\n",
       "      <td>0</td>\n",
       "      <td>0</td>\n",
       "      <td>4.0</td>\n",
       "      <td>0</td>\n",
       "      <td>1</td>\n",
       "      <td>0</td>\n",
       "      <td>0.366304</td>\n",
       "      <td>90.160819</td>\n",
       "    </tr>\n",
       "    <tr>\n",
       "      <th>2</th>\n",
       "      <td>2</td>\n",
       "      <td>2.0</td>\n",
       "      <td>2.0</td>\n",
       "      <td>0.0</td>\n",
       "      <td>2.0</td>\n",
       "      <td>9.0</td>\n",
       "      <td>3</td>\n",
       "      <td>0</td>\n",
       "      <td>1</td>\n",
       "      <td>3</td>\n",
       "      <td>...</td>\n",
       "      <td>0</td>\n",
       "      <td>1</td>\n",
       "      <td>0</td>\n",
       "      <td>0</td>\n",
       "      <td>4.0</td>\n",
       "      <td>0</td>\n",
       "      <td>0</td>\n",
       "      <td>1</td>\n",
       "      <td>0.366304</td>\n",
       "      <td>90.160819</td>\n",
       "    </tr>\n",
       "    <tr>\n",
       "      <th>3</th>\n",
       "      <td>3</td>\n",
       "      <td>2.0</td>\n",
       "      <td>1.0</td>\n",
       "      <td>0.0</td>\n",
       "      <td>2.0</td>\n",
       "      <td>9.0</td>\n",
       "      <td>3</td>\n",
       "      <td>0</td>\n",
       "      <td>1</td>\n",
       "      <td>2</td>\n",
       "      <td>...</td>\n",
       "      <td>0</td>\n",
       "      <td>1</td>\n",
       "      <td>0</td>\n",
       "      <td>0</td>\n",
       "      <td>4.0</td>\n",
       "      <td>0</td>\n",
       "      <td>1</td>\n",
       "      <td>0</td>\n",
       "      <td>0.366304</td>\n",
       "      <td>90.160819</td>\n",
       "    </tr>\n",
       "    <tr>\n",
       "      <th>4</th>\n",
       "      <td>4</td>\n",
       "      <td>1.0</td>\n",
       "      <td>1.0</td>\n",
       "      <td>0.0</td>\n",
       "      <td>2.0</td>\n",
       "      <td>9.0</td>\n",
       "      <td>2</td>\n",
       "      <td>0</td>\n",
       "      <td>0</td>\n",
       "      <td>2</td>\n",
       "      <td>...</td>\n",
       "      <td>0</td>\n",
       "      <td>1</td>\n",
       "      <td>0</td>\n",
       "      <td>0</td>\n",
       "      <td>4.0</td>\n",
       "      <td>0</td>\n",
       "      <td>0</td>\n",
       "      <td>1</td>\n",
       "      <td>0.366304</td>\n",
       "      <td>90.160819</td>\n",
       "    </tr>\n",
       "    <tr>\n",
       "      <th>...</th>\n",
       "      <td>...</td>\n",
       "      <td>...</td>\n",
       "      <td>...</td>\n",
       "      <td>...</td>\n",
       "      <td>...</td>\n",
       "      <td>...</td>\n",
       "      <td>...</td>\n",
       "      <td>...</td>\n",
       "      <td>...</td>\n",
       "      <td>...</td>\n",
       "      <td>...</td>\n",
       "      <td>...</td>\n",
       "      <td>...</td>\n",
       "      <td>...</td>\n",
       "      <td>...</td>\n",
       "      <td>...</td>\n",
       "      <td>...</td>\n",
       "      <td>...</td>\n",
       "      <td>...</td>\n",
       "      <td>...</td>\n",
       "      <td>...</td>\n",
       "    </tr>\n",
       "    <tr>\n",
       "      <th>484312</th>\n",
       "      <td>484312</td>\n",
       "      <td>0.0</td>\n",
       "      <td>0.0</td>\n",
       "      <td>0.0</td>\n",
       "      <td>2.0</td>\n",
       "      <td>5.0</td>\n",
       "      <td>3</td>\n",
       "      <td>0</td>\n",
       "      <td>0</td>\n",
       "      <td>0</td>\n",
       "      <td>...</td>\n",
       "      <td>0</td>\n",
       "      <td>1</td>\n",
       "      <td>0</td>\n",
       "      <td>0</td>\n",
       "      <td>3.0</td>\n",
       "      <td>1</td>\n",
       "      <td>0</td>\n",
       "      <td>0</td>\n",
       "      <td>0.266270</td>\n",
       "      <td>88.245098</td>\n",
       "    </tr>\n",
       "    <tr>\n",
       "      <th>484313</th>\n",
       "      <td>484313</td>\n",
       "      <td>1.0</td>\n",
       "      <td>0.0</td>\n",
       "      <td>1.0</td>\n",
       "      <td>1.0</td>\n",
       "      <td>4.0</td>\n",
       "      <td>3</td>\n",
       "      <td>1</td>\n",
       "      <td>0</td>\n",
       "      <td>0</td>\n",
       "      <td>...</td>\n",
       "      <td>0</td>\n",
       "      <td>1</td>\n",
       "      <td>0</td>\n",
       "      <td>0</td>\n",
       "      <td>-2.0</td>\n",
       "      <td>1</td>\n",
       "      <td>1</td>\n",
       "      <td>0</td>\n",
       "      <td>0.257237</td>\n",
       "      <td>86.421008</td>\n",
       "    </tr>\n",
       "    <tr>\n",
       "      <th>484314</th>\n",
       "      <td>484314</td>\n",
       "      <td>0.0</td>\n",
       "      <td>0.0</td>\n",
       "      <td>1.0</td>\n",
       "      <td>1.0</td>\n",
       "      <td>4.0</td>\n",
       "      <td>1</td>\n",
       "      <td>0</td>\n",
       "      <td>0</td>\n",
       "      <td>0</td>\n",
       "      <td>...</td>\n",
       "      <td>0</td>\n",
       "      <td>1</td>\n",
       "      <td>0</td>\n",
       "      <td>0</td>\n",
       "      <td>-2.0</td>\n",
       "      <td>1</td>\n",
       "      <td>0</td>\n",
       "      <td>0</td>\n",
       "      <td>0.257237</td>\n",
       "      <td>86.421008</td>\n",
       "    </tr>\n",
       "    <tr>\n",
       "      <th>484315</th>\n",
       "      <td>484315</td>\n",
       "      <td>0.0</td>\n",
       "      <td>1.0</td>\n",
       "      <td>1.0</td>\n",
       "      <td>0.0</td>\n",
       "      <td>2.0</td>\n",
       "      <td>1</td>\n",
       "      <td>0</td>\n",
       "      <td>0</td>\n",
       "      <td>1</td>\n",
       "      <td>...</td>\n",
       "      <td>0</td>\n",
       "      <td>1</td>\n",
       "      <td>0</td>\n",
       "      <td>1</td>\n",
       "      <td>0.0</td>\n",
       "      <td>1</td>\n",
       "      <td>0</td>\n",
       "      <td>1</td>\n",
       "      <td>0.257237</td>\n",
       "      <td>86.421008</td>\n",
       "    </tr>\n",
       "    <tr>\n",
       "      <th>484316</th>\n",
       "      <td>484316</td>\n",
       "      <td>0.0</td>\n",
       "      <td>0.0</td>\n",
       "      <td>1.0</td>\n",
       "      <td>0.0</td>\n",
       "      <td>2.0</td>\n",
       "      <td>3</td>\n",
       "      <td>0</td>\n",
       "      <td>0</td>\n",
       "      <td>0</td>\n",
       "      <td>...</td>\n",
       "      <td>0</td>\n",
       "      <td>1</td>\n",
       "      <td>0</td>\n",
       "      <td>1</td>\n",
       "      <td>0.0</td>\n",
       "      <td>1</td>\n",
       "      <td>0</td>\n",
       "      <td>0</td>\n",
       "      <td>0.257237</td>\n",
       "      <td>86.421008</td>\n",
       "    </tr>\n",
       "  </tbody>\n",
       "</table>\n",
       "<p>481299 rows × 30 columns</p>\n",
       "</div>"
      ],
      "text/plain": [
       "        Unnamed: 0  balls  strikes  on_1b  outs_when_up  inning  pitch  1  2  \\\n",
       "0                0    3.0      2.0    0.0           2.0     9.0      2  0  1   \n",
       "1                1    3.0      2.0    0.0           2.0     9.0      3  0  1   \n",
       "2                2    2.0      2.0    0.0           2.0     9.0      3  0  1   \n",
       "3                3    2.0      1.0    0.0           2.0     9.0      3  0  1   \n",
       "4                4    1.0      1.0    0.0           2.0     9.0      2  0  0   \n",
       "...            ...    ...      ...    ...           ...     ...    ... .. ..   \n",
       "484312      484312    0.0      0.0    0.0           2.0     5.0      3  0  0   \n",
       "484313      484313    1.0      0.0    1.0           1.0     4.0      3  1  0   \n",
       "484314      484314    0.0      0.0    1.0           1.0     4.0      1  0  0   \n",
       "484315      484315    0.0      1.0    1.0           0.0     2.0      1  0  0   \n",
       "484316      484316    0.0      0.0    1.0           0.0     2.0      3  0  0   \n",
       "\n",
       "        3  ...  of_fielding_alignment_4th outfielder  \\\n",
       "0       5  ...                                     0   \n",
       "1       4  ...                                     0   \n",
       "2       3  ...                                     0   \n",
       "3       2  ...                                     0   \n",
       "4       2  ...                                     0   \n",
       "...    ..  ...                                   ...   \n",
       "484312  0  ...                                     0   \n",
       "484313  0  ...                                     0   \n",
       "484314  0  ...                                     0   \n",
       "484315  1  ...                                     0   \n",
       "484316  0  ...                                     0   \n",
       "\n",
       "        of_fielding_alignment_Standard  Starting_Pitcher  risp  run_diff  \\\n",
       "0                                    1                 0     0       4.0   \n",
       "1                                    1                 0     0       4.0   \n",
       "2                                    1                 0     0       4.0   \n",
       "3                                    1                 0     0       4.0   \n",
       "4                                    1                 0     0       4.0   \n",
       "...                                ...               ...   ...       ...   \n",
       "484312                               1                 0     0       3.0   \n",
       "484313                               1                 0     0      -2.0   \n",
       "484314                               1                 0     0      -2.0   \n",
       "484315                               1                 0     1       0.0   \n",
       "484316                               1                 0     1       0.0   \n",
       "\n",
       "        inning_topbot_Top  previous_type_B  previous_type_S  woba_value_y  \\\n",
       "0                       0                0                1      0.366304   \n",
       "1                       0                1                0      0.366304   \n",
       "2                       0                0                1      0.366304   \n",
       "3                       0                1                0      0.366304   \n",
       "4                       0                0                1      0.366304   \n",
       "...                   ...              ...              ...           ...   \n",
       "484312                  1                0                0      0.266270   \n",
       "484313                  1                1                0      0.257237   \n",
       "484314                  1                0                0      0.257237   \n",
       "484315                  1                0                1      0.257237   \n",
       "484316                  1                0                0      0.257237   \n",
       "\n",
       "        launch_speed  \n",
       "0          90.160819  \n",
       "1          90.160819  \n",
       "2          90.160819  \n",
       "3          90.160819  \n",
       "4          90.160819  \n",
       "...              ...  \n",
       "484312     88.245098  \n",
       "484313     86.421008  \n",
       "484314     86.421008  \n",
       "484315     86.421008  \n",
       "484316     86.421008  \n",
       "\n",
       "[481299 rows x 30 columns]"
      ]
     },
     "execution_count": 4,
     "metadata": {},
     "output_type": "execute_result"
    }
   ],
   "source": [
    "y.value_counts(normalize=True)"
   ]
  },
  {
   "cell_type": "code",
   "execution_count": null,
   "metadata": {},
   "outputs": [],
   "source": [
    "X_train, X_test, y_train, y_test = train_test_split(X, y, test_size=0.25, \n",
    "                                                    random_state=16, stratify=y)"
   ]
  },
  {
   "cell_type": "code",
   "execution_count": null,
   "metadata": {},
   "outputs": [],
   "source": []
  },
  {
   "cell_type": "code",
   "execution_count": null,
   "metadata": {},
   "outputs": [],
   "source": [
    "# Random Forest does not require standardization\n",
    "pipe = Pipeline([\n",
    "    ('rf', RandomForestClassifier(random_state=16))\n",
    "])"
   ]
  },
  {
   "cell_type": "markdown",
   "metadata": {},
   "source": [
    "Gridsearched over many parameters over the course of a week:\n",
    "\n",
    "params = {\n",
    "    'rf__n_estimators': [250, 500],\n",
    "    'rf__max_depth': [10, 25, 50],\n",
    "    'rf__class_weight': ['balanced'],\n",
    "    'rf__min_samples_split': [2, 20, 40]\n",
    "    'rf__min_samples_split': [250, 500, 1000],\n",
    "    'rf__min_weight_fraction_leaf': [0.12],\n",
    "    'rf__max_features': [0.33, 0.5],\n",
    "    'rf__min_impurity_decrease': [0, 0.1],\n",
    "    'rf__ccp_alpha': [0.005, 0.05, 0.1],\n",
    "    'rf__max_samples': [None, 100_000, 250_000],\n",
    "    'rf__validation_fraction': [0.2]\n",
    "    'n_iter_no_change': [2, 10]\n",
    "}\n",
    "\n",
    "\n",
    "I found that parameters that reduced variance error also brought my accuracy far below the baseline. Therefore, I made the conscious decision to overfit my model in order to obtain the best accuracy score for a pitcher who relies on a fastball most of the time. My logistic regression was able to account for pitchers with a more even mix, so I wanted to have a model that best fit a fastball-reliant pitcher. \n"
   ]
  },
  {
   "cell_type": "code",
   "execution_count": null,
   "metadata": {},
   "outputs": [],
   "source": [
    "params = {\n",
    "    'rf__n_estimators': [300],\n",
    "    'rf__max_depth': [None],\n",
    "    'rf__class_weight': ['balanced'],\n",
    "    'rf__min_samples_split': [2],\n",
    "    'rf__min_samples_leaf': [1],\n",
    "    'rf__max_features': [0.33, 0.5],\n",
    "    'rf__max_samples': [None],\n",
    "}"
   ]
  },
  {
   "cell_type": "code",
   "execution_count": null,
   "metadata": {},
   "outputs": [],
   "source": [
    "grid = GridSearchCV(pipe, params, cv = 5,\n",
    "                    scoring = 'accuracy', verbose = 0, n_jobs=-1)\n",
    "\n",
    "grid.fit(X_train, y_train)"
   ]
  },
  {
   "cell_type": "code",
   "execution_count": null,
   "metadata": {},
   "outputs": [],
   "source": [
    "grid.score(X_train, y_train)\n",
    "# Accuracy score: 0.9998033099336794"
   ]
  },
  {
   "cell_type": "markdown",
   "metadata": {},
   "source": [
    "![figure-1](../files/rf-mc-accuracy-precision.png)"
   ]
  },
  {
   "cell_type": "markdown",
   "metadata": {},
   "source": [
    "![figure-1](../files/download-4.png)"
   ]
  },
  {
   "cell_type": "markdown",
   "metadata": {},
   "source": [
    "![figure-1](../files/download-5.png)"
   ]
  },
  {
   "cell_type": "code",
   "execution_count": null,
   "metadata": {},
   "outputs": [],
   "source": []
  },
  {
   "cell_type": "markdown",
   "metadata": {},
   "source": [
    "Binary Classification "
   ]
  },
  {
   "cell_type": "code",
   "execution_count": null,
   "metadata": {},
   "outputs": [],
   "source": [
    "binary_df"
   ]
  },
  {
   "cell_type": "code",
   "execution_count": null,
   "metadata": {},
   "outputs": [],
   "source": [
    "X_2 = binary_df.drop(columns=['pitch'])\n",
    "y_2 = binary_df['pitch']"
   ]
  },
  {
   "cell_type": "code",
   "execution_count": null,
   "metadata": {},
   "outputs": [],
   "source": [
    "X_train_2, X_test_2, y_train_2, y_test_2 = train_test_split(X_2, y_2, test_size=0.25, \n",
    "                                                    random_state=16, stratify=y)"
   ]
  },
  {
   "cell_type": "code",
   "execution_count": null,
   "metadata": {},
   "outputs": [],
   "source": [
    "grid_2 = GridSearchCV(pipe, params, cv = 5,\n",
    "                    scoring = 'accuracy', verbose = 1, n_jobs = -1)\n",
    "\n",
    "grid_2.fit(X_train_2, y_train_2)"
   ]
  },
  {
   "cell_type": "code",
   "execution_count": null,
   "metadata": {},
   "outputs": [],
   "source": [
    "grid_2.score(X_train_2, y_train_2)\n",
    "# score 0.9998088504989279"
   ]
  },
  {
   "cell_type": "code",
   "execution_count": null,
   "metadata": {},
   "outputs": [],
   "source": [
    "binary_classification_metrics(grid_2, X_test_2, y_test_2)"
   ]
  },
  {
   "cell_type": "markdown",
   "metadata": {},
   "source": [
    "![figure-1](../files/rf-binary.png)"
   ]
  },
  {
   "cell_type": "markdown",
   "metadata": {},
   "source": [
    "![figure-1](../files/download-6.png)"
   ]
  },
  {
   "cell_type": "markdown",
   "metadata": {},
   "source": [
    "![figure-1](../files/download-7.png)"
   ]
  },
  {
   "cell_type": "code",
   "execution_count": null,
   "metadata": {},
   "outputs": [],
   "source": []
  }
 ],
 "metadata": {
  "kernelspec": {
   "display_name": "Python 3",
   "language": "python",
   "name": "python3"
  },
  "language_info": {
   "codemirror_mode": {
    "name": "ipython",
    "version": 3
   },
   "file_extension": ".py",
   "mimetype": "text/x-python",
   "name": "python",
   "nbconvert_exporter": "python",
   "pygments_lexer": "ipython3",
   "version": "3.8.5"
  }
 },
 "nbformat": 4,
 "nbformat_minor": 4
}
