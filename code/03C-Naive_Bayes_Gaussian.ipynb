{
 "cells": [
  {
   "cell_type": "code",
   "execution_count": 24,
   "metadata": {
    "ExecuteTime": {
     "end_time": "2021-03-13T03:54:23.319065Z",
     "start_time": "2021-03-13T03:54:23.287197Z"
    }
   },
   "outputs": [],
   "source": [
    "import pandas as pd\n",
    "import numpy as np\n",
    "import matplotlib.pyplot as plt\n",
    "import seaborn as sns\n",
    "import random\n",
    "\n",
    "from sklearn.naive_bayes import GaussianNB\n",
    "from sklearn.preprocessing import MinMaxScaler\n",
    "from sklearn.model_selection import train_test_split, GridSearchCV\n",
    "from sklearn.utils import compute_sample_weight, compute_class_weight"
   ]
  },
  {
   "cell_type": "code",
   "execution_count": 58,
   "metadata": {
    "ExecuteTime": {
     "end_time": "2021-03-13T15:56:18.964655Z",
     "start_time": "2021-03-13T15:56:16.786827Z"
    }
   },
   "outputs": [],
   "source": [
    "df = pd.read_csv('../../clean_2019.csv')"
   ]
  },
  {
   "cell_type": "code",
   "execution_count": 59,
   "metadata": {
    "ExecuteTime": {
     "end_time": "2021-03-13T15:56:19.097607Z",
     "start_time": "2021-03-13T15:56:18.994098Z"
    }
   },
   "outputs": [
    {
     "data": {
      "text/plain": [
       "Unnamed: 0                                 0\n",
       "balls                                      0\n",
       "strikes                                    0\n",
       "on_1b                                      1\n",
       "outs_when_up                               0\n",
       "inning                                     0\n",
       "pitch                                      0\n",
       "1                                          0\n",
       "2                                          0\n",
       "3                                          0\n",
       "pitch_2                                    0\n",
       "pitch_3                                    0\n",
       "previous_pitch                             1\n",
       "previous_zone                           3018\n",
       "previous_hitter_woba                       0\n",
       "extra_innings                              0\n",
       "stand_R                                    0\n",
       "p_throws_R                                 0\n",
       "if_fielding_alignment_Infield shift        0\n",
       "if_fielding_alignment_Standard             0\n",
       "of_fielding_alignment_4th outfielder       0\n",
       "of_fielding_alignment_Standard             0\n",
       "Starting_Pitcher                           0\n",
       "risp                                       0\n",
       "run_diff                                   0\n",
       "inning_topbot_Top                          0\n",
       "previous_type_B                            0\n",
       "previous_type_S                            0\n",
       "woba_value_y                               0\n",
       "launch_speed                               0\n",
       "dtype: int64"
      ]
     },
     "execution_count": 59,
     "metadata": {},
     "output_type": "execute_result"
    }
   ],
   "source": [
    "df.isna().sum()"
   ]
  },
  {
   "cell_type": "code",
   "execution_count": 60,
   "metadata": {
    "ExecuteTime": {
     "end_time": "2021-03-13T15:56:19.380017Z",
     "start_time": "2021-03-13T15:56:19.125425Z"
    }
   },
   "outputs": [],
   "source": [
    "df.dropna(inplace=True)"
   ]
  },
  {
   "cell_type": "code",
   "execution_count": 61,
   "metadata": {
    "ExecuteTime": {
     "end_time": "2021-03-13T15:56:19.445548Z",
     "start_time": "2021-03-13T15:56:19.390682Z"
    }
   },
   "outputs": [],
   "source": [
    "X = df.drop(columns=['Unnamed: 0','pitch'])\n",
    "y = df['pitch']"
   ]
  },
  {
   "cell_type": "code",
   "execution_count": null,
   "metadata": {},
   "outputs": [],
   "source": []
  },
  {
   "cell_type": "code",
   "execution_count": 62,
   "metadata": {
    "ExecuteTime": {
     "end_time": "2021-03-13T15:56:20.876846Z",
     "start_time": "2021-03-13T15:56:20.236446Z"
    }
   },
   "outputs": [],
   "source": [
    "X_train, X_test, y_train, y_test = train_test_split(X, y, test_size=0.25, \n",
    "                                                    random_state=16, stratify=y)"
   ]
  },
  {
   "cell_type": "code",
   "execution_count": 63,
   "metadata": {
    "ExecuteTime": {
     "end_time": "2021-03-13T15:56:21.108316Z",
     "start_time": "2021-03-13T15:56:20.895141Z"
    }
   },
   "outputs": [],
   "source": [
    "class_weight_arr = compute_class_weight(class_weight='balanced', classes=np.unique(y_train), y = y_train)\n",
    "\n",
    "keys = [i for i in range(1,4)]\n",
    "class_weights = dict(zip(keys, class_weight_arr))\n",
    "\n",
    "weight = compute_sample_weight(class_weight=class_weights, y=y_train)"
   ]
  },
  {
   "cell_type": "code",
   "execution_count": 64,
   "metadata": {
    "ExecuteTime": {
     "end_time": "2021-03-13T15:56:22.010177Z",
     "start_time": "2021-03-13T15:56:21.607894Z"
    }
   },
   "outputs": [],
   "source": [
    "mm = MinMaxScaler()\n",
    "\n",
    "X_train_mm = mm.fit_transform(X_train)\n",
    "X_test_mm = mm.transform(X_test)"
   ]
  },
  {
   "cell_type": "code",
   "execution_count": 65,
   "metadata": {
    "ExecuteTime": {
     "end_time": "2021-03-13T15:56:22.315989Z",
     "start_time": "2021-03-13T15:56:22.303582Z"
    }
   },
   "outputs": [],
   "source": [
    "clf = GaussianNB()"
   ]
  },
  {
   "cell_type": "code",
   "execution_count": 66,
   "metadata": {
    "ExecuteTime": {
     "end_time": "2021-03-13T15:56:22.948024Z",
     "start_time": "2021-03-13T15:56:22.910713Z"
    }
   },
   "outputs": [
    {
     "data": {
      "text/plain": [
       "0"
      ]
     },
     "execution_count": 66,
     "metadata": {},
     "output_type": "execute_result"
    }
   ],
   "source": [
    "np.isinf(X_train_mm).sum() "
   ]
  },
  {
   "cell_type": "code",
   "execution_count": 67,
   "metadata": {
    "ExecuteTime": {
     "end_time": "2021-03-13T15:56:23.082683Z",
     "start_time": "2021-03-13T15:56:23.072243Z"
    }
   },
   "outputs": [
    {
     "data": {
      "text/plain": [
       "0"
      ]
     },
     "execution_count": 67,
     "metadata": {},
     "output_type": "execute_result"
    }
   ],
   "source": [
    "np.isinf(y_train).sum() "
   ]
  },
  {
   "cell_type": "code",
   "execution_count": 68,
   "metadata": {
    "ExecuteTime": {
     "end_time": "2021-03-13T15:56:23.207916Z",
     "start_time": "2021-03-13T15:56:23.197704Z"
    }
   },
   "outputs": [
    {
     "data": {
      "text/plain": [
       "0"
      ]
     },
     "execution_count": 68,
     "metadata": {},
     "output_type": "execute_result"
    }
   ],
   "source": [
    "np.isinf(weight).sum() "
   ]
  },
  {
   "cell_type": "code",
   "execution_count": 69,
   "metadata": {
    "ExecuteTime": {
     "end_time": "2021-03-13T15:56:23.872266Z",
     "start_time": "2021-03-13T15:56:23.374323Z"
    }
   },
   "outputs": [
    {
     "data": {
      "text/plain": [
       "GaussianNB()"
      ]
     },
     "execution_count": 69,
     "metadata": {},
     "output_type": "execute_result"
    }
   ],
   "source": [
    "clf.fit(X_train_mm, y_train, weight)"
   ]
  },
  {
   "cell_type": "code",
   "execution_count": 70,
   "metadata": {
    "ExecuteTime": {
     "end_time": "2021-03-13T15:56:24.099708Z",
     "start_time": "2021-03-13T15:56:23.967544Z"
    }
   },
   "outputs": [
    {
     "data": {
      "text/plain": [
       "0.3459630168294203"
      ]
     },
     "execution_count": 70,
     "metadata": {},
     "output_type": "execute_result"
    }
   ],
   "source": [
    "clf.score(X_test_mm, y_test)"
   ]
  },
  {
   "cell_type": "code",
   "execution_count": 71,
   "metadata": {
    "ExecuteTime": {
     "end_time": "2021-03-13T15:56:25.362247Z",
     "start_time": "2021-03-13T15:56:25.036004Z"
    }
   },
   "outputs": [
    {
     "data": {
      "text/plain": [
       "0.3456564738734646"
      ]
     },
     "execution_count": 71,
     "metadata": {},
     "output_type": "execute_result"
    }
   ],
   "source": [
    "clf.score(X_train_mm, y_train)"
   ]
  },
  {
   "cell_type": "code",
   "execution_count": null,
   "metadata": {},
   "outputs": [],
   "source": []
  }
 ],
 "metadata": {
  "kernelspec": {
   "display_name": "Python 3",
   "language": "python",
   "name": "python3"
  },
  "language_info": {
   "codemirror_mode": {
    "name": "ipython",
    "version": 3
   },
   "file_extension": ".py",
   "mimetype": "text/x-python",
   "name": "python",
   "nbconvert_exporter": "python",
   "pygments_lexer": "ipython3",
   "version": "3.8.5"
  }
 },
 "nbformat": 4,
 "nbformat_minor": 4
}
