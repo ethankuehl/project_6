{
 "cells": [
  {
   "cell_type": "markdown",
   "metadata": {},
   "source": [
    "# Recommendations and Conclusions"
   ]
  },
  {
   "cell_type": "markdown",
   "metadata": {},
   "source": [
    "## Would not Rely on Multiclass Model\n",
    "\n",
    "1. All of the models are within error of the baseline and do not accurately predict the changeup. Therefore, I would recommend investing more in the models predicting binary \"offspeed\" or \"fastball\" initially before investing more heavily into the multiclass models.   \n",
    "\n",
    "2. The Houston Astros cheating scandal only relayed whether the next pitch was going to be a fastball or offspeed pitch. Therefore, there is a clear advantage gained from even having that level of distinction for the hitter. "
   ]
  },
  {
   "cell_type": "markdown",
   "metadata": {},
   "source": [
    "## Best Models for Various Scenarios\n",
    "\n",
    "**Binary labels**\n",
    "1. Pitcher throws more offspeed and/ or might not have overpowering fastball\n",
    "    * For this scenario I would recommend my logistic regression model that is dummied and grid searches for the weighted F1 metric. This model reduces the false positives caused by over-predicting fastballs. However, as a result, it also has more false negatives (offspeed label when should have been fastball label). Therefore, this model would be more useful against a pitcher who relies on his fastball less. \n",
    "    \n",
    "    \n",
    "2. Pitcher that Relies Heavily on Fastballs\n",
    "    * The random forest model has the highest accuracy and a higher F1 score than the logistic regression with the next nearest accuracy. Therefore, I would recommend the random forest model to best describe the scenario where the pitcher throws a high proportion of fastballs. "
   ]
  },
  {
   "cell_type": "markdown",
   "metadata": {},
   "source": [
    "## Next Steps and Future Work\n",
    "\n",
    "In the future, I hope to capture more granular trends when predicting a pitch. \n",
    "* Need to account for how pitcher last pitched against the team he is currently facing.\n",
    "    * Divisional opponents play each other frequently and therefore the pitcher has to mix up the pitches he throws to batters in consecutive outings. \n",
    "    * Specific data about how the batter hit against certain pitches in the pitcher's arsenal the last time they played.\n",
    "* Create team models, or get even more granular and build models for specific pitchers. \n",
    "    * Use these models as the basis for transfer learning or just have useful models for frequently faced pitchers (divisional opponents)\n",
    "* Create many small models to predict a pitch in certain situations (for example, build model specific to 2 strike count with runners in scoring position)\n",
    "* Account for pitcher hot streaks\n",
    "    * Pitcher mentality is a huge facet of their confidence in throwing certain pitches. Therefore, if a pitcher has been accurate and performing well over the previous few games, he will have the confidence to mix up his pitch sequences more. \n",
    "* Account for catcher calling pitches\n",
    "    * Certain catchers might have tendencies for calling for certain pitches in a specific situation. Maybe can pick up a signal on catcher influence\n",
    "* Account for weather\n",
    "    * Having a solid grip on the ball is incredibly important when deciding which pitch to throw. Therefore, need to account for weather conditions and possibly even stadium influences (is it a pitcher's park) that would help generate more signal in my data. \n"
   ]
  }
 ],
 "metadata": {
  "kernelspec": {
   "display_name": "Python 3",
   "language": "python",
   "name": "python3"
  },
  "language_info": {
   "codemirror_mode": {
    "name": "ipython",
    "version": 3
   },
   "file_extension": ".py",
   "mimetype": "text/x-python",
   "name": "python",
   "nbconvert_exporter": "python",
   "pygments_lexer": "ipython3",
   "version": "3.8.5"
  }
 },
 "nbformat": 4,
 "nbformat_minor": 4
}
