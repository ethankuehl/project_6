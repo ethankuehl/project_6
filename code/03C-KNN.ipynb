{
 "cells": [
  {
   "cell_type": "code",
   "execution_count": 1,
   "metadata": {
    "ExecuteTime": {
     "end_time": "2021-03-12T17:26:50.894653Z",
     "start_time": "2021-03-12T17:26:47.341300Z"
    }
   },
   "outputs": [
    {
     "name": "stderr",
     "output_type": "stream",
     "text": [
      "<frozen importlib._bootstrap>:219: RuntimeWarning: numpy.ufunc size changed, may indicate binary incompatibility. Expected 192 from C header, got 216 from PyObject\n",
      "<frozen importlib._bootstrap>:219: RuntimeWarning: numpy.ufunc size changed, may indicate binary incompatibility. Expected 192 from C header, got 216 from PyObject\n",
      "<frozen importlib._bootstrap>:219: RuntimeWarning: numpy.ufunc size changed, may indicate binary incompatibility. Expected 192 from C header, got 216 from PyObject\n"
     ]
    }
   ],
   "source": [
    "import pandas as pd\n",
    "import numpy as np\n",
    "import matplotlib.pyplot as plt\n",
    "import seaborn as sns\n",
    "import random\n",
    "\n",
    "from sklearn.model_selection import train_test_split\n",
    "from sklearn.neighbors import KNeighborsClassifier\n",
    "from sklearn.pipeline import Pipeline\n",
    "from sklearn.model_selection import train_test_split, GridSearchCV\n",
    "from sklearn.metrics import mean_squared_error, f1_score\n",
    "from sklearn.preprocessing import MinMaxScaler\n",
    "import sklearn.metrics as metrics"
   ]
  },
  {
   "cell_type": "code",
   "execution_count": null,
   "metadata": {},
   "outputs": [],
   "source": [
    "random.seed(16)"
   ]
  },
  {
   "cell_type": "code",
   "execution_count": null,
   "metadata": {},
   "outputs": [],
   "source": [
    "def plot_multiclass_roc(clf, X_test, y_test, n_classes, figsize=(17, 6)):\n",
    "    \n",
    "    y_score = clf.predict_proba(X_test)\n",
    "\n",
    "    # structures\n",
    "    fpr = dict()\n",
    "    tpr = dict()\n",
    "    #hpr = dict()\n",
    "    roc_auc = dict()\n",
    "\n",
    "    # calculate dummies once\n",
    "    y_test_dummies = pd.get_dummies(y_test, drop_first=False).values\n",
    "    y_test_columns = ['Fastball', 'Breaking Ball', 'Changeup']\n",
    "    \n",
    "    \n",
    "    for i in range(n_classes):\n",
    "        fpr[i], tpr[i], _ = metrics.roc_curve(y_test_dummies[:, i], y_score[:, i])\n",
    "        roc_auc[i] = metrics.auc(fpr[i], tpr[i])\n",
    "\n",
    "    # roc for each class\n",
    "    fig, ax = plt.subplots(figsize=figsize)\n",
    "    ax.plot([0, 1], [0, 1], 'k--')\n",
    "    ax.set_xlim([0.0, 1.0])\n",
    "    ax.set_ylim([0.0, 1.05])\n",
    "    ax.set_xlabel('False Positive Rate')\n",
    "    ax.set_ylabel('True Positive Rate')\n",
    "    ax.set_title('Receiver operating characteristic example')\n",
    "    for i in range(n_classes):\n",
    "        ax.plot(fpr[i], tpr[i], label='ROC curve (area = %0.2f) for %s' % (roc_auc[i], y_test_columns[i])) #% (roc_auc[i], i))\n",
    "    ax.legend(loc=\"best\")\n",
    "    ax.grid(alpha=.4)\n",
    "    sns.despine()\n",
    "    plt.show()"
   ]
  },
  {
   "cell_type": "code",
   "execution_count": null,
   "metadata": {},
   "outputs": [],
   "source": [
    "def multiclass_classification_metrics(gs, X_test, y_test):\n",
    "    \n",
    "    y_hat = gs.predict(X_test)\n",
    "    accuracy = metrics.accuracy_score(y_test, y_hat)\n",
    "\n",
    "    #specificity = true negative/(true neagtive +false positive)\n",
    "    specificity = 1984/(1984+21) \n",
    "\n",
    "    sensitivity =  metrics.recall_score(y_test, y_hat, average='macro')\n",
    "\n",
    "    precision = metrics.precision_score(y_test, y_hat, average='macro')\n",
    "\n",
    "    f1 = metrics.f1_score(y_test, y_hat, average='macro')\n",
    "    \n",
    "    \n",
    "    print('My accuracy is: ', round(accuracy,4))\n",
    "    print('My specificity is: ', round(specificity, 4))\n",
    "    print('My sensitivity is: ', round(sensitivity,4))\n",
    "    print('My precision is: ', round(precision,4))\n",
    "    print('My f1 score is: ', round(precision,4))\n",
    "    \n",
    "#     cm = np.array([['True Negative', 'False Positive'],\n",
    "#                             ['False Negative', 'True Positive']])\n",
    "\n",
    "#     cm = pd.DataFrame(cm,columns = ['Pred Offspeed', 'Pred Fastball'], \n",
    "#                       index = ['Actual Offspeed','Actual Fastball'])\n",
    "    \n",
    "    # Displaying sample confusion matrix\n",
    "#     display(cm)\n",
    "\n",
    "    # Displaying actual confusion matrix \n",
    "    metrics.plot_confusion_matrix(gs, X_test, y_test, cmap='Accent', \n",
    "                          values_format='d', display_labels=[ 'Change-up',\n",
    "                                                              'Breaking Ball', \n",
    "                                                             'Fastball']);\n",
    "    \n",
    "    plot_multiclass_roc(gs, X_test, y_test, 3, figsize=(17, 6))"
   ]
  },
  {
   "cell_type": "code",
   "execution_count": null,
   "metadata": {},
   "outputs": [],
   "source": [
    "def binary_classification_metrics(gs, X_test, y_test):\n",
    "    \n",
    "    y_hat = gs.predict(X_test)\n",
    "    accuracy = metrics.accuracy_score(y_test, y_hat)\n",
    "\n",
    "    #specificity = true negative/(true neagtive +false positive)\n",
    "    specificity = 1984/(1984+21) \n",
    "\n",
    "    sensitivity =  metrics.recall_score(y_test, y_hat)\n",
    "\n",
    "    precision = metrics.precision_score(y_test, y_hat)\n",
    "\n",
    "    f1 = metrics.f1_score(y_test, y_hat)\n",
    "    print('My accuracy is: ', round(accuracy,4))\n",
    "    print('My specificity is: ', round(specificity, 4))\n",
    "    print('My sensitivity is: ', round(sensitivity,4))\n",
    "    print('My precision is: ', round(precision,4))\n",
    "    print('My f1 score is: ', round(precision,4))\n",
    "    \n",
    "    cm = np.array([['True Negative', 'False Positive'],\n",
    "                            ['False Negative', 'True Positive']])\n",
    "\n",
    "    cm = pd.DataFrame(cm,columns = ['Pred Offspeed', 'Pred Fastball'], \n",
    "                      index = ['Actual Offspeed','Actual Fastball'])\n",
    "    \n",
    "    # Displaying sample confusion matrix\n",
    "    display(cm)\n",
    "\n",
    "    # Displaying actual confusion matrix \n",
    "    metrics.plot_confusion_matrix(gs, X_test, y_test, cmap='Accent', \n",
    "                          values_format='d', display_labels=['Offspeed Pitch', \n",
    "                                                             'Fastball Pitch']);\n",
    "    \n",
    "    metrics.plot_roc_curve(gs, X_test, y_test)\n",
    "    # add worst case scenario line\n",
    "    plt.plot([0, 1], [0, 1])\n",
    "    plt.title('ROC AUC Curve');\n",
    "    \n",
    "    return f'My ROC AUC score is: {metrics.roc_auc_score(y_test, y_hat)}'"
   ]
  },
  {
   "cell_type": "code",
   "execution_count": null,
   "metadata": {},
   "outputs": [],
   "source": [
    "df = pd.read_csv(pd.read_csv('../../clean_2019_3.csv'))"
   ]
  },
  {
   "cell_type": "markdown",
   "metadata": {},
   "source": [
    "## Dummy Independent Variables\n",
    "\n",
    "Logistic regression performed better with dummy variables, therefore I wanted to perform my KNN model with the same dummy variables"
   ]
  },
  {
   "cell_type": "code",
   "execution_count": null,
   "metadata": {},
   "outputs": [],
   "source": [
    "df = pd.get_dummies(data=df, columns=['balls', 'strikes', 'outs_when_up',\n",
    "                                           'inning', 'previous_pitch', \n",
    "                                            'previous_zone'], drop_first=True)"
   ]
  },
  {
   "cell_type": "code",
   "execution_count": null,
   "metadata": {},
   "outputs": [],
   "source": [
    "df.isna().sum()"
   ]
  },
  {
   "cell_type": "code",
   "execution_count": null,
   "metadata": {},
   "outputs": [],
   "source": [
    "X_train, X_test, y_train, y_test = train_test_split(X, y, test_size=0.2, \n",
    "                                                    random_state=16, stratify=y)"
   ]
  },
  {
   "cell_type": "code",
   "execution_count": null,
   "metadata": {},
   "outputs": [],
   "source": [
    "knn_pipe = Pipeline([\n",
    "    ('mm', MinMaxScaler()),\n",
    "    ('knn', KNeighborsClassifier())\n",
    "    #'knn_c', KNeighborsClassifier())\n",
    "])\n",
    "\n",
    "knn_params = {\n",
    "    'knn__algorithm': ['brute'],\n",
    "    'knn__n_neighbors': [250, 500],\n",
    "    'knn__weights': ['uniform'],\n",
    "    'knn__p':[1,2]\n",
    "}\n",
    "\n",
    "knn_gridsearch = GridSearchCV(knn_pipe, knn_params, cv=5, verbose=0, n_jobs=-1)\n",
    "knn_gridsearch.fit(X_train, y_train)"
   ]
  },
  {
   "cell_type": "markdown",
   "metadata": {},
   "source": [
    "Best params:\n",
    "{'knn__algorithm': 'brute',\n",
    " 'knn__n_neighbors': 250,\n",
    " 'knn__p': 1,\n",
    " 'knn__weights': 'uniform'}"
   ]
  },
  {
   "cell_type": "code",
   "execution_count": null,
   "metadata": {},
   "outputs": [],
   "source": [
    "knn_gridsearch = GridSearchCV(knn_pipe, knn_params, cv=3, verbose=1, n_jobs=-1, scoring='accuracy')\n",
    "knn_gridsearch.fit(X_train, y_train)"
   ]
  },
  {
   "cell_type": "code",
   "execution_count": null,
   "metadata": {},
   "outputs": [],
   "source": [
    "multiclass_classification_metrics(knn_gridsearch, X_test, y_test)"
   ]
  },
  {
   "cell_type": "markdown",
   "metadata": {
    "ExecuteTime": {
     "end_time": "2021-03-17T15:34:47.901636Z",
     "start_time": "2021-03-17T15:34:47.761787Z"
    }
   },
   "source": [
    "![figure-2](../files/MC-KNN-accuracy-precision.png)"
   ]
  },
  {
   "cell_type": "markdown",
   "metadata": {
    "ExecuteTime": {
     "end_time": "2021-03-17T15:35:36.371561Z",
     "start_time": "2021-03-17T15:35:36.237082Z"
    }
   },
   "source": [
    "![figure-1](../files/download.png)"
   ]
  },
  {
   "cell_type": "markdown",
   "metadata": {},
   "source": [
    "\n",
    "\n",
    "![figure-1](../files/download-1.png)\n"
   ]
  },
  {
   "cell_type": "code",
   "execution_count": null,
   "metadata": {},
   "outputs": [],
   "source": [
    "knn_gridsearch.score(X_train, y_train)\n",
    "# Value is 0.5888401934765385"
   ]
  },
  {
   "cell_type": "markdown",
   "metadata": {},
   "source": [
    "## Binary Classification "
   ]
  },
  {
   "cell_type": "code",
   "execution_count": null,
   "metadata": {},
   "outputs": [],
   "source": [
    "binary_df = pd.read_csv('../../clean_2019_binary_2.csv')"
   ]
  },
  {
   "cell_type": "code",
   "execution_count": null,
   "metadata": {},
   "outputs": [],
   "source": [
    "binary_df = pd.get_dummies(data=binary_df, columns=['balls', 'strikes', 'outs_when_up',\n",
    "                                           'inning', 'previous_pitch', \n",
    "                                            'previous_zone'], drop_first=True)"
   ]
  },
  {
   "cell_type": "code",
   "execution_count": null,
   "metadata": {},
   "outputs": [],
   "source": [
    "X_2 = binary_df.drop(columns='pitch')\n",
    "y_2 = binary_df['pitch']"
   ]
  },
  {
   "cell_type": "code",
   "execution_count": null,
   "metadata": {},
   "outputs": [],
   "source": [
    "X_train_2, X_test_2, y_train_2, y_test_2 = train_test_split(X_2, y_2, test_size=0.25, \n",
    "                                                    random_state=16, stratify=y)"
   ]
  },
  {
   "cell_type": "code",
   "execution_count": null,
   "metadata": {},
   "outputs": [],
   "source": [
    "knn_gridsearch_2 = GridSearchCV(knn_pipe, knn_params, cv=3, verbose=0, n_jobs=-1)\n",
    "knn_gridsearch_2.fit(X_train_2, y_train_2)"
   ]
  },
  {
   "cell_type": "markdown",
   "metadata": {},
   "source": [
    "Best Params:\n",
    "{'knn__algorithm': 'brute',\n",
    " 'knn__n_neighbors': 250,\n",
    " 'knn__p': 1,\n",
    " 'knn__weights': 'uniform'}"
   ]
  },
  {
   "cell_type": "code",
   "execution_count": null,
   "metadata": {},
   "outputs": [],
   "source": [
    "knn_gridsearch_2.score(X_train_2, y_train_2)\n",
    "# Score is 0.6048524270446071"
   ]
  },
  {
   "cell_type": "code",
   "execution_count": null,
   "metadata": {},
   "outputs": [],
   "source": [
    "binary_classification_metrics(knn_gridsearch_2, X_test_2, y_test_2)"
   ]
  },
  {
   "cell_type": "markdown",
   "metadata": {},
   "source": [
    "![figure-2](../files/Binary-accuracy-precision.png) "
   ]
  },
  {
   "cell_type": "markdown",
   "metadata": {},
   "source": [
    "![figure-1](../files/download-2.png)"
   ]
  },
  {
   "cell_type": "markdown",
   "metadata": {
    "ExecuteTime": {
     "end_time": "2021-03-17T16:03:00.687807Z",
     "start_time": "2021-03-17T16:03:00.493008Z"
    }
   },
   "source": [
    "![figure-1](../files/download-3.png)"
   ]
  },
  {
   "cell_type": "code",
   "execution_count": null,
   "metadata": {},
   "outputs": [],
   "source": []
  }
 ],
 "metadata": {
  "kernelspec": {
   "display_name": "Python 3",
   "language": "python",
   "name": "python3"
  },
  "language_info": {
   "codemirror_mode": {
    "name": "ipython",
    "version": 3
   },
   "file_extension": ".py",
   "mimetype": "text/x-python",
   "name": "python",
   "nbconvert_exporter": "python",
   "pygments_lexer": "ipython3",
   "version": "3.8.5"
  }
 },
 "nbformat": 4,
 "nbformat_minor": 4
}
